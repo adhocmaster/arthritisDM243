{
 "cells": [
  {
   "cell_type": "code",
   "execution_count": 1,
   "metadata": {},
   "outputs": [],
   "source": [
    "import time\n",
    "import numpy as np\n",
    "import pandas as pd\n",
    "from os.path import join\n",
    "from sklearn.impute import SimpleImputer\n",
    "from sklearn.ensemble import RandomForestClassifier\n",
    "from sklearn.model_selection import cross_val_score\n",
    "\n",
    "def read_data():\n",
    "    folder = 'data'\n",
    "    df = pd.read_excel(join(folder, '10.25.14 us and uk 900.xlsx'))\n",
    "    # move class to first column\n",
    "    df = df[['[Dx] Diagnosis Chosen'] + [c for c in df if c not in ['[Dx] Diagnosis Chosen']]]  \n",
    "    df['[Dx] Diagnosis Chosen'].fillna('None', inplace=True)  # fill class column Nan with 'None'\n",
    "    df = df.drop('[Initial_Dx] ', 1)  # drop Initial_Dx column\n",
    "    x = df.iloc[:, 1:]\n",
    "    y = df.iloc[:, 0]\n",
    "    return x, y\n",
    "\n",
    "def get_discrete_features(x):\n",
    "    features = list(x.columns.values)\n",
    "    discrete_features = []\n",
    "    for f in features:\n",
    "        if x[f].dtype == np.object:\n",
    "            discrete_features.append(f)\n",
    "    return discrete_features"
   ]
  },
  {
   "cell_type": "code",
   "execution_count": 2,
   "metadata": {},
   "outputs": [
    {
     "name": "stdout",
     "output_type": "stream",
     "text": [
      "accuracy:  0.8318458880707228\n",
      "--- running time: 8.6913 seconds ---\n"
     ]
    }
   ],
   "source": [
    "def preprocess(x, y):  \n",
    "    discrete_features = get_discrete_features(x)\n",
    "    x[discrete_features] = x[discrete_features].astype(str)  # convert dtype 'object' to 'str'\n",
    "    # one hot encoding for categorical feature values\n",
    "    x_dummies = pd.get_dummies(x, columns=discrete_features, dummy_na=True)  \n",
    "    imp_mean = SimpleImputer(missing_values=np.nan, strategy='mean')  # convert NaN to column mean value\n",
    "    x_new = imp_mean.fit_transform(x_dummies)  \n",
    "    return x_new, y\n",
    "start = time.time()\n",
    "x, y = read_data()\n",
    "x_new, y_new = preprocess(x, y)\n",
    "rf = RandomForestClassifier(n_estimators=50, n_jobs=-1)  # n_estimators: # trees, n_jobs -1 all cpu cores\n",
    "accuracy = cross_val_score(rf, x_new, y_new, cv=5, scoring='accuracy')  # k-fold cross validation, k=cv\n",
    "acc = accuracy.mean()\n",
    "print('accuracy: ', acc)\n",
    "print('--- running time: %.4f seconds ---' % (time.time() - start))"
   ]
  },
  {
   "cell_type": "code",
   "execution_count": 3,
   "metadata": {},
   "outputs": [
    {
     "data": {
      "text/plain": [
       "array(['None', 'ankylosing', 'psoriatic', 'rheumatoid', 'sjogren',\n",
       "       'still', 'systemic'], dtype=object)"
      ]
     },
     "execution_count": 3,
     "metadata": {},
     "output_type": "execute_result"
    }
   ],
   "source": [
    "classes = np.unique(y)\n",
    "classes"
   ]
  },
  {
   "cell_type": "markdown",
   "metadata": {},
   "source": [
    "### preprocess dataset"
   ]
  },
  {
   "cell_type": "code",
   "execution_count": 4,
   "metadata": {},
   "outputs": [
    {
     "name": "stdout",
     "output_type": "stream",
     "text": [
      "accuracy:  0.8341065846540815\n",
      "--- running time: 8.6634 seconds ---\n"
     ]
    }
   ],
   "source": [
    "# try different preprocessing\n",
    "def preprocess2(x):\n",
    "    dis_f = get_discrete_features(x)\n",
    "    binary_f = []\n",
    "    for f in dis_f:\n",
    "        if len(x[f].unique()) == 2:\n",
    "            binary_f.append(f)\n",
    "    #for f in binary_f:\n",
    "        #print(x[f].unique())\n",
    "\n",
    "    cleanup_nums = {'[Gender] ':  {\"Male\": 1, \"Female\": 0}}  # binary transform\n",
    "    x.replace(cleanup_nums, inplace=True)\n",
    "    b_to_nums = {'Yes': 1, 'No': 0}  # binary transform\n",
    "    nums = {f:b_to_nums for f in binary_f[1:]}\n",
    "    x.replace(nums, inplace=True)\n",
    "    non_binary = [i for i in dis_f if i not in binary_f]\n",
    "    # convert dtype 'object' to 'str', necessary for get_dummies function\n",
    "    x[non_binary] = x[non_binary].astype(str) \n",
    "    x_dummies = pd.get_dummies(x, columns=non_binary, dummy_na=True)  # one hot encoding\n",
    "    imp_mean = SimpleImputer(missing_values=np.nan, strategy='mean')  # convert NaN to column mean value\n",
    "    x_new = imp_mean.fit_transform(x_dummies)\n",
    "    return x_new\n",
    "\n",
    "start = time.time()\n",
    "x, y = read_data()\n",
    "x_new = preprocess2(x)\n",
    "rf = RandomForestClassifier(n_estimators=50, n_jobs=-1)\n",
    "accuracy = cross_val_score(rf, x_new, y, cv=5, scoring='accuracy')\n",
    "acc = accuracy.mean()\n",
    "print('accuracy: ', acc)\n",
    "print('--- running time: %.4f seconds ---' % (time.time() - start))"
   ]
  },
  {
   "cell_type": "code",
   "execution_count": 5,
   "metadata": {},
   "outputs": [
    {
     "data": {
      "text/plain": [
       "systemic      241\n",
       "rheumatoid    199\n",
       "ankylosing    157\n",
       "sjogren       125\n",
       "psoriatic      93\n",
       "still          66\n",
       "None           19\n",
       "Name: [Dx] Diagnosis Chosen, dtype: int64"
      ]
     },
     "execution_count": 5,
     "metadata": {},
     "output_type": "execute_result"
    }
   ],
   "source": [
    "freq = y.value_counts()\n",
    "freq"
   ]
  },
  {
   "cell_type": "code",
   "execution_count": null,
   "metadata": {},
   "outputs": [],
   "source": []
  }
 ],
 "metadata": {
  "kernelspec": {
   "display_name": "Python 3",
   "language": "python",
   "name": "python3"
  },
  "language_info": {
   "codemirror_mode": {
    "name": "ipython",
    "version": 3
   },
   "file_extension": ".py",
   "mimetype": "text/x-python",
   "name": "python",
   "nbconvert_exporter": "python",
   "pygments_lexer": "ipython3",
   "version": "3.7.5"
  }
 },
 "nbformat": 4,
 "nbformat_minor": 4
}
