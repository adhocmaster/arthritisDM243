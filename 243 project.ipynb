{
 "cells": [
  {
   "cell_type": "code",
   "execution_count": 32,
   "metadata": {},
   "outputs": [],
   "source": [
    "import time\n",
    "import numpy as np\n",
    "import pandas as pd\n",
    "from os.path import join\n",
    "from sklearn.impute import SimpleImputer\n",
    "from sklearn.ensemble import RandomForestClassifier\n",
    "from sklearn.model_selection import cross_val_score\n",
    "\n",
    "folder = 'data'\n",
    "df = pd.read_excel(join(folder, '10.25.14 us and uk 900.xlsx'))\n",
    "df = df[['[Dx] Diagnosis Chosen'] + [c for c in df if c not in ['[Dx] Diagnosis Chosen']]]  # move class to first column\n",
    "df['[Dx] Diagnosis Chosen'].fillna('None', inplace=True)  # fill class column Nan with 'None'\n",
    "df = df.drop('[Initial_Dx] ', 1)  # drop Initial_Dx column\n",
    "x = df.iloc[:, 1:]\n",
    "y = df.iloc[:, 0]\n",
    "#df.head()\n",
    "#df.columns"
   ]
  },
  {
   "cell_type": "code",
   "execution_count": 33,
   "metadata": {},
   "outputs": [
    {
     "name": "stdout",
     "output_type": "stream",
     "text": [
      "accuracy:  0.8250532452427025\n",
      "--- running time: 1.1451 seconds ---\n"
     ]
    }
   ],
   "source": [
    "def preprocess(x, y):\n",
    "    features = list(x.columns.values)\n",
    "    discrete_features = []\n",
    "    for f in features:\n",
    "        if x[f].dtype == np.object:\n",
    "            discrete_features.append(f)\n",
    "    x[discrete_features] = x[discrete_features].astype(str)  # convert dtype 'object' to 'str'\n",
    "    # one hot encoding for categorical feature values\n",
    "    x_dummies = pd.get_dummies(x, columns=discrete_features, dummy_na=True)  \n",
    "    imp_mean = SimpleImputer(missing_values=np.nan, strategy='mean')  # convert NaN to column mean value\n",
    "    x_new = imp_mean.fit_transform(x_dummies)  \n",
    "    return x_new, y\n",
    "start = time.time()\n",
    "x_new, y_new = preprocess(x, y)\n",
    "rf = RandomForestClassifier(n_estimators=50, n_jobs=-1)  # n_estimators: # trees, n_jobs -1 all cpu cores\n",
    "accuracy = cross_val_score(rf, x_new, y_new, cv=5, scoring='accuracy')  # k-fold cross validation, k=cv\n",
    "acc = accuracy.mean()\n",
    "print('accuracy: ', acc)\n",
    "print('--- running time: %.4f seconds ---' % (time.time() - start))"
   ]
  },
  {
   "cell_type": "code",
   "execution_count": 23,
   "metadata": {},
   "outputs": [
    {
     "data": {
      "text/plain": [
       "array(['None', 'ankylosing', 'psoriatic', 'rheumatoid', 'sjogren',\n",
       "       'still', 'systemic'], dtype=object)"
      ]
     },
     "execution_count": 23,
     "metadata": {},
     "output_type": "execute_result"
    }
   ],
   "source": [
    "classes = np.unique(y)\n",
    "classes"
   ]
  },
  {
   "cell_type": "code",
   "execution_count": null,
   "metadata": {},
   "outputs": [],
   "source": []
  }
 ],
 "metadata": {
  "kernelspec": {
   "display_name": "Python 3",
   "language": "python",
   "name": "python3"
  },
  "language_info": {
   "codemirror_mode": {
    "name": "ipython",
    "version": 3
   },
   "file_extension": ".py",
   "mimetype": "text/x-python",
   "name": "python",
   "nbconvert_exporter": "python",
   "pygments_lexer": "ipython3",
   "version": "3.7.0"
  }
 },
 "nbformat": 4,
 "nbformat_minor": 4
}
