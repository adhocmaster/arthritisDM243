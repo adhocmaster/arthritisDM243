{
 "cells": [
  {
   "cell_type": "code",
   "execution_count": 1,
   "metadata": {},
   "outputs": [
    {
     "name": "stdout",
     "output_type": "stream",
     "text": [
      "              precision    recall  f1-score   support\n",
      "\n",
      "  ankylosing       0.87      0.94      0.90        35\n",
      "   psoriatic       0.73      0.79      0.76        14\n",
      "  rheumatoid       0.86      0.82      0.84        39\n",
      "     sjogren       0.82      0.58      0.68        24\n",
      "       still       1.00      0.88      0.94        17\n",
      "    systemic       0.86      0.98      0.92        51\n",
      "\n",
      "    accuracy                           0.86       180\n",
      "   macro avg       0.86      0.83      0.84       180\n",
      "weighted avg       0.86      0.86      0.86       180\n",
      "\n",
      "--- running time: 0.7039 seconds ---\n"
     ]
    }
   ],
   "source": [
    "import time\n",
    "import numpy as np\n",
    "import pandas as pd\n",
    "from os.path import join\n",
    "from sklearn.ensemble import RandomForestClassifier\n",
    "from sklearn.metrics import classification_report\n",
    "from sklearn.model_selection import train_test_split\n",
    "\n",
    "def read_data():\n",
    "    folder = 'data'\n",
    "    df = pd.read_csv(join(folder, '10.25.14 us and uk 900 - Values Transformed - No Date No Post.csv'))\n",
    "    # move class to first column\n",
    "    df = df[['Dx_Chosen'] + [c for c in df if c not in ['Dx_Chosen']]]  \n",
    "    df['Onset_Age'].fillna(df['Onset_Age'].mean(), inplace=True)\n",
    "    df['Dx_Chosen'].fillna('None', inplace=True)  # fill class column Nan with 'None'\n",
    "    # drop Initial_Dx column, drop the last 3 columns as they only contain 1 unique value\n",
    "    df = df.drop(['Initial_Dx','Dx_Change','New_Dx','Part3_5_FS_ARDS',\n",
    "                 'Part3_5_FS_lung','Part3_5_still_ARDS_24p'], 1)  \n",
    "    x = df.iloc[:, 1:]\n",
    "    y = df.iloc[:, 0]\n",
    "    return x, y\n",
    "\n",
    "def get_discrete_features(x):\n",
    "    features = list(x.columns.values)\n",
    "    discrete_features = []\n",
    "    for f in features:\n",
    "        if x[f].dtype == np.object:\n",
    "            discrete_features.append(f)\n",
    "    return discrete_features\n",
    "\n",
    "start = time.time()\n",
    "x, y = read_data()\n",
    "dis_f = get_discrete_features(x)\n",
    "\n",
    "x_dummies = pd.get_dummies(x, columns=dis_f, dummy_na=True)  # one hot encoding\n",
    "#x_dummies.isnull().sum()\n",
    "\n",
    "x_train, x_test, y_train, y_test = train_test_split(x_dummies, y, test_size=0.2, random_state=0)\n",
    "rf = RandomForestClassifier(n_estimators=50, n_jobs=-1)\n",
    "rf.fit(x_train, y_train)\n",
    "y_pred = rf.predict(x_test)\n",
    "print(classification_report(y_test, y_pred))\n",
    "print('--- running time: %.4f seconds ---' % (time.time() - start))"
   ]
  },
  {
   "cell_type": "code",
   "execution_count": 2,
   "metadata": {},
   "outputs": [
    {
     "name": "stdout",
     "output_type": "stream",
     "text": [
      "              precision    recall  f1-score   support\n",
      "\n",
      "  ankylosing       0.83      0.69      0.75        35\n",
      "   psoriatic       0.00      0.00      0.00        14\n",
      "  rheumatoid       0.36      0.62      0.45        39\n",
      "     sjogren       0.00      0.00      0.00        24\n",
      "       still       0.00      0.00      0.00        17\n",
      "    systemic       0.48      0.78      0.59        51\n",
      "\n",
      "    accuracy                           0.49       180\n",
      "   macro avg       0.28      0.35      0.30       180\n",
      "weighted avg       0.37      0.49      0.41       180\n",
      "\n",
      "--- running time: 2.2786 seconds ---\n"
     ]
    },
    {
     "name": "stderr",
     "output_type": "stream",
     "text": [
      "/Library/Frameworks/Python.framework/Versions/3.7/lib/python3.7/site-packages/sklearn/metrics/classification.py:1437: UndefinedMetricWarning: Precision and F-score are ill-defined and being set to 0.0 in labels with no predicted samples.\n",
      "  'precision', 'predicted', average, warn_for)\n"
     ]
    }
   ],
   "source": [
    "from sklearn.svm import SVC\n",
    "start = time.time()\n",
    "clf = SVC(gamma='auto')\n",
    "clf.fit(x_train, y_train)\n",
    "y_pred = clf.predict(x_test)\n",
    "print(classification_report(y_test, y_pred))\n",
    "print('--- running time: %.4f seconds ---' % (time.time() - start))"
   ]
  },
  {
   "cell_type": "code",
   "execution_count": 3,
   "metadata": {},
   "outputs": [
    {
     "name": "stdout",
     "output_type": "stream",
     "text": [
      "              precision    recall  f1-score   support\n",
      "\n",
      "  ankylosing       0.86      0.89      0.87        35\n",
      "   psoriatic       0.72      0.93      0.81        14\n",
      "  rheumatoid       0.84      0.79      0.82        39\n",
      "     sjogren       0.77      0.71      0.74        24\n",
      "       still       1.00      0.82      0.90        17\n",
      "    systemic       0.87      0.90      0.88        51\n",
      "\n",
      "    accuracy                           0.84       180\n",
      "   macro avg       0.84      0.84      0.84       180\n",
      "weighted avg       0.85      0.84      0.84       180\n",
      "\n",
      "--- running time: 1.7613 seconds ---\n"
     ]
    }
   ],
   "source": [
    "from sklearn.neural_network import MLPClassifier\n",
    "start = time.time()\n",
    "mlp = MLPClassifier(hidden_layer_sizes=(60, 60, 60), random_state=0)\n",
    "mlp.fit(x_train, y_train)\n",
    "y_pred = mlp.predict(x_test)\n",
    "print(classification_report(y_test, y_pred))\n",
    "print('--- running time: %.4f seconds ---' % (time.time() - start))"
   ]
  },
  {
   "cell_type": "markdown",
   "metadata": {},
   "source": [
    "### feature importance"
   ]
  },
  {
   "cell_type": "code",
   "execution_count": 16,
   "metadata": {},
   "outputs": [
    {
     "name": "stdout",
     "output_type": "stream",
     "text": [
      " 1) Part3_3_sys_nan                0.048887\n",
      " 2) Part3_6_Ank_nan                0.039398\n",
      " 3) Part3_3_sys_yes                0.030963\n",
      " 4) Part3_1_rheu_nan               0.023460\n",
      " 5) Onset_Age                      0.012557\n",
      " 6) Part3_4_sjo_nan                0.012134\n",
      " 7) Part3_3_sys_other_Text_nan     0.012032\n",
      " 8) Part3_6_Ank_yes,_i_was_told_for_the_first_time_prior_to_or_at_diagnosis_that_my_blood_tests_were_positive_for_the_hla-b27_gene. 0.011974\n",
      " 9) Country_united_kingdom         0.010340\n",
      "10) Part3_2_psor_nan               0.009538\n",
      "11) Ex5_30c_Ps_Dx_yes              0.007610\n",
      "12) Ex5_30d_Ps_pre_arthritis_yes   0.007445\n",
      "13) Ex5_30c_Ps_Dx_no               0.007007\n",
      "14) Ex5_30_Rash_butterfly_yes      0.006994\n",
      "15) Country_united_states          0.006904\n"
     ]
    }
   ],
   "source": [
    "features = x_dummies.columns\n",
    "def get_rank(importances):\n",
    "    indices = np.argsort(importances)[::-1]   \n",
    "    for i in range(15):\n",
    "        print(\"%2d) %-*s %f\" % (i + 1, 30, features[indices[i]], importances[indices[i]]))\n",
    "\n",
    "importances = rf.feature_importances_\n",
    "get_rank(importances)"
   ]
  },
  {
   "cell_type": "code",
   "execution_count": 17,
   "metadata": {},
   "outputs": [
    {
     "data": {
      "text/html": [
       "<div>\n",
       "<style scoped>\n",
       "    .dataframe tbody tr th:only-of-type {\n",
       "        vertical-align: middle;\n",
       "    }\n",
       "\n",
       "    .dataframe tbody tr th {\n",
       "        vertical-align: top;\n",
       "    }\n",
       "\n",
       "    .dataframe thead th {\n",
       "        text-align: right;\n",
       "    }\n",
       "</style>\n",
       "<table border=\"1\" class=\"dataframe\">\n",
       "  <thead>\n",
       "    <tr style=\"text-align: right;\">\n",
       "      <th></th>\n",
       "      <th>still</th>\n",
       "      <th>systemic</th>\n",
       "      <th>ankylosing</th>\n",
       "      <th>rheumatoid</th>\n",
       "      <th>psoriatic</th>\n",
       "      <th>sjogren</th>\n",
       "    </tr>\n",
       "  </thead>\n",
       "  <tbody>\n",
       "    <tr>\n",
       "      <th>0</th>\n",
       "      <td>0.000467</td>\n",
       "      <td>-0.002434</td>\n",
       "      <td>-0.007365</td>\n",
       "      <td>0.005093</td>\n",
       "      <td>0.001869</td>\n",
       "      <td>0.004070</td>\n",
       "    </tr>\n",
       "    <tr>\n",
       "      <th>1</th>\n",
       "      <td>-0.000837</td>\n",
       "      <td>0.000330</td>\n",
       "      <td>-0.000734</td>\n",
       "      <td>0.000265</td>\n",
       "      <td>0.000007</td>\n",
       "      <td>0.000284</td>\n",
       "    </tr>\n",
       "    <tr>\n",
       "      <th>2</th>\n",
       "      <td>0.000833</td>\n",
       "      <td>-0.000328</td>\n",
       "      <td>0.000731</td>\n",
       "      <td>-0.000264</td>\n",
       "      <td>-0.000007</td>\n",
       "      <td>-0.000283</td>\n",
       "    </tr>\n",
       "    <tr>\n",
       "      <th>3</th>\n",
       "      <td>0.000000</td>\n",
       "      <td>0.000000</td>\n",
       "      <td>0.000000</td>\n",
       "      <td>0.000000</td>\n",
       "      <td>0.000000</td>\n",
       "      <td>0.000000</td>\n",
       "    </tr>\n",
       "    <tr>\n",
       "      <th>4</th>\n",
       "      <td>-0.001718</td>\n",
       "      <td>0.008548</td>\n",
       "      <td>-0.004271</td>\n",
       "      <td>-0.002063</td>\n",
       "      <td>-0.004454</td>\n",
       "      <td>-0.003819</td>\n",
       "    </tr>\n",
       "    <tr>\n",
       "      <th>...</th>\n",
       "      <td>...</td>\n",
       "      <td>...</td>\n",
       "      <td>...</td>\n",
       "      <td>...</td>\n",
       "      <td>...</td>\n",
       "      <td>...</td>\n",
       "    </tr>\n",
       "    <tr>\n",
       "      <th>2422</th>\n",
       "      <td>0.000377</td>\n",
       "      <td>0.000003</td>\n",
       "      <td>-0.000042</td>\n",
       "      <td>-0.000147</td>\n",
       "      <td>0.000066</td>\n",
       "      <td>0.000032</td>\n",
       "    </tr>\n",
       "    <tr>\n",
       "      <th>2423</th>\n",
       "      <td>-0.000405</td>\n",
       "      <td>-0.000054</td>\n",
       "      <td>0.000044</td>\n",
       "      <td>0.000054</td>\n",
       "      <td>-0.000028</td>\n",
       "      <td>0.000200</td>\n",
       "    </tr>\n",
       "    <tr>\n",
       "      <th>2424</th>\n",
       "      <td>-0.000140</td>\n",
       "      <td>0.000061</td>\n",
       "      <td>-0.000005</td>\n",
       "      <td>-0.000033</td>\n",
       "      <td>-0.000037</td>\n",
       "      <td>0.000042</td>\n",
       "    </tr>\n",
       "    <tr>\n",
       "      <th>2425</th>\n",
       "      <td>-0.000244</td>\n",
       "      <td>-0.000090</td>\n",
       "      <td>0.000094</td>\n",
       "      <td>0.000286</td>\n",
       "      <td>0.000026</td>\n",
       "      <td>-0.000286</td>\n",
       "    </tr>\n",
       "    <tr>\n",
       "      <th>2426</th>\n",
       "      <td>0.000000</td>\n",
       "      <td>0.000000</td>\n",
       "      <td>0.000000</td>\n",
       "      <td>0.000000</td>\n",
       "      <td>0.000000</td>\n",
       "      <td>0.000000</td>\n",
       "    </tr>\n",
       "  </tbody>\n",
       "</table>\n",
       "<p>2427 rows × 6 columns</p>\n",
       "</div>"
      ],
      "text/plain": [
       "         still  systemic  ankylosing  rheumatoid  psoriatic   sjogren\n",
       "0     0.000467 -0.002434   -0.007365    0.005093   0.001869  0.004070\n",
       "1    -0.000837  0.000330   -0.000734    0.000265   0.000007  0.000284\n",
       "2     0.000833 -0.000328    0.000731   -0.000264  -0.000007 -0.000283\n",
       "3     0.000000  0.000000    0.000000    0.000000   0.000000  0.000000\n",
       "4    -0.001718  0.008548   -0.004271   -0.002063  -0.004454 -0.003819\n",
       "...        ...       ...         ...         ...        ...       ...\n",
       "2422  0.000377  0.000003   -0.000042   -0.000147   0.000066  0.000032\n",
       "2423 -0.000405 -0.000054    0.000044    0.000054  -0.000028  0.000200\n",
       "2424 -0.000140  0.000061   -0.000005   -0.000033  -0.000037  0.000042\n",
       "2425 -0.000244 -0.000090    0.000094    0.000286   0.000026 -0.000286\n",
       "2426  0.000000  0.000000    0.000000    0.000000   0.000000  0.000000\n",
       "\n",
       "[2427 rows x 6 columns]"
      ]
     },
     "execution_count": 17,
     "metadata": {},
     "output_type": "execute_result"
    }
   ],
   "source": [
    "from sklearn.preprocessing import scale\n",
    "#from sklearn.preprocessing import MinMaxScaler\n",
    "\"\"\"\n",
    "reference: https://stackoverflow.com/questions/35249760/\n",
    "using-scikit-to-determine-contributions-of-each-feature-to-a-specific-class-pred/35255612\n",
    "\"\"\"\n",
    "def class_feature_importance(X, Y, feature_importances):\n",
    "    N, M = X.shape\n",
    "    X = scale(X)\n",
    "    out = {}\n",
    "    for c in set(Y):\n",
    "        out[c] = np.mean(X[Y==c, :], axis=0)*feature_importances\n",
    "    return out\n",
    "\n",
    "result = class_feature_importance(x_dummies, y, importances)\n",
    "result = pd.DataFrame(result)\n",
    "result"
   ]
  },
  {
   "cell_type": "code",
   "execution_count": 25,
   "metadata": {},
   "outputs": [
    {
     "name": "stdout",
     "output_type": "stream",
     "text": [
      " 1) Part3_3_sys_nan                0.029564\n",
      " 2) Part3_6_Ank_nan                0.018041\n",
      " 3) Ex5_19_Fv_Type_high,_spiking_fevers_averaging_>_102_degrees_f 0.009887\n",
      " 4) Part3_15_still_No_Remember_yes 0.009081\n",
      " 5) Part3_1_rheu_nan               0.008480\n",
      " 6) Ex5_19_Fv_wsalmon_rash_yes     0.006323\n",
      " 7) Ex5_30c_Ps_Dx_no               0.006128\n",
      " 8) Ex5_30b_salmon_yes             0.005497\n",
      " 9) Part3_3_sys_other_Text_nan     0.004899\n",
      "10) Ex5_30_Rash_24_yes,_i_first_noticed_rashes_between_0_and_<_12_months_from_initial_onset 0.004254\n",
      "11) Part3_4_sjo_nan                0.003551\n",
      "12) Ex5_30_Rash_butterfly_yes      0.002152\n",
      "13) Ex5_34_FS_Sore_Throat_yes      0.002079\n",
      "14) Part3_2_psor_nan               0.002057\n",
      "15) Ex5_19_Fv_Higher_0_12_yes      0.001773\n"
     ]
    }
   ],
   "source": [
    "still = list(result['still'])\n",
    "get_rank(still)"
   ]
  },
  {
   "cell_type": "code",
   "execution_count": 26,
   "metadata": {},
   "outputs": [
    {
     "name": "stdout",
     "output_type": "stream",
     "text": [
      " 1) Part3_3_sys_yes                0.041125\n",
      " 2) Part3_6_Ank_nan                0.018041\n",
      " 3) Country_united_kingdom         0.008548\n",
      " 4) Part3_1_rheu_nan               0.008480\n",
      " 5) Ex5_30_Rash_butterfly_yes      0.004041\n",
      " 6) Ex5_30c_Ps_Dx_no               0.003834\n",
      " 7) Part3_4_sjo_nan                0.003551\n",
      " 8) Part3_2_psor_nan               0.002057\n",
      " 9) Part3_3_sys_no                 0.001697\n",
      "10) Ex5_30_Rash_24_yes,_i_first_noticed_rashes_between_0_and_<_12_months_from_initial_onset 0.001525\n",
      "11) Ex5_30d_Ps_pre_arthritis_nan   0.001448\n",
      "12) Ex5_30b_sunburn_yes            0.001132\n",
      "13) Ex5_34_CSores_Mouth_24_yes     0.000970\n",
      "14) Ex4_7_Sac_0_12_no              0.000806\n",
      "15) Raynauds_14_yes                0.000694\n"
     ]
    }
   ],
   "source": [
    "systemic = list(result['systemic'])\n",
    "get_rank(systemic)"
   ]
  },
  {
   "cell_type": "code",
   "execution_count": 27,
   "metadata": {},
   "outputs": [
    {
     "name": "stdout",
     "output_type": "stream",
     "text": [
      " 1) Part3_3_sys_nan                0.029564\n",
      " 2) Part3_6_Ank_yes,_i_was_told_for_the_first_time_prior_to_or_at_diagnosis_that_my_blood_tests_were_positive_for_the_hla-b27_gene. 0.017923\n",
      " 3) Part3_1_rheu_nan               0.008480\n",
      " 4) Part3_3_sys_other_Text_nan     0.004899\n",
      " 5) Part3_4_sjo_nan                0.003551\n",
      " 6) Ex5_30c_Ps_Dx_nan              0.002787\n",
      " 7) Country_united_states          0.002347\n",
      " 8) Ex2_3_RHand_ABCJoint_0_12_nan  0.002295\n",
      " 9) Ex2_3_0_12_None_yes            0.002269\n",
      "10) Ex4_7_FS_Sac_yes               0.002195\n",
      "11) Part3_2_psor_nan               0.002057\n",
      "12) Part3_6_Ank_yes,_i_was_told_for_the_first_time_after_diagnosis_that_my_blood_tests_were_positive_for_the_hla-b27_gene. 0.002031\n",
      "13) Ex2_3_Rhand_0_12_no            0.002009\n",
      "14) Ex5_30_Rash_butterfly_no       0.001890\n",
      "15) Ex5_34_Thirst_24_no            0.001765\n"
     ]
    }
   ],
   "source": [
    "ankylosing = list(result['ankylosing'])\n",
    "get_rank(ankylosing)"
   ]
  },
  {
   "cell_type": "code",
   "execution_count": 28,
   "metadata": {},
   "outputs": [
    {
     "name": "stdout",
     "output_type": "stream",
     "text": [
      " 1) Part3_3_sys_nan                0.029564\n",
      " 2) Part3_6_Ank_nan                0.018041\n",
      " 3) Onset_Age                      0.005093\n",
      " 4) Part3_3_sys_other_Text_nan     0.004731\n",
      " 5) Part3_4_sjo_nan                0.003551\n",
      " 6) Ex5_30c_Ps_Dx_nan              0.002209\n",
      " 7) Part3_2_psor_nan               0.002057\n",
      " 8) Ex2_3_Rhand_0_12_yes           0.001427\n",
      " 9) Ex5_19_Fv_wsalmon_rash_no      0.001425\n",
      "10) Ex5_30d_Ps_pre_arthritis_nan   0.001425\n",
      "11) Ex5_30_Rash_butterfly_no       0.001230\n",
      "12) Ex5_12_Sw_24_yes,_i_noticed_swelling_in_the_locations_i_experienced_paintenderness_between_0_and_<_12_months_from_initial_onset 0.001209\n",
      "13) Part3_1_rheu_no                0.001142\n",
      "14) Ex5_11_Red_Wm_24_yes,_i_noticed_rednesswarmth_between_0_and_<_12_months_from_initial_onset 0.001134\n",
      "15) num_specialists_unrelated_0.  The first specialist I was referred to was a rheumatologist or immunologist 0.001119\n"
     ]
    }
   ],
   "source": [
    "rheumatoid = list(result['rheumatoid'])\n",
    "get_rank(rheumatoid)"
   ]
  },
  {
   "cell_type": "code",
   "execution_count": 31,
   "metadata": {},
   "outputs": [
    {
     "name": "stdout",
     "output_type": "stream",
     "text": [
      " 1) Part3_3_sys_nan                0.029564\n",
      " 2) Part3_6_Ank_nan                0.018041\n",
      " 3) Ex5_30c_Ps_Dx_yes              0.014172\n",
      " 4) Ex5_30d_Ps_pre_arthritis_yes   0.011227\n",
      " 5) Part3_1_rheu_nan               0.008480\n",
      " 6) Ex5_30b_psoriasis_yes          0.003716\n",
      " 7) Part3_4_sjo_nan                0.003551\n",
      " 8) Part3_3_sys_other_Text_nan     0.003433\n",
      " 9) Country_united_states          0.003077\n",
      "10) Onset_Age                      0.001869\n",
      "11) Ex5_19_Fv_wsalmon_rash_no      0.001864\n",
      "12) Ex5_30b_salmon_no              0.001836\n",
      "13) Ex5_30_Rash_butterfly_no       0.001834\n",
      "14) Ex5_38_Pitted_nails_yes        0.001539\n",
      "15) Ex5_30_Rash_Elb_yes            0.001535\n"
     ]
    }
   ],
   "source": [
    "psoriatic = list(result['psoriatic'])\n",
    "get_rank(psoriatic)"
   ]
  },
  {
   "cell_type": "code",
   "execution_count": 32,
   "metadata": {},
   "outputs": [
    {
     "name": "stdout",
     "output_type": "stream",
     "text": [
      " 1) Part3_3_sys_nan                0.029564\n",
      " 2) Part3_6_Ank_nan                0.018041\n",
      " 3) Part3_1_rheu_nan               0.008480\n",
      " 4) Part3_3_sys_other_Text_nan     0.004630\n",
      " 5) Onset_Age                      0.004070\n",
      " 6) Country_united_states          0.002826\n",
      " 7) Ex5_34_Thirst_24_yes           0.002824\n",
      " 8) Part3_2_psor_nan               0.002057\n",
      " 9) Ex5_19_Fv_wsalmon_rash_no      0.001514\n",
      "10) Ex5_33_FS_Dry_Eye_yes          0.001369\n",
      "11) Ex5_34_FS_Thirst_yes           0.001267\n",
      "12) Ex5_33_FS_Burn_Itch_yes        0.001192\n",
      "13) Ex5_30d_Ps_pre_arthritis_nan   0.001088\n",
      "14) Ex5_33_Eye_Dry_24_yes          0.001049\n",
      "15) Ex5_11_Red_Wm_24_no            0.000887\n"
     ]
    }
   ],
   "source": [
    "sjogren = list(result['sjogren'])\n",
    "get_rank(sjogren)"
   ]
  },
  {
   "cell_type": "code",
   "execution_count": null,
   "metadata": {},
   "outputs": [],
   "source": []
  }
 ],
 "metadata": {
  "kernelspec": {
   "display_name": "Python 3",
   "language": "python",
   "name": "python3"
  },
  "language_info": {
   "codemirror_mode": {
    "name": "ipython",
    "version": 3
   },
   "file_extension": ".py",
   "mimetype": "text/x-python",
   "name": "python",
   "nbconvert_exporter": "python",
   "pygments_lexer": "ipython3",
   "version": "3.7.5"
  }
 },
 "nbformat": 4,
 "nbformat_minor": 4
}
