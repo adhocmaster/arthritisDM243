{
 "cells": [
  {
   "cell_type": "code",
   "execution_count": 105,
   "metadata": {},
   "outputs": [
    {
     "name": "stdout",
     "output_type": "stream",
     "text": [
      "              precision    recall  f1-score   support\n",
      "\n",
      "  ankylosing       0.85      0.94      0.89        35\n",
      "   psoriatic       0.77      0.71      0.74        14\n",
      "  rheumatoid       0.84      0.82      0.83        39\n",
      "     sjogren       0.94      0.62      0.75        24\n",
      "       still       1.00      0.82      0.90        17\n",
      "    systemic       0.82      0.96      0.88        51\n",
      "\n",
      "    accuracy                           0.85       180\n",
      "   macro avg       0.87      0.81      0.83       180\n",
      "weighted avg       0.86      0.85      0.85       180\n",
      "\n",
      "--- running time: 0.6996 seconds ---\n"
     ]
    }
   ],
   "source": [
    "import time\n",
    "import numpy as np\n",
    "import pandas as pd\n",
    "from os.path import join\n",
    "from sklearn.ensemble import RandomForestClassifier\n",
    "from sklearn.metrics import classification_report\n",
    "from sklearn.model_selection import train_test_split\n",
    "\n",
    "def read_data():\n",
    "    folder = 'data'\n",
    "    df = pd.read_csv(join(folder, '10.25.14 us and uk 900 - Values Transformed - No Date No Post.csv'))\n",
    "    # move class to first column\n",
    "    df = df[['Dx_Chosen'] + [c for c in df if c not in ['Dx_Chosen']]]  \n",
    "    df['Onset_Age'].fillna(df['Onset_Age'].mean(), inplace=True)\n",
    "    df['Dx_Chosen'].fillna('None', inplace=True)  # fill class column Nan with 'None'\n",
    "    # drop Initial_Dx column, drop the last 3 columns as they only contain 1 unique value\n",
    "    df = df.drop(['Initial_Dx','Dx_Change','New_Dx','Part3_5_FS_ARDS',\n",
    "                 'Part3_5_FS_lung','Part3_5_still_ARDS_24p'], 1)  \n",
    "    x = df.iloc[:, 1:]\n",
    "    y = df.iloc[:, 0]\n",
    "    return x, y\n",
    "\n",
    "def get_discrete_features(x):\n",
    "    features = list(x.columns.values)\n",
    "    discrete_features = []\n",
    "    for f in features:\n",
    "        if x[f].dtype == np.object:\n",
    "            discrete_features.append(f)\n",
    "    return discrete_features\n",
    "\n",
    "start = time.time()\n",
    "x, y = read_data()\n",
    "dis_f = get_discrete_features(x)\n",
    "\n",
    "x_dummies = pd.get_dummies(x, columns=dis_f, dummy_na=True)  # one hot encoding\n",
    "#x_dummies.isnull().sum()\n",
    "\n",
    "x_train, x_test, y_train, y_test = train_test_split(x_dummies, y, test_size=0.2, random_state=0)\n",
    "rf = RandomForestClassifier(n_estimators=50, n_jobs=-1)\n",
    "rf.fit(x_train, y_train)\n",
    "y_pred = rf.predict(x_test)\n",
    "print(classification_report(y_test, y_pred))\n",
    "print('--- running time: %.4f seconds ---' % (time.time() - start))"
   ]
  },
  {
   "cell_type": "code",
   "execution_count": 88,
   "metadata": {},
   "outputs": [
    {
     "name": "stdout",
     "output_type": "stream",
     "text": [
      "              precision    recall  f1-score   support\n",
      "\n",
      "  ankylosing       0.83      0.69      0.75        35\n",
      "   psoriatic       0.00      0.00      0.00        14\n",
      "  rheumatoid       0.36      0.62      0.45        39\n",
      "     sjogren       0.00      0.00      0.00        24\n",
      "       still       0.00      0.00      0.00        17\n",
      "    systemic       0.48      0.78      0.59        51\n",
      "\n",
      "    accuracy                           0.49       180\n",
      "   macro avg       0.28      0.35      0.30       180\n",
      "weighted avg       0.37      0.49      0.41       180\n",
      "\n",
      "--- running time: 2.1455 seconds ---\n"
     ]
    },
    {
     "name": "stderr",
     "output_type": "stream",
     "text": [
      "/Library/Frameworks/Python.framework/Versions/3.7/lib/python3.7/site-packages/sklearn/metrics/classification.py:1437: UndefinedMetricWarning: Precision and F-score are ill-defined and being set to 0.0 in labels with no predicted samples.\n",
      "  'precision', 'predicted', average, warn_for)\n"
     ]
    }
   ],
   "source": [
    "from sklearn.svm import SVC\n",
    "start = time.time()\n",
    "clf = SVC(gamma='auto')\n",
    "clf.fit(x_train, y_train)\n",
    "y_pred = clf.predict(x_test)\n",
    "print(classification_report(y_test, y_pred))\n",
    "print('--- running time: %.4f seconds ---' % (time.time() - start))"
   ]
  },
  {
   "cell_type": "code",
   "execution_count": 104,
   "metadata": {},
   "outputs": [
    {
     "name": "stdout",
     "output_type": "stream",
     "text": [
      "              precision    recall  f1-score   support\n",
      "\n",
      "  ankylosing       0.86      0.89      0.87        35\n",
      "   psoriatic       0.72      0.93      0.81        14\n",
      "  rheumatoid       0.84      0.79      0.82        39\n",
      "     sjogren       0.77      0.71      0.74        24\n",
      "       still       1.00      0.82      0.90        17\n",
      "    systemic       0.87      0.90      0.88        51\n",
      "\n",
      "    accuracy                           0.84       180\n",
      "   macro avg       0.84      0.84      0.84       180\n",
      "weighted avg       0.85      0.84      0.84       180\n",
      "\n",
      "--- running time: 1.5927 seconds ---\n"
     ]
    }
   ],
   "source": [
    "from sklearn.neural_network import MLPClassifier\n",
    "start = time.time()\n",
    "mlp = MLPClassifier(hidden_layer_sizes=(60, 60, 60), random_state=0)\n",
    "mlp.fit(x_train, y_train)\n",
    "y_pred = mlp.predict(x_test)\n",
    "print(classification_report(y_test, y_pred))\n",
    "print('--- running time: %.4f seconds ---' % (time.time() - start))"
   ]
  },
  {
   "cell_type": "markdown",
   "metadata": {},
   "source": [
    "### feature importance"
   ]
  },
  {
   "cell_type": "code",
   "execution_count": 116,
   "metadata": {},
   "outputs": [
    {
     "name": "stdout",
     "output_type": "stream",
     "text": [
      " 1) Part3_6_Ank_nan                0.047970\n",
      " 2) Part3_3_sys_nan                0.038582\n",
      " 3) Part3_3_sys_other_Text_nan     0.019043\n",
      " 4) Part3_3_sys_yes                0.014967\n",
      " 5) Country_united_kingdom         0.013343\n",
      " 6) Part3_1_rheu_nan               0.013260\n",
      " 7) Ex5_30d_Ps_pre_arthritis_nan   0.012752\n",
      " 8) Ex5_30c_Ps_Dx_yes              0.011491\n",
      " 9) Part3_4_sjo_nan                0.011096\n"
     ]
    }
   ],
   "source": [
    "importances = rf.feature_importances_\n",
    "indices = np.argsort(importances)[::-1]\n",
    "features = x_dummies.columns\n",
    "for i in range(9):\n",
    "    print(\"%2d) %-*s %f\" % (i + 1, 30, features[indices[i]], importances[indices[i]]))"
   ]
  },
  {
   "cell_type": "code",
   "execution_count": 126,
   "metadata": {},
   "outputs": [
    {
     "data": {
      "text/html": [
       "<div>\n",
       "<style scoped>\n",
       "    .dataframe tbody tr th:only-of-type {\n",
       "        vertical-align: middle;\n",
       "    }\n",
       "\n",
       "    .dataframe tbody tr th {\n",
       "        vertical-align: top;\n",
       "    }\n",
       "\n",
       "    .dataframe thead th {\n",
       "        text-align: right;\n",
       "    }\n",
       "</style>\n",
       "<table border=\"1\" class=\"dataframe\">\n",
       "  <thead>\n",
       "    <tr style=\"text-align: right;\">\n",
       "      <th></th>\n",
       "      <th>ankylosing</th>\n",
       "      <th>systemic</th>\n",
       "      <th>rheumatoid</th>\n",
       "      <th>psoriatic</th>\n",
       "      <th>still</th>\n",
       "      <th>sjogren</th>\n",
       "    </tr>\n",
       "  </thead>\n",
       "  <tbody>\n",
       "    <tr>\n",
       "      <th>0</th>\n",
       "      <td>-0.004952</td>\n",
       "      <td>-0.001636</td>\n",
       "      <td>0.003424</td>\n",
       "      <td>0.001256</td>\n",
       "      <td>0.000314</td>\n",
       "      <td>0.002736</td>\n",
       "    </tr>\n",
       "    <tr>\n",
       "      <th>1</th>\n",
       "      <td>-0.000999</td>\n",
       "      <td>0.000449</td>\n",
       "      <td>0.000361</td>\n",
       "      <td>0.000010</td>\n",
       "      <td>-0.001139</td>\n",
       "      <td>0.000387</td>\n",
       "    </tr>\n",
       "    <tr>\n",
       "      <th>2</th>\n",
       "      <td>0.000488</td>\n",
       "      <td>-0.000219</td>\n",
       "      <td>-0.000176</td>\n",
       "      <td>-0.000005</td>\n",
       "      <td>0.000556</td>\n",
       "      <td>-0.000189</td>\n",
       "    </tr>\n",
       "    <tr>\n",
       "      <th>3</th>\n",
       "      <td>0.000000</td>\n",
       "      <td>0.000000</td>\n",
       "      <td>0.000000</td>\n",
       "      <td>0.000000</td>\n",
       "      <td>0.000000</td>\n",
       "      <td>0.000000</td>\n",
       "    </tr>\n",
       "    <tr>\n",
       "      <th>4</th>\n",
       "      <td>-0.005511</td>\n",
       "      <td>0.011030</td>\n",
       "      <td>-0.002661</td>\n",
       "      <td>-0.005747</td>\n",
       "      <td>-0.002217</td>\n",
       "      <td>-0.004928</td>\n",
       "    </tr>\n",
       "    <tr>\n",
       "      <th>...</th>\n",
       "      <td>...</td>\n",
       "      <td>...</td>\n",
       "      <td>...</td>\n",
       "      <td>...</td>\n",
       "      <td>...</td>\n",
       "      <td>...</td>\n",
       "    </tr>\n",
       "    <tr>\n",
       "      <th>2422</th>\n",
       "      <td>-0.000048</td>\n",
       "      <td>0.000004</td>\n",
       "      <td>-0.000166</td>\n",
       "      <td>0.000075</td>\n",
       "      <td>0.000427</td>\n",
       "      <td>0.000036</td>\n",
       "    </tr>\n",
       "    <tr>\n",
       "      <th>2423</th>\n",
       "      <td>0.000013</td>\n",
       "      <td>-0.000016</td>\n",
       "      <td>0.000016</td>\n",
       "      <td>-0.000008</td>\n",
       "      <td>-0.000121</td>\n",
       "      <td>0.000060</td>\n",
       "    </tr>\n",
       "    <tr>\n",
       "      <th>2424</th>\n",
       "      <td>-0.000005</td>\n",
       "      <td>0.000056</td>\n",
       "      <td>-0.000030</td>\n",
       "      <td>-0.000034</td>\n",
       "      <td>-0.000127</td>\n",
       "      <td>0.000038</td>\n",
       "    </tr>\n",
       "    <tr>\n",
       "      <th>2425</th>\n",
       "      <td>0.000090</td>\n",
       "      <td>-0.000087</td>\n",
       "      <td>0.000275</td>\n",
       "      <td>0.000024</td>\n",
       "      <td>-0.000234</td>\n",
       "      <td>-0.000274</td>\n",
       "    </tr>\n",
       "    <tr>\n",
       "      <th>2426</th>\n",
       "      <td>0.000000</td>\n",
       "      <td>0.000000</td>\n",
       "      <td>0.000000</td>\n",
       "      <td>0.000000</td>\n",
       "      <td>0.000000</td>\n",
       "      <td>0.000000</td>\n",
       "    </tr>\n",
       "  </tbody>\n",
       "</table>\n",
       "<p>2427 rows × 6 columns</p>\n",
       "</div>"
      ],
      "text/plain": [
       "      ankylosing  systemic  rheumatoid  psoriatic     still   sjogren\n",
       "0      -0.004952 -0.001636    0.003424   0.001256  0.000314  0.002736\n",
       "1      -0.000999  0.000449    0.000361   0.000010 -0.001139  0.000387\n",
       "2       0.000488 -0.000219   -0.000176  -0.000005  0.000556 -0.000189\n",
       "3       0.000000  0.000000    0.000000   0.000000  0.000000  0.000000\n",
       "4      -0.005511  0.011030   -0.002661  -0.005747 -0.002217 -0.004928\n",
       "...          ...       ...         ...        ...       ...       ...\n",
       "2422   -0.000048  0.000004   -0.000166   0.000075  0.000427  0.000036\n",
       "2423    0.000013 -0.000016    0.000016  -0.000008 -0.000121  0.000060\n",
       "2424   -0.000005  0.000056   -0.000030  -0.000034 -0.000127  0.000038\n",
       "2425    0.000090 -0.000087    0.000275   0.000024 -0.000234 -0.000274\n",
       "2426    0.000000  0.000000    0.000000   0.000000  0.000000  0.000000\n",
       "\n",
       "[2427 rows x 6 columns]"
      ]
     },
     "execution_count": 126,
     "metadata": {},
     "output_type": "execute_result"
    }
   ],
   "source": [
    "from sklearn.preprocessing import scale\n",
    "#from sklearn.preprocessing import MinMaxScaler\n",
    "\"\"\"\n",
    "reference: https://stackoverflow.com/questions/35249760/\n",
    "using-scikit-to-determine-contributions-of-each-feature-to-a-specific-class-pred/35255612\n",
    "\"\"\"\n",
    "def class_feature_importance(X, Y, feature_importances):\n",
    "    N, M = X.shape\n",
    "    X = scale(X)\n",
    "    out = {}\n",
    "    for c in set(Y):\n",
    "        out[c] = np.mean(X[Y==c, :], axis=0)*feature_importances\n",
    "    return out\n",
    "\n",
    "result = class_feature_importance(x_dummies, y, importances)\n",
    "result = pd.DataFrame(result)\n",
    "result"
   ]
  },
  {
   "cell_type": "code",
   "execution_count": 129,
   "metadata": {},
   "outputs": [
    {
     "name": "stdout",
     "output_type": "stream",
     "text": [
      " 1) Part3_6_Ank_nan                                    0.047970\n",
      " 2) Part3_3_sys_yes                                    0.014967\n",
      " 3) Country_united_kingdom                             0.013343\n",
      " 4) Onset_Age                                          0.008442\n",
      " 5) Part3_6_Ank_other_Text_nan                         0.003761\n",
      " 6) Ex5_30_Rash_24_yes,_i_first_noticed_rashes_between_0_and_<_12_months_from_initial_onset 0.004861\n",
      " 7) Ex4_7_Sac_0_12_no                                  0.003647\n",
      " 8) Ex5_12_Sw_24_yes,_i_noticed_swelling_in_the_locations_i_experienced_paintenderness_between_0_and_<_12_months_from_initial_onset 0.004729\n",
      " 9) Ex5_30c_Ps_Dx_no                                   0.006057\n"
     ]
    }
   ],
   "source": [
    "ankylosing = result['ankylosing']\n",
    "index = np.argsort(ankylosing)[::-1]\n",
    "for i in range(9):\n",
    "    print(\"%2d) %-*s %f\" % (i + 1, 50, features[index[i]], importances[index[i]]))"
   ]
  },
  {
   "cell_type": "code",
   "execution_count": 130,
   "metadata": {},
   "outputs": [
    {
     "name": "stdout",
     "output_type": "stream",
     "text": [
      " 1) Part3_3_sys_nan                                    0.038582\n",
      " 2) Part3_3_sys_other_Text_nan                         0.019043\n",
      " 3) Country_united_states                              0.007155\n",
      " 4) Ex5_30c_Ps_Dx_nan                                  0.008210\n",
      " 5) Part3_6_Ank_yes,_i_was_told_for_the_first_time_prior_to_or_at_diagnosis_that_my_blood_tests_were_positive_for_the_hla-b27_gene. 0.010114\n",
      " 6) Ex5_30c_Ps_Dx_yes                                  0.011491\n",
      " 7) Ex5_30_Rash_butterfly_no                           0.004634\n",
      " 8) Onset_Age                                          0.008442\n",
      " 9) Ex5_24_Hair_Loss_24_no                             0.003313\n"
     ]
    }
   ],
   "source": [
    "systemic = result['systemic']\n",
    "index = np.argsort(systemic)[::-1]\n",
    "for i in range(9):\n",
    "    print(\"%2d) %-*s %f\" % (i + 1, 50, features[index[i]], importances[index[i]]))"
   ]
  },
  {
   "cell_type": "code",
   "execution_count": null,
   "metadata": {},
   "outputs": [],
   "source": []
  }
 ],
 "metadata": {
  "kernelspec": {
   "display_name": "Python 3",
   "language": "python",
   "name": "python3"
  },
  "language_info": {
   "codemirror_mode": {
    "name": "ipython",
    "version": 3
   },
   "file_extension": ".py",
   "mimetype": "text/x-python",
   "name": "python",
   "nbconvert_exporter": "python",
   "pygments_lexer": "ipython3",
   "version": "3.7.5"
  }
 },
 "nbformat": 4,
 "nbformat_minor": 4
}
