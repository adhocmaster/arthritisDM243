{
 "cells": [
  {
   "cell_type": "code",
   "execution_count": 1,
   "metadata": {},
   "outputs": [
    {
     "name": "stdout",
     "output_type": "stream",
     "text": [
      "current working dirF:\\myProjects\\tfKeras\\UCSC\\CSE243\\Project\n"
     ]
    }
   ],
   "source": [
    "import numpy as np\n",
    "import pandas as pd\n",
    "\n",
    "import matplotlib.pyplot as plt\n",
    "\n",
    "import seaborn as sns\n",
    "exec(open(\"inc_notebook.py\").read())"
   ]
  },
  {
   "cell_type": "code",
   "execution_count": 2,
   "metadata": {},
   "outputs": [],
   "source": [
    "destNoDate = 'data/10.25.14 us and uk 900 - Values Transformed - No Date.csv'\n",
    "destNoDateNoPost = 'data/10.25.14 us and uk 900 - Values Transformed - No Date No Post.csv'"
   ]
  },
  {
   "cell_type": "code",
   "execution_count": 8,
   "metadata": {},
   "outputs": [],
   "source": [
    "df = pd.read_csv('data/10.25.14 us and uk 900 - Values Transformed.csv', encoding='utf-8-sig')"
   ]
  },
  {
   "cell_type": "code",
   "execution_count": 9,
   "metadata": {},
   "outputs": [],
   "source": [
    "removableCols = ['Dr_Dx', 'Dr_Dx_other', 'First_onset_visit', 'First_onset_visit_other', 'referral_time_mos']\n",
    "for dateCol in removableCols:\n",
    "    df.drop(dateCol, axis=1, inplace=True)"
   ]
  },
  {
   "cell_type": "code",
   "execution_count": 10,
   "metadata": {},
   "outputs": [
    {
     "name": "stdout",
     "output_type": "stream",
     "text": [
      "Dropping BirthdateYear_xxxx\n",
      "Dropping New_Dx_Year\n",
      "Dropping Add_AAdxRADate\n",
      "Dropping Add_AAdxPsADate\n",
      "Dropping Add_AAdxSLEdate\n",
      "Dropping Add_AAdxSSdate\n",
      "Dropping Add_AAdxSDdate\n",
      "Dropping Add_AAdxASdate\n",
      "Dropping Fibro_dxdate\n",
      "Dropping Post_AD_AD\n",
      "Dropping Post_AD_Addison\n",
      "Dropping Post_AD_Hep\n",
      "Dropping Post_AD_Myo\n",
      "Dropping Post_AD_Pan\n",
      "Dropping Post_AD_Beh\n",
      "Dropping Post_AD_Cel\n",
      "Dropping Post_AD_Cro\n",
      "Dropping Post_AD_CRE\n",
      "Dropping Post_AD_Derma\n",
      "Dropping Post_AD_Disc\n",
      "Dropping Post_AD_Endo\n",
      "Dropping Post_AD_Hashi\n",
      "Dropping Post_AD_Hug\n",
      "Dropping Post_AD_Inter\n",
      "Dropping Post_AD_Lym\n",
      "Dropping Post_AD_MyoPol\n",
      "Dropping Post_AD_Pal\n",
      "Dropping Post_AD_Peri\n",
      "Dropping Post_AD_Pol\n",
      "Dropping Post_AD_Rea\n",
      "Dropping Post_AD_Rel\n",
      "Dropping Post_AD_Scleritis\n",
      "Dropping Post_AD_Scleroderma\n",
      "Dropping Post_AD_Thy\n",
      "Dropping Post_AD_Type_1\n",
      "Dropping Post_AD_Ulcerative\n",
      "Dropping Post_AD_Vasculitis\n",
      "Dropping Post_AD_Vitiligo\n",
      "Dropping Post_AD_Other_AD\n",
      "Dropping Post_AD_Other_AD_Text\n",
      "Dropping Add_AAdx_11\n",
      "Dropping Add_AAdxRA\n",
      "Dropping Add_AAdxPsA\n",
      "Dropping Add_AAdxSLE\n",
      "Dropping Add_AAdxSS\n",
      "Dropping Add_AAdxSD\n",
      "Dropping Add_AAdxAS\n"
     ]
    }
   ],
   "source": [
    "df.drop('1st_dx_yr', axis=1, inplace=True)\n",
    "for dateCol in df.columns:\n",
    "    if dateCol.lower().find('date') >= 0 or dateCol.lower().find('year') >= 0:\n",
    "        print(f'Dropping {dateCol}')\n",
    "        df.drop(dateCol, axis=1, inplace=True)\n",
    "\n",
    "df.to_csv(destNoDate, encoding='utf-8-sig', index=False)\n",
    "\n",
    "# remove all post information\n",
    "\n",
    "for dateCol in df.columns:\n",
    "    if dateCol.lower().find('post_ad') >= 0 or dateCol.lower().find('add_aadx') >= 0:\n",
    "        print(f'Dropping {dateCol}')\n",
    "        df.drop(dateCol, axis=1, inplace=True)\n",
    "\n",
    "df.to_csv(destNoDateNoPost, encoding='utf-8-sig', index=False)"
   ]
  },
  {
   "cell_type": "code",
   "execution_count": null,
   "metadata": {},
   "outputs": [],
   "source": []
  },
  {
   "cell_type": "code",
   "execution_count": null,
   "metadata": {},
   "outputs": [],
   "source": []
  }
 ],
 "metadata": {
  "kernelspec": {
   "display_name": "Python 3",
   "language": "python",
   "name": "python3"
  },
  "language_info": {
   "codemirror_mode": {
    "name": "ipython",
    "version": 3
   },
   "file_extension": ".py",
   "mimetype": "text/x-python",
   "name": "python",
   "nbconvert_exporter": "python",
   "pygments_lexer": "ipython3",
   "version": "3.6.6"
  }
 },
 "nbformat": 4,
 "nbformat_minor": 2
}
