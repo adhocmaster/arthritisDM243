{
 "cells": [
  {
   "cell_type": "code",
   "execution_count": 1,
   "metadata": {},
   "outputs": [
    {
     "name": "stdout",
     "output_type": "stream",
     "text": [
      "current working dirF:\\myProjects\\tfKeras\\UCSC\\CSE243\\Project\n"
     ]
    }
   ],
   "source": [
    "import numpy as np\n",
    "import pandas as pd\n",
    "\n",
    "import matplotlib.pyplot as plt\n",
    "\n",
    "import seaborn as sns\n",
    "exec(open(\"inc_notebook.py\").read())"
   ]
  },
  {
   "cell_type": "code",
   "execution_count": 9,
   "metadata": {},
   "outputs": [],
   "source": [
    "destNoDate = 'data/10.25.14 us and uk 900 - Values Transformed - No Date.csv'\n",
    "destNoDateNoPost = 'data/10.25.14 us and uk 900 - Values Transformed - No Date No Post.csv'"
   ]
  },
  {
   "cell_type": "code",
   "execution_count": 10,
   "metadata": {},
   "outputs": [],
   "source": [
    "df = pd.read_csv('data/10.25.14 us and uk 900 - Values Transformed.csv', encoding='utf-8-sig')"
   ]
  },
  {
   "cell_type": "code",
   "execution_count": 11,
   "metadata": {},
   "outputs": [
    {
     "name": "stdout",
     "output_type": "stream",
     "text": [
      "Onset_Age has 1 nas\n",
      "1st_dx_yr has 5 nas\n",
      "New_Dx_Year has 751 nas\n",
      "Dr_Dx_other has 836 nas\n",
      "Add_AAdxRADate has 866 nas\n",
      "Add_AAdxPsADate has 886 nas\n",
      "Add_AAdxSLEdate has 872 nas\n",
      "Add_AAdxSSdate has 820 nas\n",
      "Add_AAdxSDdate has 898 nas\n",
      "Add_AAdxASdate has 884 nas\n",
      "Fibro_dxdate has 760 nas\n"
     ]
    }
   ],
   "source": [
    "nas = np.sum(df.isna())\n",
    "for index, val in nas.iteritems():\n",
    "    if val > 0:\n",
    "        print(f'{index} has {val} nas')"
   ]
  },
  {
   "cell_type": "code",
   "execution_count": 12,
   "metadata": {},
   "outputs": [
    {
     "ename": "KeyError",
     "evalue": "\"['First_onset_visit_other'] not found in axis\"",
     "output_type": "error",
     "traceback": [
      "\u001b[1;31m---------------------------------------------------------------------------\u001b[0m",
      "\u001b[1;31mKeyError\u001b[0m                                  Traceback (most recent call last)",
      "\u001b[1;32m<ipython-input-12-e7a95a8d970d>\u001b[0m in \u001b[0;36m<module>\u001b[1;34m()\u001b[0m\n\u001b[0;32m      1\u001b[0m \u001b[0mremovableCols\u001b[0m \u001b[1;33m=\u001b[0m \u001b[1;33m[\u001b[0m\u001b[1;34m'Dr_Dx'\u001b[0m\u001b[1;33m,\u001b[0m \u001b[1;34m'Dr_Dx_other'\u001b[0m\u001b[1;33m,\u001b[0m \u001b[1;34m'First_onset_visit'\u001b[0m\u001b[1;33m,\u001b[0m \u001b[1;34m'First_onset_visit_other'\u001b[0m\u001b[1;33m,\u001b[0m \u001b[1;34m'referral_time_mos'\u001b[0m\u001b[1;33m,\u001b[0m \u001b[1;34m'Fibro_dx'\u001b[0m\u001b[1;33m]\u001b[0m\u001b[1;33m\u001b[0m\u001b[0m\n\u001b[0;32m      2\u001b[0m \u001b[1;32mfor\u001b[0m \u001b[0mdateCol\u001b[0m \u001b[1;32min\u001b[0m \u001b[0mremovableCols\u001b[0m\u001b[1;33m:\u001b[0m\u001b[1;33m\u001b[0m\u001b[0m\n\u001b[1;32m----> 3\u001b[1;33m     \u001b[0mdf\u001b[0m\u001b[1;33m.\u001b[0m\u001b[0mdrop\u001b[0m\u001b[1;33m(\u001b[0m\u001b[0mdateCol\u001b[0m\u001b[1;33m,\u001b[0m \u001b[0maxis\u001b[0m\u001b[1;33m=\u001b[0m\u001b[1;36m1\u001b[0m\u001b[1;33m,\u001b[0m \u001b[0minplace\u001b[0m\u001b[1;33m=\u001b[0m\u001b[1;32mTrue\u001b[0m\u001b[1;33m)\u001b[0m\u001b[1;33m\u001b[0m\u001b[0m\n\u001b[0m",
      "\u001b[1;32mD:\\ProgramData\\Anaconda3\\envs\\tf\\lib\\site-packages\\pandas\\core\\frame.py\u001b[0m in \u001b[0;36mdrop\u001b[1;34m(self, labels, axis, index, columns, level, inplace, errors)\u001b[0m\n\u001b[0;32m   3695\u001b[0m                                            \u001b[0mindex\u001b[0m\u001b[1;33m=\u001b[0m\u001b[0mindex\u001b[0m\u001b[1;33m,\u001b[0m \u001b[0mcolumns\u001b[0m\u001b[1;33m=\u001b[0m\u001b[0mcolumns\u001b[0m\u001b[1;33m,\u001b[0m\u001b[1;33m\u001b[0m\u001b[0m\n\u001b[0;32m   3696\u001b[0m                                            \u001b[0mlevel\u001b[0m\u001b[1;33m=\u001b[0m\u001b[0mlevel\u001b[0m\u001b[1;33m,\u001b[0m \u001b[0minplace\u001b[0m\u001b[1;33m=\u001b[0m\u001b[0minplace\u001b[0m\u001b[1;33m,\u001b[0m\u001b[1;33m\u001b[0m\u001b[0m\n\u001b[1;32m-> 3697\u001b[1;33m                                            errors=errors)\n\u001b[0m\u001b[0;32m   3698\u001b[0m \u001b[1;33m\u001b[0m\u001b[0m\n\u001b[0;32m   3699\u001b[0m     @rewrite_axis_style_signature('mapper', [('copy', True),\n",
      "\u001b[1;32mD:\\ProgramData\\Anaconda3\\envs\\tf\\lib\\site-packages\\pandas\\core\\generic.py\u001b[0m in \u001b[0;36mdrop\u001b[1;34m(self, labels, axis, index, columns, level, inplace, errors)\u001b[0m\n\u001b[0;32m   3109\u001b[0m         \u001b[1;32mfor\u001b[0m \u001b[0maxis\u001b[0m\u001b[1;33m,\u001b[0m \u001b[0mlabels\u001b[0m \u001b[1;32min\u001b[0m \u001b[0maxes\u001b[0m\u001b[1;33m.\u001b[0m\u001b[0mitems\u001b[0m\u001b[1;33m(\u001b[0m\u001b[1;33m)\u001b[0m\u001b[1;33m:\u001b[0m\u001b[1;33m\u001b[0m\u001b[0m\n\u001b[0;32m   3110\u001b[0m             \u001b[1;32mif\u001b[0m \u001b[0mlabels\u001b[0m \u001b[1;32mis\u001b[0m \u001b[1;32mnot\u001b[0m \u001b[1;32mNone\u001b[0m\u001b[1;33m:\u001b[0m\u001b[1;33m\u001b[0m\u001b[0m\n\u001b[1;32m-> 3111\u001b[1;33m                 \u001b[0mobj\u001b[0m \u001b[1;33m=\u001b[0m \u001b[0mobj\u001b[0m\u001b[1;33m.\u001b[0m\u001b[0m_drop_axis\u001b[0m\u001b[1;33m(\u001b[0m\u001b[0mlabels\u001b[0m\u001b[1;33m,\u001b[0m \u001b[0maxis\u001b[0m\u001b[1;33m,\u001b[0m \u001b[0mlevel\u001b[0m\u001b[1;33m=\u001b[0m\u001b[0mlevel\u001b[0m\u001b[1;33m,\u001b[0m \u001b[0merrors\u001b[0m\u001b[1;33m=\u001b[0m\u001b[0merrors\u001b[0m\u001b[1;33m)\u001b[0m\u001b[1;33m\u001b[0m\u001b[0m\n\u001b[0m\u001b[0;32m   3112\u001b[0m \u001b[1;33m\u001b[0m\u001b[0m\n\u001b[0;32m   3113\u001b[0m         \u001b[1;32mif\u001b[0m \u001b[0minplace\u001b[0m\u001b[1;33m:\u001b[0m\u001b[1;33m\u001b[0m\u001b[0m\n",
      "\u001b[1;32mD:\\ProgramData\\Anaconda3\\envs\\tf\\lib\\site-packages\\pandas\\core\\generic.py\u001b[0m in \u001b[0;36m_drop_axis\u001b[1;34m(self, labels, axis, level, errors)\u001b[0m\n\u001b[0;32m   3141\u001b[0m                 \u001b[0mnew_axis\u001b[0m \u001b[1;33m=\u001b[0m \u001b[0maxis\u001b[0m\u001b[1;33m.\u001b[0m\u001b[0mdrop\u001b[0m\u001b[1;33m(\u001b[0m\u001b[0mlabels\u001b[0m\u001b[1;33m,\u001b[0m \u001b[0mlevel\u001b[0m\u001b[1;33m=\u001b[0m\u001b[0mlevel\u001b[0m\u001b[1;33m,\u001b[0m \u001b[0merrors\u001b[0m\u001b[1;33m=\u001b[0m\u001b[0merrors\u001b[0m\u001b[1;33m)\u001b[0m\u001b[1;33m\u001b[0m\u001b[0m\n\u001b[0;32m   3142\u001b[0m             \u001b[1;32melse\u001b[0m\u001b[1;33m:\u001b[0m\u001b[1;33m\u001b[0m\u001b[0m\n\u001b[1;32m-> 3143\u001b[1;33m                 \u001b[0mnew_axis\u001b[0m \u001b[1;33m=\u001b[0m \u001b[0maxis\u001b[0m\u001b[1;33m.\u001b[0m\u001b[0mdrop\u001b[0m\u001b[1;33m(\u001b[0m\u001b[0mlabels\u001b[0m\u001b[1;33m,\u001b[0m \u001b[0merrors\u001b[0m\u001b[1;33m=\u001b[0m\u001b[0merrors\u001b[0m\u001b[1;33m)\u001b[0m\u001b[1;33m\u001b[0m\u001b[0m\n\u001b[0m\u001b[0;32m   3144\u001b[0m             \u001b[0mresult\u001b[0m \u001b[1;33m=\u001b[0m \u001b[0mself\u001b[0m\u001b[1;33m.\u001b[0m\u001b[0mreindex\u001b[0m\u001b[1;33m(\u001b[0m\u001b[1;33m**\u001b[0m\u001b[1;33m{\u001b[0m\u001b[0maxis_name\u001b[0m\u001b[1;33m:\u001b[0m \u001b[0mnew_axis\u001b[0m\u001b[1;33m}\u001b[0m\u001b[1;33m)\u001b[0m\u001b[1;33m\u001b[0m\u001b[0m\n\u001b[0;32m   3145\u001b[0m \u001b[1;33m\u001b[0m\u001b[0m\n",
      "\u001b[1;32mD:\\ProgramData\\Anaconda3\\envs\\tf\\lib\\site-packages\\pandas\\core\\indexes\\base.py\u001b[0m in \u001b[0;36mdrop\u001b[1;34m(self, labels, errors)\u001b[0m\n\u001b[0;32m   4402\u001b[0m             \u001b[1;32mif\u001b[0m \u001b[0merrors\u001b[0m \u001b[1;33m!=\u001b[0m \u001b[1;34m'ignore'\u001b[0m\u001b[1;33m:\u001b[0m\u001b[1;33m\u001b[0m\u001b[0m\n\u001b[0;32m   4403\u001b[0m                 raise KeyError(\n\u001b[1;32m-> 4404\u001b[1;33m                     '{} not found in axis'.format(labels[mask]))\n\u001b[0m\u001b[0;32m   4405\u001b[0m             \u001b[0mindexer\u001b[0m \u001b[1;33m=\u001b[0m \u001b[0mindexer\u001b[0m\u001b[1;33m[\u001b[0m\u001b[1;33m~\u001b[0m\u001b[0mmask\u001b[0m\u001b[1;33m]\u001b[0m\u001b[1;33m\u001b[0m\u001b[0m\n\u001b[0;32m   4406\u001b[0m         \u001b[1;32mreturn\u001b[0m \u001b[0mself\u001b[0m\u001b[1;33m.\u001b[0m\u001b[0mdelete\u001b[0m\u001b[1;33m(\u001b[0m\u001b[0mindexer\u001b[0m\u001b[1;33m)\u001b[0m\u001b[1;33m\u001b[0m\u001b[0m\n",
      "\u001b[1;31mKeyError\u001b[0m: \"['First_onset_visit_other'] not found in axis\""
     ]
    }
   ],
   "source": [
    "removableCols = ['Dr_Dx', 'Dr_Dx_other', 'First_onset_visit', 'First_onset_visit_other', 'referral_time_mos', 'Fibro_dx']\n",
    "for dateCol in removableCols:\n",
    "    df.drop(dateCol, axis=1, inplace=True)"
   ]
  },
  {
   "cell_type": "code",
   "execution_count": 20,
   "metadata": {},
   "outputs": [
    {
     "name": "stdout",
     "output_type": "stream",
     "text": [
      "Dropping BirthdateYear_xxxx\n",
      "Dropping New_Dx_Year\n",
      "Dropping Add_AAdxRADate\n",
      "Dropping Add_AAdxPsADate\n",
      "Dropping Add_AAdxSLEdate\n",
      "Dropping Add_AAdxSSdate\n",
      "Dropping Add_AAdxSDdate\n",
      "Dropping Add_AAdxASdate\n",
      "Dropping Fibro_dxdate\n",
      "Dropping Post_AD_AD\n",
      "Dropping Post_AD_Addison\n",
      "Dropping Post_AD_Hep\n",
      "Dropping Post_AD_Myo\n",
      "Dropping Post_AD_Pan\n",
      "Dropping Post_AD_Beh\n",
      "Dropping Post_AD_Cel\n",
      "Dropping Post_AD_Cro\n",
      "Dropping Post_AD_CRE\n",
      "Dropping Post_AD_Derma\n",
      "Dropping Post_AD_Disc\n",
      "Dropping Post_AD_Endo\n",
      "Dropping Post_AD_Hashi\n",
      "Dropping Post_AD_Hug\n",
      "Dropping Post_AD_Inter\n",
      "Dropping Post_AD_Lym\n",
      "Dropping Post_AD_MyoPol\n",
      "Dropping Post_AD_Pal\n",
      "Dropping Post_AD_Peri\n",
      "Dropping Post_AD_Pol\n",
      "Dropping Post_AD_Rea\n",
      "Dropping Post_AD_Rel\n",
      "Dropping Post_AD_Scleritis\n",
      "Dropping Post_AD_Scleroderma\n",
      "Dropping Post_AD_Thy\n",
      "Dropping Post_AD_Type_1\n",
      "Dropping Post_AD_Ulcerative\n",
      "Dropping Post_AD_Vasculitis\n",
      "Dropping Post_AD_Vitiligo\n",
      "Dropping Post_AD_Other_AD\n",
      "Dropping Post_AD_Other_AD_Text\n",
      "Dropping Add_AAdx_11\n",
      "Dropping Add_AAdxRA\n",
      "Dropping Add_AAdxPsA\n",
      "Dropping Add_AAdxSLE\n",
      "Dropping Add_AAdxSS\n",
      "Dropping Add_AAdxSD\n",
      "Dropping Add_AAdxAS\n"
     ]
    }
   ],
   "source": [
    "df.drop('1st_dx_yr', axis=1, inplace=True)\n",
    "for dateCol in df.columns:\n",
    "    if dateCol.lower().find('date') >= 0 or dateCol.lower().find('year') >= 0:\n",
    "        print(f'Dropping {dateCol}')\n",
    "        df.drop(dateCol, axis=1, inplace=True)\n",
    "\n",
    "df.to_csv(destNoDate, encoding='utf-8-sig', index=False)\n",
    "\n",
    "# remove all post information\n",
    "\n",
    "for dateCol in df.columns:\n",
    "    if dateCol.lower().find('post_ad') >= 0 or dateCol.lower().find('add_aadx') >= 0:\n",
    "        print(f'Dropping {dateCol}')\n",
    "        df.drop(dateCol, axis=1, inplace=True)\n",
    "\n",
    "df.to_csv(destNoDateNoPost, encoding='utf-8-sig', index=False)"
   ]
  },
  {
   "cell_type": "code",
   "execution_count": 21,
   "metadata": {},
   "outputs": [
    {
     "name": "stdout",
     "output_type": "stream",
     "text": [
      "Dropping Add_AAdx_11\n",
      "Dropping Add_AAdxRA\n",
      "Dropping Add_AAdxPsA\n",
      "Dropping Add_AAdxSLE\n",
      "Dropping Add_AAdxSS\n",
      "Dropping Add_AAdxSD\n",
      "Dropping Add_AAdxAS\n"
     ]
    }
   ],
   "source": [
    "# selection for 2nd diseases (Post is other than 6, AAD is among six)\n",
    "df = pd.read_csv(destNoDate, encoding='utf-8-sig')\n",
    "#1. Combine Post_AD, Post_Count\n",
    "\n",
    "for dateCol in df.columns:\n",
    "    if dateCol.lower().find('add_aadx') >= 0:\n",
    "        print(f'Dropping {dateCol}')\n",
    "        df.drop(dateCol, axis=1, inplace=True)\n",
    "\n",
    "\n",
    "# df.to_csv(destNoDateNoPost, encoding='utf-8-sig', index=False)"
   ]
  },
  {
   "cell_type": "code",
   "execution_count": 22,
   "metadata": {},
   "outputs": [
    {
     "data": {
      "text/plain": [
       "no     763\n",
       "yes    137\n",
       "Name: Post_AD_AD, dtype: int64"
      ]
     },
     "execution_count": 22,
     "metadata": {},
     "output_type": "execute_result"
    }
   ],
   "source": [
    "df.Post_AD_AD.value_counts(dropna=False)"
   ]
  },
  {
   "cell_type": "code",
   "execution_count": 23,
   "metadata": {},
   "outputs": [
    {
     "name": "stdout",
     "output_type": "stream",
     "text": [
      "Onset_Age\n",
      "New_Dx\n",
      "Post_AD_Other_AD_Text\n",
      "Mental_Stressors\n",
      "Virus_Other_Text\n",
      "Give_Birth\n",
      "first_dr_response_Other_Text\n",
      "Ex1_1_Other\n",
      "Ex2_3_LHand_ABCJoint_0_12\n",
      "Ex2_3_RHand_ABCJoint_0_12\n",
      "Ex2_4_LHand_ABCJoints_12_24\n",
      "Ex2_4_RHand_ABCJoints_12_24\n",
      "Ex5_16_Stiff_duration\n",
      "Ex5_19_Fv_Type\n",
      "Ex5_19_Fv_Higher_0_12\n",
      "Ex5_30b_Other_Text\n",
      "Ex5_30c_Ps_Dx\n",
      "Ex5_30d_Ps_pre_arthritis\n",
      "Ex5_35_Dental_24_Other_text\n",
      "Ex5_36_ID_Nodules_othertext\n",
      "Ex5_38_Nail_Change_24\n",
      "Ex5_38_Nail_other_ext\n",
      "Ex5_39_Raynauds_24\n",
      "Ex5_40_Hepatomegaly\n",
      "Ex5_41_Splenomegaly\n",
      "Ex5_42_Anemic_Dx\n",
      "Part3_1_rheu\n",
      "Part3_2_psor\n",
      "Part3_3_sys\n",
      "Part3_3_sys_other_Text\n",
      "Part3_4_sjo\n",
      "Part3_5_still_other_Text\n",
      "Part3_6_Ank\n",
      "Part3_6_Ank_other_Text\n"
     ]
    }
   ],
   "source": []
  },
  {
   "cell_type": "code",
   "execution_count": null,
   "metadata": {},
   "outputs": [],
   "source": []
  }
 ],
 "metadata": {
  "kernelspec": {
   "display_name": "Python 3",
   "language": "python",
   "name": "python3"
  },
  "language_info": {
   "codemirror_mode": {
    "name": "ipython",
    "version": 3
   },
   "file_extension": ".py",
   "mimetype": "text/x-python",
   "name": "python",
   "nbconvert_exporter": "python",
   "pygments_lexer": "ipython3",
   "version": "3.6.6"
  }
 },
 "nbformat": 4,
 "nbformat_minor": 2
}
