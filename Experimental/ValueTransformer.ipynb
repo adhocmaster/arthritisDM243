{
 "cells": [
  {
   "cell_type": "code",
   "execution_count": 1,
   "metadata": {},
   "outputs": [
    {
     "name": "stdout",
     "output_type": "stream",
     "text": [
      "current working dirF:\\myProjects\\tfKeras\\UCSC\\CSE243\\Project\n"
     ]
    }
   ],
   "source": [
    "import numpy as np\n",
    "import pandas as pd\n",
    "\n",
    "import matplotlib.pyplot as plt\n",
    "\n",
    "import seaborn as sns\n",
    "exec(open(\"inc_notebook.py\").read())"
   ]
  },
  {
   "cell_type": "code",
   "execution_count": 83,
   "metadata": {},
   "outputs": [],
   "source": [
    "sources = {\n",
    "    '900': 'data/10.25.14 us and uk 900 - Manual Value Fixes.csv',\n",
    "}\n",
    "df = pd.read_csv(sources['900'], encoding='utf-8-sig')"
   ]
  },
  {
   "cell_type": "code",
   "execution_count": 117,
   "metadata": {},
   "outputs": [],
   "source": [
    "\n",
    "if sys.modules.get( 'library.ValueTransformer', False ) != False :\n",
    "    del sys.modules['library.ValueTransformer'] \n",
    "    \n",
    "from library.ValueTransformer import *\n",
    "valTransformer = ValueTransformer()\n",
    "\n",
    "\n",
    "if sys.modules.get( 'library.CheckboxTransformer', False ) != False :\n",
    "    del sys.modules['library.CheckboxTransformer'] \n",
    "    \n",
    "from library.CheckboxTransformer import *\n",
    "checkboxTransformer = CheckboxTransformer()\n",
    "\n",
    "if sys.modules.get( 'library.CategoryValueTransformer', False ) != False :\n",
    "    del sys.modules['library.CategoryValueTransformer'] \n",
    "    \n",
    "from library.CategoryValueTransformer import *\n",
    "categoryValueTransformer = CategoryValueTransformer()"
   ]
  },
  {
   "cell_type": "code",
   "execution_count": 85,
   "metadata": {},
   "outputs": [],
   "source": [
    "# df.Initial_Dx.value_counts(dropna=False)"
   ]
  },
  {
   "cell_type": "code",
   "execution_count": 86,
   "metadata": {},
   "outputs": [],
   "source": [
    "# df.Dx_Chosen.value_counts(dropna=False)"
   ]
  },
  {
   "cell_type": "code",
   "execution_count": 87,
   "metadata": {},
   "outputs": [],
   "source": [
    "df = valTransformer.transformInitialDx(df)\n",
    "df = valTransformer.transformDx_Chosen(df)"
   ]
  },
  {
   "cell_type": "code",
   "execution_count": 88,
   "metadata": {},
   "outputs": [],
   "source": [
    "# df.Dr_Dx.value_counts(dropna=False)"
   ]
  },
  {
   "cell_type": "code",
   "execution_count": 89,
   "metadata": {},
   "outputs": [],
   "source": [
    "# df.Dr_Dx_other.value_counts(dropna=False)"
   ]
  },
  {
   "cell_type": "code",
   "execution_count": 90,
   "metadata": {},
   "outputs": [],
   "source": [
    "# for dr in df.Dr_Dx_other.unique():\n",
    "#     print(f'\\'{dr}\\': ,')"
   ]
  },
  {
   "cell_type": "code",
   "execution_count": 116,
   "metadata": {},
   "outputs": [
    {
     "name": "stdout",
     "output_type": "stream",
     "text": [
      "transforming column 13: Prior_AD_Hep\n"
     ]
    },
    {
     "ename": "Exception",
     "evalue": "index 13 has more than one unique values. Stopping at 13",
     "output_type": "error",
     "traceback": [
      "\u001b[1;31m---------------------------------------------------------------------------\u001b[0m",
      "\u001b[1;31mException\u001b[0m                                 Traceback (most recent call last)",
      "\u001b[1;32m<ipython-input-116-f375f620d4cc>\u001b[0m in \u001b[0;36m<module>\u001b[1;34m()\u001b[0m\n\u001b[0;32m      1\u001b[0m \u001b[1;31m# from Prior_AD_Hep to Prior_AD_Other_AD\u001b[0m\u001b[1;33m\u001b[0m\u001b[1;33m\u001b[0m\u001b[0m\n\u001b[0;32m      2\u001b[0m \u001b[0mdf\u001b[0m \u001b[1;33m=\u001b[0m \u001b[0mvalTransformer\u001b[0m\u001b[1;33m.\u001b[0m\u001b[0msanitizeTextCol\u001b[0m\u001b[1;33m(\u001b[0m\u001b[0mdf\u001b[0m\u001b[1;33m,\u001b[0m \u001b[1;34m'Prior_AD'\u001b[0m\u001b[1;33m)\u001b[0m\u001b[1;33m\u001b[0m\u001b[0m\n\u001b[1;32m----> 3\u001b[1;33m \u001b[0mdf\u001b[0m \u001b[1;33m=\u001b[0m \u001b[0mcheckboxTransformer\u001b[0m\u001b[1;33m.\u001b[0m\u001b[0mtransformByIndex\u001b[0m\u001b[1;33m(\u001b[0m\u001b[0mdf\u001b[0m\u001b[1;33m,\u001b[0m \u001b[0mdf\u001b[0m\u001b[1;33m.\u001b[0m\u001b[0mcolumns\u001b[0m\u001b[1;33m.\u001b[0m\u001b[0mget_loc\u001b[0m\u001b[1;33m(\u001b[0m\u001b[1;34m'Prior_AD_Hep'\u001b[0m\u001b[1;33m)\u001b[0m\u001b[1;33m,\u001b[0m \u001b[0mdf\u001b[0m\u001b[1;33m.\u001b[0m\u001b[0mcolumns\u001b[0m\u001b[1;33m.\u001b[0m\u001b[0mget_loc\u001b[0m\u001b[1;33m(\u001b[0m\u001b[1;34m'Prior_AD_Other_AD'\u001b[0m\u001b[1;33m)\u001b[0m\u001b[1;33m)\u001b[0m\u001b[1;33m\u001b[0m\u001b[0m\n\u001b[0m\u001b[0;32m      4\u001b[0m \u001b[1;31m# df2 = checkboxTransformer.transformByIndex(df, 39, 39)\u001b[0m\u001b[1;33m\u001b[0m\u001b[1;33m\u001b[0m\u001b[0m\n",
      "\u001b[1;32mF:\\myProjects\\tfKeras\\UCSC\\CSE243\\Project\\library\\CheckboxTransformer.py\u001b[0m in \u001b[0;36mtransformByIndex\u001b[1;34m(self, df, startIndex, endIndex)\u001b[0m\n\u001b[0;32m     22\u001b[0m \u001b[1;33m\u001b[0m\u001b[0m\n\u001b[0;32m     23\u001b[0m             \u001b[1;32mif\u001b[0m \u001b[0mnumberOfVals\u001b[0m \u001b[1;33m>\u001b[0m \u001b[1;36m1\u001b[0m\u001b[1;33m:\u001b[0m\u001b[1;33m\u001b[0m\u001b[0m\n\u001b[1;32m---> 24\u001b[1;33m                 \u001b[1;32mraise\u001b[0m \u001b[0mException\u001b[0m\u001b[1;33m(\u001b[0m\u001b[1;34mf'index {i} has more than one unique values. Stopping at {i}'\u001b[0m\u001b[1;33m)\u001b[0m\u001b[1;33m\u001b[0m\u001b[0m\n\u001b[0m\u001b[0;32m     25\u001b[0m \u001b[1;33m\u001b[0m\u001b[0m\n\u001b[0;32m     26\u001b[0m             \u001b[1;32mif\u001b[0m \u001b[0mdf\u001b[0m\u001b[1;33m.\u001b[0m\u001b[0miloc\u001b[0m\u001b[1;33m[\u001b[0m\u001b[1;33m:\u001b[0m\u001b[1;33m,\u001b[0m \u001b[0mi\u001b[0m\u001b[1;33m]\u001b[0m\u001b[1;33m.\u001b[0m\u001b[0mvalue_counts\u001b[0m\u001b[1;33m(\u001b[0m\u001b[1;33m)\u001b[0m\u001b[1;33m.\u001b[0m\u001b[0mindex\u001b[0m\u001b[1;33m[\u001b[0m\u001b[1;36m0\u001b[0m\u001b[1;33m]\u001b[0m \u001b[1;33m!=\u001b[0m \u001b[1;36m1.0\u001b[0m\u001b[1;33m:\u001b[0m\u001b[1;33m\u001b[0m\u001b[0m\n",
      "\u001b[1;31mException\u001b[0m: index 13 has more than one unique values. Stopping at 13"
     ]
    }
   ],
   "source": [
    "# from Prior_AD_Hep to Prior_AD_Other_AD\n",
    "df = categoryValueTransformer.transform(df, 'Prior_AD')\n",
    "df = checkboxTransformer.transformByIndex(df, df.columns.get_loc('Prior_AD_Hep'), df.columns.get_loc('Prior_AD_Other_AD'))\n",
    "df = categoryValueTransformer.transform(df, 'Prior_AD_Other_AD_Text')"
   ]
  },
  {
   "cell_type": "code",
   "execution_count": 78,
   "metadata": {},
   "outputs": [
    {
     "data": {
      "text/plain": [
       "1.0"
      ]
     },
     "execution_count": 78,
     "metadata": {},
     "output_type": "execute_result"
    }
   ],
   "source": [
    "df.iloc[:, 13].value_counts(dropna=False).index[1]"
   ]
  },
  {
   "cell_type": "code",
   "execution_count": 93,
   "metadata": {},
   "outputs": [],
   "source": []
  },
  {
   "cell_type": "code",
   "execution_count": 94,
   "metadata": {},
   "outputs": [
    {
     "data": {
      "text/plain": [
       "NA                                                                                845\n",
       "psoriasis                                                                           8\n",
       "fibromyalgia                                                                        4\n",
       "asthma                                                                              3\n",
       "lupus                                                                               2\n",
       "iga_nephropathy                                                                     1\n",
       "iritis                                                                              1\n",
       "chronic_fatigue                                                                     1\n",
       "type_ii_diabetes                                                                    1\n",
       "postural_orthostatic_tachycardia_syndrome_adrenergic_receptor_antibodies            1\n",
       "ehlers_danlos_syndrome                                                              1\n",
       "drug_induced_lupus                                                                  1\n",
       "autoimmune_urticaria                                                                1\n",
       "pbs                                                                                 1\n",
       "necrobiosis_lipoidica,_granuloma_anulare                                            1\n",
       "juvenile_idiopathic_arthritis                                                       1\n",
       "acute_thrombocyto_penicillin_purpura                                                1\n",
       "papillary_carcinoma_of_my_thyroid_gland-_had_a_total_thyroidectomy_in_jam_2001      1\n",
       "raynaud's_disease                                                                   1\n",
       "raynaulds                                                                           1\n",
       "pots                                                                                1\n",
       "eds_-_ehlers_dalos_syndrome_and_lymphedema                                          1\n",
       "dishyrotic_eczema                                                                   1\n",
       "lichen_planus                                                                       1\n",
       "depression                                                                          1\n",
       "kawasaki_syndrome_1979                                                              1\n",
       "scarlet_fever                                                                       1\n",
       "neutropenia                                                                         1\n",
       "antophospholipid_anti_body_syndrome                                                 1\n",
       "fibromyalgia,_psoriasis                                                             1\n",
       "diabetes_type_1                                                                     1\n",
       "diffuse_ctda                                                                        1\n",
       "glandular_fever                                                                     1\n",
       "erythema_nodosum                                                                    1\n",
       "b12                                                                                 1\n",
       "juvenile_rheumatoid_arthritis_is_a_little_girl_age_8                                1\n",
       "itp_-_idiopathic_thrombocytopenic_purpura                                           1\n",
       "alopecia_areata                                                                     1\n",
       "itp                                                                                 1\n",
       "postural_orthostatic_tachacardia_symndrome__pots                                    1\n",
       "arthritis                                                                           1\n",
       "granulomma_anulare                                                                  1\n",
       "note:_i_have_common_variable_immunodeficiency                                       1\n",
       "Name: Prior_AD_Other_AD_Text, dtype: int64"
      ]
     },
     "execution_count": 94,
     "metadata": {},
     "output_type": "execute_result"
    }
   ],
   "source": [
    "df['Prior_AD_Other_AD_Text'].value_counts(dropna=False)"
   ]
  },
  {
   "cell_type": "code",
   "execution_count": 119,
   "metadata": {},
   "outputs": [
    {
     "name": "stdout",
     "output_type": "stream",
     "text": [
      "transforming column 42: Post_AD_Addison\n",
      "transforming column as it has no errors 42\n",
      "transforming column 43: Post_AD_Hep\n",
      "transforming column as it has no errors 43\n",
      "transforming column 44: Post_AD_Myo\n",
      "transforming column as it has no errors 44\n",
      "transforming column 45: Post_AD_Pan\n",
      "transforming column as it has no errors 45\n",
      "transforming column 46: Post_AD_Beh\n",
      "transforming column as it has no errors 46\n",
      "transforming column 47: Post_AD_Cel\n",
      "transforming column as it has no errors 47\n",
      "transforming column 48: Post_AD_Cro\n",
      "transforming column as it has no errors 48\n",
      "transforming column 49: Post_AD_CRE\n",
      "column 49: Post_AD_CRE has no value. filling with zeros\n",
      "transforming column 50: Post_AD_Derma\n",
      "transforming column as it has no errors 50\n",
      "transforming column 51: Post_AD_Disc\n",
      "transforming column as it has no errors 51\n",
      "transforming column 52: Post_AD_Endo\n",
      "transforming column as it has no errors 52\n",
      "transforming column 53: Post_AD_Hashi\n",
      "transforming column as it has no errors 53\n",
      "transforming column 54: Post_AD_Hug\n",
      "transforming column as it has no errors 54\n",
      "transforming column 55: Post_AD_Inter\n",
      "transforming column as it has no errors 55\n",
      "transforming column 56: Post_AD_Lym\n",
      "transforming column as it has no errors 56\n",
      "transforming column 57: Post_AD_MyoPol\n",
      "transforming column as it has no errors 57\n",
      "transforming column 58: Post_AD_Pal\n",
      "column 58: Post_AD_Pal has no value. filling with zeros\n",
      "transforming column 59: Post_AD_Peri\n",
      "transforming column as it has no errors 59\n",
      "transforming column 60: Post_AD_Pol\n",
      "transforming column as it has no errors 60\n",
      "transforming column 61: Post_AD_Rea\n",
      "transforming column as it has no errors 61\n",
      "transforming column 62: Post_AD_Rel\n",
      "transforming column as it has no errors 62\n",
      "transforming column 63: Post_AD_Scleritis\n",
      "transforming column as it has no errors 63\n",
      "transforming column 64: Post_AD_Scleroderma\n",
      "transforming column as it has no errors 64\n",
      "transforming column 65: Post_AD_Thy\n",
      "transforming column as it has no errors 65\n",
      "transforming column 66: Post_AD_Type_1\n",
      "transforming column as it has no errors 66\n",
      "transforming column 67: Post_AD_Ulcerative\n",
      "transforming column as it has no errors 67\n",
      "transforming column 68: Post_AD_Vasculitis\n",
      "transforming column as it has no errors 68\n",
      "transforming column 69: Post_AD_Vitiligo\n",
      "transforming column as it has no errors 69\n",
      "transforming column 70: Post_AD_Other_AD\n",
      "transforming column as it has no errors 70\n"
     ]
    }
   ],
   "source": [
    "# Post AD\n",
    "df = categoryValueTransformer.transform(df, 'Post_AD_AD')\n",
    "df = checkboxTransformer.transformByIndex(df, df.columns.get_loc('Post_AD_Addison'), df.columns.get_loc('Post_AD_Other_AD'))\n",
    "df = categoryValueTransformer.transform(df, 'Post_AD_Other_AD_Text')"
   ]
  },
  {
   "cell_type": "code",
   "execution_count": 114,
   "metadata": {},
   "outputs": [
    {
     "data": {
      "text/plain": [
       "0      s0.0\n",
       "1      s0.0\n",
       "2      s0.0\n",
       "3      s0.0\n",
       "4      s0.0\n",
       "5      s0.0\n",
       "6      s0.0\n",
       "7      s0.0\n",
       "8      s0.0\n",
       "9      s0.0\n",
       "10     s0.0\n",
       "11     s0.0\n",
       "12     s0.0\n",
       "13     s0.0\n",
       "14     s0.0\n",
       "15     s0.0\n",
       "16     s0.0\n",
       "17     s0.0\n",
       "18     s0.0\n",
       "19     s0.0\n",
       "20     s0.0\n",
       "21     s0.0\n",
       "22     s0.0\n",
       "23     s0.0\n",
       "24     s0.0\n",
       "25     s0.0\n",
       "26     s0.0\n",
       "27     s0.0\n",
       "28     s0.0\n",
       "29     s0.0\n",
       "       ... \n",
       "870    s0.0\n",
       "871    s0.0\n",
       "872    s0.0\n",
       "873    s0.0\n",
       "874    s0.0\n",
       "875    s0.0\n",
       "876    s0.0\n",
       "877    s0.0\n",
       "878    s0.0\n",
       "879    s0.0\n",
       "880    s0.0\n",
       "881    s0.0\n",
       "882    s0.0\n",
       "883    s0.0\n",
       "884    s0.0\n",
       "885    s0.0\n",
       "886    s0.0\n",
       "887    s0.0\n",
       "888    s0.0\n",
       "889    s0.0\n",
       "890    s0.0\n",
       "891    s0.0\n",
       "892    s0.0\n",
       "893    s0.0\n",
       "894    s0.0\n",
       "895    s0.0\n",
       "896    s0.0\n",
       "897    s0.0\n",
       "898    s0.0\n",
       "899    s0.0\n",
       "Name: Prior_AD_Hep, Length: 900, dtype: object"
      ]
     },
     "execution_count": 114,
     "metadata": {},
     "output_type": "execute_result"
    }
   ],
   "source": []
  },
  {
   "cell_type": "code",
   "execution_count": null,
   "metadata": {},
   "outputs": [],
   "source": []
  }
 ],
 "metadata": {
  "kernelspec": {
   "display_name": "Python 3",
   "language": "python",
   "name": "python3"
  },
  "language_info": {
   "codemirror_mode": {
    "name": "ipython",
    "version": 3
   },
   "file_extension": ".py",
   "mimetype": "text/x-python",
   "name": "python",
   "nbconvert_exporter": "python",
   "pygments_lexer": "ipython3",
   "version": "3.6.6"
  }
 },
 "nbformat": 4,
 "nbformat_minor": 2
}
