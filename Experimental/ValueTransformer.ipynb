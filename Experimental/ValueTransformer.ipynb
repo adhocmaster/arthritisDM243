{
 "cells": [
  {
   "cell_type": "code",
   "execution_count": 1,
   "metadata": {},
   "outputs": [
    {
     "name": "stdout",
     "output_type": "stream",
     "text": [
      "current working dirF:\\myProjects\\tfKeras\\UCSC\\CSE243\\Project\n"
     ]
    }
   ],
   "source": [
    "import numpy as np\n",
    "import pandas as pd\n",
    "\n",
    "import matplotlib.pyplot as plt\n",
    "\n",
    "import seaborn as sns\n",
    "exec(open(\"inc_notebook.py\").read())"
   ]
  },
  {
   "cell_type": "code",
   "execution_count": 2,
   "metadata": {},
   "outputs": [],
   "source": [
    "sources = {\n",
    "    '900': 'data/10.25.14 us and uk 900 - Manual Value Fixes.csv',\n",
    "}\n",
    "\n",
    "dest = 'data/10.25.14 us and uk 900 - Values Transformed.csv'\n",
    "df = pd.read_csv(sources['900'], encoding='utf-8-sig')"
   ]
  },
  {
   "cell_type": "code",
   "execution_count": 3,
   "metadata": {},
   "outputs": [],
   "source": [
    "\n",
    "if sys.modules.get( 'library.ValueTransformer', False ) != False :\n",
    "    del sys.modules['library.ValueTransformer'] \n",
    "    \n",
    "from library.ValueTransformer import *\n",
    "valTransformer = ValueTransformer()\n",
    "\n",
    "\n",
    "if sys.modules.get( 'library.CheckboxTransformer', False ) != False :\n",
    "    del sys.modules['library.CheckboxTransformer'] \n",
    "    \n",
    "from library.CheckboxTransformer import *\n",
    "checkboxTransformer = CheckboxTransformer()\n",
    "\n",
    "if sys.modules.get( 'library.CategoryValueTransformer', False ) != False :\n",
    "    del sys.modules['library.CategoryValueTransformer'] \n",
    "    \n",
    "from library.CategoryValueTransformer import *\n",
    "categoryValueTransformer = CategoryValueTransformer()"
   ]
  },
  {
   "cell_type": "code",
   "execution_count": 4,
   "metadata": {},
   "outputs": [
    {
     "ename": "AttributeError",
     "evalue": "Can only use .str accessor with string values, which use np.object_ dtype in pandas",
     "output_type": "error",
     "traceback": [
      "\u001b[1;31m---------------------------------------------------------------------------\u001b[0m",
      "\u001b[1;31mAttributeError\u001b[0m                            Traceback (most recent call last)",
      "\u001b[1;32m<ipython-input-4-83001b7a4a3b>\u001b[0m in \u001b[0;36m<module>\u001b[1;34m()\u001b[0m\n\u001b[0;32m      2\u001b[0m \u001b[0mdf\u001b[0m \u001b[1;33m=\u001b[0m \u001b[0mcategoryValueTransformer\u001b[0m\u001b[1;33m.\u001b[0m\u001b[0mtransform\u001b[0m\u001b[1;33m(\u001b[0m\u001b[0mdf\u001b[0m\u001b[1;33m,\u001b[0m \u001b[1;34m'Gender'\u001b[0m\u001b[1;33m)\u001b[0m\u001b[1;33m\u001b[0m\u001b[0m\n\u001b[0;32m      3\u001b[0m \u001b[0mdf\u001b[0m \u001b[1;33m=\u001b[0m \u001b[0mcategoryValueTransformer\u001b[0m\u001b[1;33m.\u001b[0m\u001b[0mtransform\u001b[0m\u001b[1;33m(\u001b[0m\u001b[0mdf\u001b[0m\u001b[1;33m,\u001b[0m \u001b[1;34m'Country'\u001b[0m\u001b[1;33m)\u001b[0m\u001b[1;33m\u001b[0m\u001b[0m\n\u001b[1;32m----> 4\u001b[1;33m \u001b[0mdf\u001b[0m \u001b[1;33m=\u001b[0m \u001b[0mcategoryValueTransformer\u001b[0m\u001b[1;33m.\u001b[0m\u001b[0mtransform\u001b[0m\u001b[1;33m(\u001b[0m\u001b[0mdf\u001b[0m\u001b[1;33m,\u001b[0m \u001b[1;34m'Onset_Age'\u001b[0m\u001b[1;33m)\u001b[0m\u001b[1;33m\u001b[0m\u001b[0m\n\u001b[0m\u001b[0;32m      5\u001b[0m \u001b[1;31m# df = categoryValueTransformer.transform(df, 'Prior_AD')\u001b[0m\u001b[1;33m\u001b[0m\u001b[1;33m\u001b[0m\u001b[0m\n",
      "\u001b[1;32mF:\\myProjects\\tfKeras\\UCSC\\CSE243\\Project\\library\\CategoryValueTransformer.py\u001b[0m in \u001b[0;36mtransform\u001b[1;34m(self, df, col)\u001b[0m\n\u001b[0;32m     14\u001b[0m         \u001b[1;31m# 2. Find duplicates? (minimal case, strip spaces)\u001b[0m\u001b[1;33m\u001b[0m\u001b[1;33m\u001b[0m\u001b[0m\n\u001b[0;32m     15\u001b[0m \u001b[1;33m\u001b[0m\u001b[0m\n\u001b[1;32m---> 16\u001b[1;33m         \u001b[0mdf\u001b[0m \u001b[1;33m=\u001b[0m \u001b[0mself\u001b[0m\u001b[1;33m.\u001b[0m\u001b[0mvalueTransformer\u001b[0m\u001b[1;33m.\u001b[0m\u001b[0msanitizeTextCol\u001b[0m\u001b[1;33m(\u001b[0m\u001b[0mdf\u001b[0m\u001b[1;33m,\u001b[0m \u001b[0mcol\u001b[0m\u001b[1;33m)\u001b[0m\u001b[1;33m\u001b[0m\u001b[0m\n\u001b[0m\u001b[0;32m     17\u001b[0m \u001b[1;33m\u001b[0m\u001b[0m\n\u001b[0;32m     18\u001b[0m         \u001b[1;31m# 3. Fill missing with NA\u001b[0m\u001b[1;33m\u001b[0m\u001b[1;33m\u001b[0m\u001b[0m\n",
      "\u001b[1;32mF:\\myProjects\\tfKeras\\UCSC\\CSE243\\Project\\library\\ValueTransformer.py\u001b[0m in \u001b[0;36msanitizeTextCol\u001b[1;34m(self, df, col)\u001b[0m\n\u001b[0;32m     23\u001b[0m \u001b[1;33m\u001b[0m\u001b[0m\n\u001b[0;32m     24\u001b[0m     \u001b[1;32mdef\u001b[0m \u001b[0msanitizeTextCol\u001b[0m\u001b[1;33m(\u001b[0m\u001b[0mself\u001b[0m\u001b[1;33m,\u001b[0m \u001b[0mdf\u001b[0m\u001b[1;33m:\u001b[0m\u001b[0mpd\u001b[0m\u001b[1;33m.\u001b[0m\u001b[0mDataFrame\u001b[0m\u001b[1;33m,\u001b[0m \u001b[0mcol\u001b[0m\u001b[1;33m)\u001b[0m\u001b[1;33m:\u001b[0m\u001b[1;33m\u001b[0m\u001b[0m\n\u001b[1;32m---> 25\u001b[1;33m         \u001b[0mdf\u001b[0m\u001b[1;33m[\u001b[0m\u001b[0mcol\u001b[0m\u001b[1;33m]\u001b[0m \u001b[1;33m=\u001b[0m \u001b[0mdf\u001b[0m\u001b[1;33m[\u001b[0m\u001b[0mcol\u001b[0m\u001b[1;33m]\u001b[0m\u001b[1;33m.\u001b[0m\u001b[0mstr\u001b[0m\u001b[1;33m.\u001b[0m\u001b[0mstrip\u001b[0m\u001b[1;33m(\u001b[0m\u001b[1;33m)\u001b[0m\u001b[1;33m.\u001b[0m\u001b[0mstr\u001b[0m\u001b[1;33m.\u001b[0m\u001b[0mlower\u001b[0m\u001b[1;33m(\u001b[0m\u001b[1;33m)\u001b[0m\u001b[1;33m.\u001b[0m\u001b[0mstr\u001b[0m\u001b[1;33m.\u001b[0m\u001b[0mreplace\u001b[0m\u001b[1;33m(\u001b[0m\u001b[1;34m'  '\u001b[0m\u001b[1;33m,\u001b[0m \u001b[1;34m' '\u001b[0m\u001b[1;33m)\u001b[0m\u001b[1;33m.\u001b[0m\u001b[0mstr\u001b[0m\u001b[1;33m.\u001b[0m\u001b[0mreplace\u001b[0m\u001b[1;33m(\u001b[0m\u001b[1;34m' '\u001b[0m\u001b[1;33m,\u001b[0m \u001b[1;34m'_'\u001b[0m\u001b[1;33m)\u001b[0m\u001b[1;33m.\u001b[0m\u001b[0mstr\u001b[0m\u001b[1;33m.\u001b[0m\u001b[0mreplace\u001b[0m\u001b[1;33m(\u001b[0m\u001b[1;34m'+'\u001b[0m\u001b[1;33m,\u001b[0m \u001b[1;34m'plus'\u001b[0m\u001b[1;33m)\u001b[0m\u001b[1;33m.\u001b[0m\u001b[0mstr\u001b[0m\u001b[1;33m.\u001b[0m\u001b[0mreplace\u001b[0m\u001b[1;33m(\u001b[0m\u001b[1;34m'/'\u001b[0m\u001b[1;33m,\u001b[0m \u001b[1;34m''\u001b[0m\u001b[1;33m)\u001b[0m\u001b[1;33m.\u001b[0m\u001b[0mstr\u001b[0m\u001b[1;33m.\u001b[0m\u001b[0mreplace\u001b[0m\u001b[1;33m(\u001b[0m\u001b[1;34m'('\u001b[0m\u001b[1;33m,\u001b[0m \u001b[1;34m''\u001b[0m\u001b[1;33m)\u001b[0m\u001b[1;33m.\u001b[0m\u001b[0mstr\u001b[0m\u001b[1;33m.\u001b[0m\u001b[0mreplace\u001b[0m\u001b[1;33m(\u001b[0m\u001b[1;34m')'\u001b[0m\u001b[1;33m,\u001b[0m \u001b[1;34m''\u001b[0m\u001b[1;33m)\u001b[0m\u001b[1;33m.\u001b[0m\u001b[0mstr\u001b[0m\u001b[1;33m.\u001b[0m\u001b[0mreplace\u001b[0m\u001b[1;33m(\u001b[0m\u001b[1;34m'['\u001b[0m\u001b[1;33m,\u001b[0m \u001b[1;34m''\u001b[0m\u001b[1;33m)\u001b[0m\u001b[1;33m.\u001b[0m\u001b[0mstr\u001b[0m\u001b[1;33m.\u001b[0m\u001b[0mreplace\u001b[0m\u001b[1;33m(\u001b[0m\u001b[1;34m']'\u001b[0m\u001b[1;33m,\u001b[0m \u001b[1;34m''\u001b[0m\u001b[1;33m)\u001b[0m\u001b[1;33m\u001b[0m\u001b[0m\n\u001b[0m\u001b[0;32m     26\u001b[0m         \u001b[1;32mreturn\u001b[0m \u001b[0mdf\u001b[0m\u001b[1;33m\u001b[0m\u001b[0m\n\u001b[0;32m     27\u001b[0m \u001b[1;33m\u001b[0m\u001b[0m\n",
      "\u001b[1;32mD:\\ProgramData\\Anaconda3\\envs\\tf\\lib\\site-packages\\pandas\\core\\generic.py\u001b[0m in \u001b[0;36m__getattr__\u001b[1;34m(self, name)\u001b[0m\n\u001b[0;32m   4370\u001b[0m         if (name in self._internal_names_set or name in self._metadata or\n\u001b[0;32m   4371\u001b[0m                 name in self._accessors):\n\u001b[1;32m-> 4372\u001b[1;33m             \u001b[1;32mreturn\u001b[0m \u001b[0mobject\u001b[0m\u001b[1;33m.\u001b[0m\u001b[0m__getattribute__\u001b[0m\u001b[1;33m(\u001b[0m\u001b[0mself\u001b[0m\u001b[1;33m,\u001b[0m \u001b[0mname\u001b[0m\u001b[1;33m)\u001b[0m\u001b[1;33m\u001b[0m\u001b[0m\n\u001b[0m\u001b[0;32m   4373\u001b[0m         \u001b[1;32melse\u001b[0m\u001b[1;33m:\u001b[0m\u001b[1;33m\u001b[0m\u001b[0m\n\u001b[0;32m   4374\u001b[0m             \u001b[1;32mif\u001b[0m \u001b[0mself\u001b[0m\u001b[1;33m.\u001b[0m\u001b[0m_info_axis\u001b[0m\u001b[1;33m.\u001b[0m\u001b[0m_can_hold_identifiers_and_holds_name\u001b[0m\u001b[1;33m(\u001b[0m\u001b[0mname\u001b[0m\u001b[1;33m)\u001b[0m\u001b[1;33m:\u001b[0m\u001b[1;33m\u001b[0m\u001b[0m\n",
      "\u001b[1;32mD:\\ProgramData\\Anaconda3\\envs\\tf\\lib\\site-packages\\pandas\\core\\accessor.py\u001b[0m in \u001b[0;36m__get__\u001b[1;34m(self, obj, cls)\u001b[0m\n\u001b[0;32m    131\u001b[0m             \u001b[1;31m# we're accessing the attribute of the class, i.e., Dataset.geo\u001b[0m\u001b[1;33m\u001b[0m\u001b[1;33m\u001b[0m\u001b[0m\n\u001b[0;32m    132\u001b[0m             \u001b[1;32mreturn\u001b[0m \u001b[0mself\u001b[0m\u001b[1;33m.\u001b[0m\u001b[0m_accessor\u001b[0m\u001b[1;33m\u001b[0m\u001b[0m\n\u001b[1;32m--> 133\u001b[1;33m         \u001b[0maccessor_obj\u001b[0m \u001b[1;33m=\u001b[0m \u001b[0mself\u001b[0m\u001b[1;33m.\u001b[0m\u001b[0m_accessor\u001b[0m\u001b[1;33m(\u001b[0m\u001b[0mobj\u001b[0m\u001b[1;33m)\u001b[0m\u001b[1;33m\u001b[0m\u001b[0m\n\u001b[0m\u001b[0;32m    134\u001b[0m         \u001b[1;31m# Replace the property with the accessor object. Inspired by:\u001b[0m\u001b[1;33m\u001b[0m\u001b[1;33m\u001b[0m\u001b[0m\n\u001b[0;32m    135\u001b[0m         \u001b[1;31m# http://www.pydanny.com/cached-property.html\u001b[0m\u001b[1;33m\u001b[0m\u001b[1;33m\u001b[0m\u001b[0m\n",
      "\u001b[1;32mD:\\ProgramData\\Anaconda3\\envs\\tf\\lib\\site-packages\\pandas\\core\\strings.py\u001b[0m in \u001b[0;36m__init__\u001b[1;34m(self, data)\u001b[0m\n\u001b[0;32m   1893\u001b[0m \u001b[1;33m\u001b[0m\u001b[0m\n\u001b[0;32m   1894\u001b[0m     \u001b[1;32mdef\u001b[0m \u001b[0m__init__\u001b[0m\u001b[1;33m(\u001b[0m\u001b[0mself\u001b[0m\u001b[1;33m,\u001b[0m \u001b[0mdata\u001b[0m\u001b[1;33m)\u001b[0m\u001b[1;33m:\u001b[0m\u001b[1;33m\u001b[0m\u001b[0m\n\u001b[1;32m-> 1895\u001b[1;33m         \u001b[0mself\u001b[0m\u001b[1;33m.\u001b[0m\u001b[0m_validate\u001b[0m\u001b[1;33m(\u001b[0m\u001b[0mdata\u001b[0m\u001b[1;33m)\u001b[0m\u001b[1;33m\u001b[0m\u001b[0m\n\u001b[0m\u001b[0;32m   1896\u001b[0m         \u001b[0mself\u001b[0m\u001b[1;33m.\u001b[0m\u001b[0m_is_categorical\u001b[0m \u001b[1;33m=\u001b[0m \u001b[0mis_categorical_dtype\u001b[0m\u001b[1;33m(\u001b[0m\u001b[0mdata\u001b[0m\u001b[1;33m)\u001b[0m\u001b[1;33m\u001b[0m\u001b[0m\n\u001b[0;32m   1897\u001b[0m \u001b[1;33m\u001b[0m\u001b[0m\n",
      "\u001b[1;32mD:\\ProgramData\\Anaconda3\\envs\\tf\\lib\\site-packages\\pandas\\core\\strings.py\u001b[0m in \u001b[0;36m_validate\u001b[1;34m(data)\u001b[0m\n\u001b[0;32m   1915\u001b[0m             \u001b[1;31m# (instead of test for object dtype), but that isn't practical for\u001b[0m\u001b[1;33m\u001b[0m\u001b[1;33m\u001b[0m\u001b[0m\n\u001b[0;32m   1916\u001b[0m             \u001b[1;31m# performance reasons until we have a str dtype (GH 9343)\u001b[0m\u001b[1;33m\u001b[0m\u001b[1;33m\u001b[0m\u001b[0m\n\u001b[1;32m-> 1917\u001b[1;33m             raise AttributeError(\"Can only use .str accessor with string \"\n\u001b[0m\u001b[0;32m   1918\u001b[0m                                  \u001b[1;34m\"values, which use np.object_ dtype in \"\u001b[0m\u001b[1;33m\u001b[0m\u001b[0m\n\u001b[0;32m   1919\u001b[0m                                  \"pandas\")\n",
      "\u001b[1;31mAttributeError\u001b[0m: Can only use .str accessor with string values, which use np.object_ dtype in pandas"
     ]
    }
   ],
   "source": [
    "\n",
    "df = categoryValueTransformer.transform(df, 'Gender')\n",
    "df = categoryValueTransformer.transform(df, 'Country')\n",
    "df = categoryValueTransformer.transform(df, 'Onset_Age')\n",
    "# df = categoryValueTransformer.transform(df, 'Prior_AD')"
   ]
  },
  {
   "cell_type": "code",
   "execution_count": null,
   "metadata": {},
   "outputs": [],
   "source": [
    "# df.Initial_Dx.value_counts(dropna=False)"
   ]
  },
  {
   "cell_type": "code",
   "execution_count": null,
   "metadata": {},
   "outputs": [],
   "source": [
    "# df.Dx_Chosen.value_counts(dropna=False)"
   ]
  },
  {
   "cell_type": "code",
   "execution_count": null,
   "metadata": {},
   "outputs": [],
   "source": [
    "df = valTransformer.transformInitialDx(df)\n",
    "df = valTransformer.transformDx_Chosen(df)"
   ]
  },
  {
   "cell_type": "code",
   "execution_count": null,
   "metadata": {},
   "outputs": [],
   "source": [
    "# df.Dr_Dx.value_counts(dropna=False)"
   ]
  },
  {
   "cell_type": "code",
   "execution_count": null,
   "metadata": {},
   "outputs": [],
   "source": [
    "# df.Dr_Dx_other.value_counts(dropna=False)"
   ]
  },
  {
   "cell_type": "code",
   "execution_count": null,
   "metadata": {},
   "outputs": [],
   "source": [
    "# for dr in df.Dr_Dx_other.unique():\n",
    "#     print(f'\\'{dr}\\': ,')"
   ]
  },
  {
   "cell_type": "code",
   "execution_count": null,
   "metadata": {},
   "outputs": [],
   "source": [
    "# from Prior_AD_Hep to Prior_AD_Other_AD\n",
    "df = categoryValueTransformer.transform(df, 'Prior_AD')\n",
    "df = checkboxTransformer.transformByIndex(df, df.columns.get_loc('Prior_AD_Hep'), df.columns.get_loc('Prior_AD_Other_AD'))\n",
    "df = categoryValueTransformer.transform(df, 'Prior_AD_Other_AD_Text')"
   ]
  },
  {
   "cell_type": "code",
   "execution_count": null,
   "metadata": {},
   "outputs": [],
   "source": [
    "df.iloc[:, 13].value_counts(dropna=False).index[1]"
   ]
  },
  {
   "cell_type": "code",
   "execution_count": null,
   "metadata": {},
   "outputs": [],
   "source": []
  },
  {
   "cell_type": "code",
   "execution_count": null,
   "metadata": {},
   "outputs": [],
   "source": [
    "df['Prior_AD_Other_AD_Text'].value_counts(dropna=False)"
   ]
  },
  {
   "cell_type": "code",
   "execution_count": null,
   "metadata": {},
   "outputs": [],
   "source": [
    "# Post AD\n",
    "df = categoryValueTransformer.transform(df, 'Post_AD_AD')\n",
    "df = checkboxTransformer.transformByIndex(df, df.columns.get_loc('Post_AD_Addison'), df.columns.get_loc('Post_AD_Other_AD'))\n",
    "df = categoryValueTransformer.transform(df, 'Post_AD_Other_AD_Text')"
   ]
  },
  {
   "cell_type": "code",
   "execution_count": null,
   "metadata": {},
   "outputs": [],
   "source": [
    "df.Fibro_dx.value_counts(dropna=False)"
   ]
  },
  {
   "cell_type": "code",
   "execution_count": null,
   "metadata": {},
   "outputs": [],
   "source": [
    "df = categoryValueTransformer.transform(df, 'CFSyndrome')\n",
    "df = categoryValueTransformer.transform(df, 'Raynauds_14')\n",
    "df = categoryValueTransformer.transform(df, 'Relatives_AD')\n",
    "df = categoryValueTransformer.transform(df, 'Injury')\n",
    "df = categoryValueTransformer.transform(df, 'Mental_Stressors')\n",
    "df = categoryValueTransformer.transform(df, 'Prior_virus')\n",
    "df = checkboxTransformer.transformByIndex(df, df.columns.get_loc('Virus'), df.columns.get_loc('Virus_Other'))\n",
    "df = categoryValueTransformer.transform(df, 'Virus_Other_Text')\n",
    "df = categoryValueTransformer.transform(df, 'Give_Birth')"
   ]
  },
  {
   "cell_type": "code",
   "execution_count": null,
   "metadata": {},
   "outputs": [],
   "source": [
    "df = categoryValueTransformer.combineAndTransformWithSecond(df, 'First_onset_visit', 'First_onset_visit_other')"
   ]
  },
  {
   "cell_type": "code",
   "execution_count": null,
   "metadata": {},
   "outputs": [],
   "source": [
    "df.first_dr_response.value_counts(dropna=False)"
   ]
  },
  {
   "cell_type": "code",
   "execution_count": null,
   "metadata": {},
   "outputs": [],
   "source": [
    "df = checkboxTransformer.transformByIndex(df, df.columns.get_loc('first_dr_response'), df.columns.get_loc('first_dr_response_Other'))\n",
    "df = categoryValueTransformer.transform(df, 'first_dr_response_Other_Text')\n",
    "df = valTransformer.convert01ToYesNo(df, 'first_dr_response_none')"
   ]
  },
  {
   "cell_type": "code",
   "execution_count": null,
   "metadata": {},
   "outputs": [],
   "source": [
    "df = categoryValueTransformer.transform(df, 'referral_time_mos')\n",
    "df = categoryValueTransformer.transform(df, 'Num_Rheum_Immun_todx')"
   ]
  },
  {
   "cell_type": "code",
   "execution_count": null,
   "metadata": {},
   "outputs": [],
   "source": [
    "# Ex1, 2\n",
    "df = checkboxTransformer.transformByIndex(df, df.columns.get_loc('Ex1_1_Lankle_0_12'), df.columns.get_loc('Ex1_1_0_12_None'))\n",
    "df = categoryValueTransformer.transform(df, 'Ex1_1_Other')\n",
    "\n",
    "df = checkboxTransformer.transformByIndex(df, df.columns.get_loc('Ex1_1_FS_LAnk'), df.columns.get_loc('Ex2_3_FS_RWr'))\n",
    "df = categoryValueTransformer.transform(df, 'Ex2_3_LHand_ABCJoint_0_12')\n",
    "df = categoryValueTransformer.transform(df, 'Ex2_3_RHand_ABCJoint_0_12')\n",
    "\n",
    "\n",
    "df = checkboxTransformer.transformByIndex(df, df.columns.get_loc('Ex2_4_Lhand_12_24'), df.columns.get_loc('Ex2_4_RWr_24_plus'))\n",
    "df = categoryValueTransformer.transform(df, 'Ex2_4_LHand_ABCJoints_12_24')\n",
    "df = categoryValueTransformer.transform(df, 'Ex2_4_RHand_ABCJoints_12_24')\n"
   ]
  },
  {
   "cell_type": "code",
   "execution_count": null,
   "metadata": {},
   "outputs": [],
   "source": [
    "\n",
    "# Ex 3 to 5\n",
    "df = checkboxTransformer.transformByIndex(df, df.columns.get_loc('Ex3_5_LToes_0_12'), df.columns.get_loc('Ex5_10_Th_24p'))\n",
    "df = categoryValueTransformer.transform(df, 'Ex5_11_Red_Wm_24')\n",
    "df = valTransformer.convert01ToYesNo(df, 'Ex5_11_FS_Red_Wm')\n",
    "\n",
    "df = categoryValueTransformer.transform(df, 'Ex5_12_Sw_24')\n",
    "df = valTransformer.convert01ToYesNo(df, 'Ex5_12_FS_Sw')\n",
    "\n",
    "\n",
    "df = categoryValueTransformer.transform(df, 'Ex5_13_Jt_2wk_0_12')\n",
    "df = categoryValueTransformer.transform(df, 'Ex5_14_Ch_24')\n",
    "\n",
    "df = checkboxTransformer.transformByIndex(df, df.columns.get_loc('Ex5_14_Ch_Dx_pleurisy'), df.columns.get_loc('Ex5_14_FS_Ch'))\n",
    "\n",
    "\n",
    "df = categoryValueTransformer.transform(df, 'Ex5_15_ShortBr_0_24')\n",
    "df = valTransformer.convert01ToYesNo(df, 'Ex5_15_FS_ShortBr')\n",
    "df = categoryValueTransformer.transform(df, 'Ex5_16_Stiff_0_12')\n",
    "df = valTransformer.convert01ToYesNo(df, 'Ex5_16_FS_Stiff')\n",
    "\n",
    "df = categoryValueTransformer.transform(df, 'Ex5_16_Stiff_duration')\n",
    "df = categoryValueTransformer.transform(df, 'Ex5_17_Stiff_Sit_0_12')\n",
    "df = valTransformer.convert01ToYesNo(df, 'Ex5_17_FS_Stiff_Sit')\n",
    "\n",
    "df = categoryValueTransformer.transform(df, 'Ex5_18_Furn_0_12')\n",
    "df = valTransformer.convert01ToYesNo(df, 'Ex5_18_FS_Furn')\n",
    "df = categoryValueTransformer.transform(df, 'Ex5_19_Fv_24')\n",
    "df = valTransformer.convert01ToYesNo(df, 'Ex5_19_FS_Fv')\n",
    "\n",
    "df = categoryValueTransformer.transform(df, 'Ex5_19_Fv_Type')\n",
    "df = categoryValueTransformer.transform(df, 'Ex5_19_Fv_Higher_0_12')\n",
    "\n",
    "\n",
    "df = checkboxTransformer.transformByIndex(df, df.columns.get_loc('Ex5_19_Fv_Morn_Peak'), df.columns.get_loc('Ex5_19_Fv_Typ_NoneApply'))\n",
    "\n"
   ]
  },
  {
   "cell_type": "code",
   "execution_count": null,
   "metadata": {},
   "outputs": [],
   "source": [
    "start = df.columns.get_loc('Ex5_20_Fg_24')\n",
    "end = df.columns.get_loc('Ex5_29_FS_AcidReflux') \n",
    "\n",
    "for i in range(start, end, 2):\n",
    "    col1 = df.columns[i]\n",
    "    col2 = df.columns[i+1]\n",
    "    print(f'{col1} {col2}')\n",
    "    df = categoryValueTransformer.transform(df, col1)\n",
    "    df = valTransformer.convert01ToYesNo(df, col2)"
   ]
  },
  {
   "cell_type": "code",
   "execution_count": null,
   "metadata": {},
   "outputs": [],
   "source": [
    "\n",
    "df = categoryValueTransformer.transform(df, 'Ex5_30_Rash_24')\n",
    "df = checkboxTransformer.transformByIndex(df, df.columns.get_loc('Ex5_30_Rash_butterfly'), df.columns.get_loc('Ex5_30b_other'))\n",
    "\n",
    "df = categoryValueTransformer.transform(df, 'Ex5_30b_Other_Text')\n",
    "df = categoryValueTransformer.transform(df, 'Ex5_30c_Ps_Dx')\n",
    "df = categoryValueTransformer.transform(df, 'Ex5_30d_Ps_pre_arthritis')\n",
    "df = categoryValueTransformer.transform(df, 'Ex5_31_Eye_Dx')\n",
    "df = valTransformer.convert01ToYesNo(df, 'Ex5_31_FS_Eye')\n",
    "df = categoryValueTransformer.transform(df, 'Ex5_32_PinkEye_24')\n",
    "df = valTransformer.convert01ToYesNo(df, 'Ex5_32_FS_PinkEye')\n",
    "\n",
    "\n",
    "df = checkboxTransformer.transformByIndex(df, df.columns.get_loc('Ex5_33_Eye_Dry_24'), df.columns.get_loc('Ex5_35_Dental_24_Other'))\n",
    "df = categoryValueTransformer.transform(df, 'Ex5_35_Dental_24_Other_text')\n",
    "\n",
    "\n",
    "df = checkboxTransformer.transformByIndex(df, df.columns.get_loc('Ex5_35_N_Dental_24'), df.columns.get_loc('Ex5_35_FS_thrush'))\n"
   ]
  },
  {
   "cell_type": "code",
   "execution_count": null,
   "metadata": {},
   "outputs": [],
   "source": [
    "df = categoryValueTransformer.transform(df, 'Ex5_36_Nodules_0_12')\n",
    "df = checkboxTransformer.transformByIndex(df, df.columns.get_loc('Ex5_36_ID_Nodules_Arms'), df.columns.get_loc('Ex5_36_ID_Nodules_other'))\n",
    "df = categoryValueTransformer.transform(df, 'Ex5_36_ID_Nodules_othertext')\n",
    "df = valTransformer.convert01ToYesNo(df, 'Ex5_36_FS_Nodules')\n",
    "\n",
    "df = categoryValueTransformer.transform(df, 'Ex5_37_Numb_24')\n",
    "df = valTransformer.convert01ToYesNo(df, 'Ex5_37_FS_Numb')\n",
    "\n",
    "df = categoryValueTransformer.transform(df, 'Ex5_38_Nail_Change_24')\n",
    "df = valTransformer.convert01ToYesNo(df, 'Ex5_38_FS_Nail_Change')\n",
    "df = checkboxTransformer.transformByIndex(df, df.columns.get_loc('Ex5_38_Nailbed_separation'), df.columns.get_loc('Ex5_38_Nail_other'))\n",
    "df = categoryValueTransformer.transform(df, 'Ex5_38_Nail_other_ext')\n",
    "\n",
    "df = categoryValueTransformer.transform(df, 'Ex5_39_Raynauds_24')\n",
    "df = valTransformer.convert01ToYesNo(df, 'Ex5_39_FS_Raynauds')\n",
    "\n",
    "df = categoryValueTransformer.transform(df, 'Ex5_40_Hepatomegaly')\n",
    "df = valTransformer.convert01ToYesNo(df, 'Ex5_40_FS_Hepatomegaly')\n",
    "\n",
    "df = categoryValueTransformer.transform(df, 'Ex5_41_Splenomegaly')\n",
    "df = valTransformer.convert01ToYesNo(df, 'Ex5_41_FS_Splenomegaly')\n",
    "df = categoryValueTransformer.transform(df, 'Ex5_42_Anemic_Dx')\n",
    "\n",
    "\n"
   ]
  },
  {
   "cell_type": "code",
   "execution_count": null,
   "metadata": {},
   "outputs": [],
   "source": [
    "df = categoryValueTransformer.transform(df, 'Part3_1_rheu')\n",
    "df = categoryValueTransformer.transform(df, 'Part3_2_psor')\n",
    "df = categoryValueTransformer.transform(df, 'Part3_3_sys')\n",
    "df = categoryValueTransformer.transform(df, 'Part3_3_sys_other_Text')\n",
    "df = categoryValueTransformer.transform(df, 'Part3_4_sjo')\n",
    "df = checkboxTransformer.transformByIndex(df, df.columns.get_loc('Part3_5_still_ARDS_onset'), df.columns.get_loc('Part3_5_FS_lung'))\n",
    "df = categoryValueTransformer.transform(df, 'Part3_5_still_other_Text')\n",
    "df = categoryValueTransformer.transform(df, 'Part3_6_Ank')\n",
    "df = categoryValueTransformer.transform(df, 'Part3_6_Ank_other_Text')\n",
    "\n",
    "\n"
   ]
  },
  {
   "cell_type": "code",
   "execution_count": null,
   "metadata": {},
   "outputs": [],
   "source": [
    "df.to_csv(dest, encoding='utf-8-sig')"
   ]
  }
 ],
 "metadata": {
  "kernelspec": {
   "display_name": "Python 3",
   "language": "python",
   "name": "python3"
  },
  "language_info": {
   "codemirror_mode": {
    "name": "ipython",
    "version": 3
   },
   "file_extension": ".py",
   "mimetype": "text/x-python",
   "name": "python",
   "nbconvert_exporter": "python",
   "pygments_lexer": "ipython3",
   "version": "3.6.6"
  }
 },
 "nbformat": 4,
 "nbformat_minor": 2
}
