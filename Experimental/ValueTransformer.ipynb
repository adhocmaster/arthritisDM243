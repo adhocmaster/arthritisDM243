{
 "cells": [
  {
   "cell_type": "code",
   "execution_count": 1,
   "metadata": {},
   "outputs": [
    {
     "name": "stdout",
     "output_type": "stream",
     "text": [
      "current working dirF:\\myProjects\\tfKeras\\UCSC\\CSE243\\Project\n"
     ]
    }
   ],
   "source": [
    "import numpy as np\n",
    "import pandas as pd\n",
    "\n",
    "import matplotlib.pyplot as plt\n",
    "\n",
    "import seaborn as sns\n",
    "exec(open(\"inc_notebook.py\").read())"
   ]
  },
  {
   "cell_type": "code",
   "execution_count": 33,
   "metadata": {},
   "outputs": [],
   "source": [
    "sources = {\n",
    "    '900': 'data/10.25.14 us and uk 900 - Manual Value Fixes.csv',\n",
    "}\n",
    "df = pd.read_csv(sources['900'], encoding='utf-8-sig')"
   ]
  },
  {
   "cell_type": "code",
   "execution_count": 34,
   "metadata": {},
   "outputs": [],
   "source": [
    "\n",
    "if sys.modules.get( 'library.ValueTransformer', False ) != False :\n",
    "    del sys.modules['library.ValueTransformer'] \n",
    "    \n",
    "from library.ValueTransformer import *\n",
    "valTransformer = ValueTransformer()"
   ]
  },
  {
   "cell_type": "code",
   "execution_count": 38,
   "metadata": {},
   "outputs": [
    {
     "data": {
      "text/plain": [
       "rheumatoid    216\n",
       "systemic      213\n",
       "ankylosing    128\n",
       "sjogren       110\n",
       "psoriatic      80\n",
       "UCTD           58\n",
       "still          54\n",
       "UsPA           41\n",
       "Name: Initial_Dx, dtype: int64"
      ]
     },
     "execution_count": 38,
     "metadata": {},
     "output_type": "execute_result"
    }
   ],
   "source": [
    "df.Initial_Dx.value_counts(dropna=False)"
   ]
  },
  {
   "cell_type": "code",
   "execution_count": 39,
   "metadata": {},
   "outputs": [
    {
     "data": {
      "text/plain": [
       "systemic      248\n",
       "rheumatoid    204\n",
       "ankylosing    158\n",
       "sjogren       128\n",
       "psoriatic      94\n",
       "still          68\n",
       "Name: Dx_Chosen, dtype: int64"
      ]
     },
     "execution_count": 39,
     "metadata": {},
     "output_type": "execute_result"
    }
   ],
   "source": [
    "df.Dx_Chosen.value_counts(dropna=False)"
   ]
  },
  {
   "cell_type": "code",
   "execution_count": 37,
   "metadata": {},
   "outputs": [],
   "source": [
    "df = valTransformer.transformInitialDx(df)\n",
    "df = valTransformer.transformDx_Chosen(df)"
   ]
  },
  {
   "cell_type": "code",
   "execution_count": 40,
   "metadata": {},
   "outputs": [
    {
     "data": {
      "text/plain": [
       "Rheumatologist            754\n",
       "General Practitioner       69\n",
       "Other:  Please specify     64\n",
       "Hospital Staff              9\n",
       "Immunologist                4\n",
       "Name: Dr_Dx, dtype: int64"
      ]
     },
     "execution_count": 40,
     "metadata": {},
     "output_type": "execute_result"
    }
   ],
   "source": [
    "df.Dr_Dx.value_counts(dropna=False)"
   ]
  },
  {
   "cell_type": "code",
   "execution_count": 41,
   "metadata": {},
   "outputs": [
    {
     "data": {
      "text/plain": [
       "NaN                                                                                                  836\n",
       "Nephrologist                                                                                           6\n",
       "Internist                                                                                              4\n",
       "Dermatologist                                                                                          3\n",
       "Ophthalmologist                                                                                        2\n",
       "Internal Medicine                                                                                      2\n",
       "dermatologist                                                                                          2\n",
       "Autonomic Neurologist                                                                                  2\n",
       "Internal Medicine Doctor                                                                               1\n",
       "chiropractor                                                                                           1\n",
       "ENT                                                                                                    1\n",
       "renal consultant                                                                                       1\n",
       "infectious disease                                                                                     1\n",
       "Internal medicine                                                                                      1\n",
       "Internist, Primary Care Physician                                                                      1\n",
       "Nurse Practioner specializing in rheumatology                                                          1\n",
       "Hematologist/Oncologist                                                                                1\n",
       "neurologist                                                                                            1\n",
       "Physical Medicine and Rehab physician                                                                  1\n",
       "Gastroenterologist                                                                                     1\n",
       "Renal Specialist                                                                                       1\n",
       "infectious Disease Dr & a Rheumatologist                                                               1\n",
       "Sicca study                                                                                            1\n",
       "Neurologist thought it was MS                                                                          1\n",
       "Opthamologist                                                                                          1\n",
       "Spine dr ran original blood test                                                                       1\n",
       "ophthalmologist                                                                                        1\n",
       "gynecologist                                                                                           1\n",
       "Renal Physician                                                                                        1\n",
       "Infectious Disease Physician                                                                           1\n",
       "Infectious Disease                                                                                     1\n",
       "physiotherapy clinic                                                                                   1\n",
       "Haematologist                                                                                          1\n",
       "Opthamalogist                                                                                          1\n",
       "MRI technician, confirmed by Rheum                                                                     1\n",
       "Gastroenterologist                                                                                     1\n",
       "Infectious Disease Dr. & my Primary Dr & a Rheumatologist/internal medicine Dr.                        1\n",
       "Pain Management Practitioner                                                                           1\n",
       "doctor                                                                                                 1\n",
       "Nero                                                                                                   1\n",
       "infectious doctor from Vanderbilt at Williamson County Medical Center when I was in hospital 2013      1\n",
       "Neurologist                                                                                            1\n",
       "Mother-in-law found info online, I showed to GP. Tests positive. Rheum confirmed.                      1\n",
       "Orthopedist                                                                                            1\n",
       "eye doctor                                                                                             1\n",
       "opthamologist                                                                                          1\n",
       "Dermatologist                                                                                          1\n",
       "GI Clinic Nurse Practitioner                                                                           1\n",
       "Internist then confirmed by a rheumatologist                                                           1\n",
       "Radiologist                                                                                            1\n",
       "Dermatologist: Lupus  and then Rheumatologist: Sjrogrens                                               1\n",
       "Name: Dr_Dx_other, dtype: int64"
      ]
     },
     "execution_count": 41,
     "metadata": {},
     "output_type": "execute_result"
    }
   ],
   "source": [
    "df.Dr_Dx_other.value_counts(dropna=False)"
   ]
  },
  {
   "cell_type": "code",
   "execution_count": 42,
   "metadata": {},
   "outputs": [
    {
     "name": "stdout",
     "output_type": "stream",
     "text": [
      "'nan': ,\n",
      "'Nurse Practioner specializing in rheumatology': ,\n",
      "'Internist then confirmed by a rheumatologist': ,\n",
      "'Neurologist thought it was MS': ,\n",
      "'Nephrologist': ,\n",
      "'Internist, Primary Care Physician': ,\n",
      "'Dermatologist ': ,\n",
      "'Spine dr ran original blood test': ,\n",
      "'Sicca study': ,\n",
      "'ophthalmologist': ,\n",
      "'Internal Medicine': ,\n",
      "'Autonomic Neurologist': ,\n",
      "'Internist': ,\n",
      "'opthamologist': ,\n",
      "'Infectious Disease Dr. & my Primary Dr & a Rheumatologist/internal medicine Dr.': ,\n",
      "'ENT': ,\n",
      "'neurologist': ,\n",
      "'Infectious Disease': ,\n",
      "'Ophthalmologist': ,\n",
      "'Hematologist/Oncologist': ,\n",
      "'MRI technician, confirmed by Rheum ': ,\n",
      "'Opthamologist': ,\n",
      "'Physical Medicine and Rehab physician': ,\n",
      "'Infectious Disease Physician': ,\n",
      "'Internal Medicine Doctor': ,\n",
      "'Internal medicine': ,\n",
      "'infectious doctor from Vanderbilt at Williamson County Medical Center when I was in hospital 2013': ,\n",
      "'infectious Disease Dr & a Rheumatologist ': ,\n",
      "'physiotherapy clinic': ,\n",
      "'Dermatologist': ,\n",
      "'Opthamalogist': ,\n",
      "'doctor': ,\n",
      "'Pain Management Practitioner': ,\n",
      "'Gastroenterologist': ,\n",
      "'gynecologist ': ,\n",
      "'infectious disease': ,\n",
      "'Orthopedist': ,\n",
      "'GI Clinic Nurse Practitioner ': ,\n",
      "'Mother-in-law found info online, I showed to GP. Tests positive. Rheum confirmed.': ,\n",
      "'Nero': ,\n",
      "'chiropractor': ,\n",
      "'dermatologist': ,\n",
      "'eye doctor': ,\n",
      "'Radiologist': ,\n",
      "'Gastroenterologist ': ,\n",
      "'renal consultant': ,\n",
      "'Renal Specialist': ,\n",
      "'Renal Physician': ,\n",
      "'Haematologist': ,\n",
      "'Neurologist': ,\n",
      "'Dermatologist: Lupus  and then Rheumatologist: Sjrogrens': ,\n"
     ]
    }
   ],
   "source": [
    "for dr in df.Dr_Dx_other.unique():\n",
    "    print(f'\\'{dr}\\': ,')"
   ]
  },
  {
   "cell_type": "code",
   "execution_count": null,
   "metadata": {},
   "outputs": [],
   "source": [
    "df.Prior_AD"
   ]
  }
 ],
 "metadata": {
  "kernelspec": {
   "display_name": "Python 3",
   "language": "python",
   "name": "python3"
  },
  "language_info": {
   "codemirror_mode": {
    "name": "ipython",
    "version": 3
   },
   "file_extension": ".py",
   "mimetype": "text/x-python",
   "name": "python",
   "nbconvert_exporter": "python",
   "pygments_lexer": "ipython3",
   "version": "3.6.6"
  }
 },
 "nbformat": 4,
 "nbformat_minor": 2
}
