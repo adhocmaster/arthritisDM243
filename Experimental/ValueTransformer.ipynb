{
 "cells": [
  {
   "cell_type": "code",
   "execution_count": 1,
   "metadata": {},
   "outputs": [
    {
     "name": "stdout",
     "output_type": "stream",
     "text": [
      "current working dirF:\\myProjects\\tfKeras\\UCSC\\CSE243\\Project\n"
     ]
    }
   ],
   "source": [
    "import numpy as np\n",
    "import pandas as pd\n",
    "\n",
    "import matplotlib.pyplot as plt\n",
    "\n",
    "import seaborn as sns\n",
    "exec(open(\"inc_notebook.py\").read())"
   ]
  },
  {
   "cell_type": "code",
   "execution_count": 83,
   "metadata": {},
   "outputs": [],
   "source": [
    "sources = {\n",
    "    '900': 'data/10.25.14 us and uk 900 - Manual Value Fixes.csv',\n",
    "}\n",
    "df = pd.read_csv(sources['900'], encoding='utf-8-sig')"
   ]
  },
  {
   "cell_type": "code",
   "execution_count": 92,
   "metadata": {},
   "outputs": [],
   "source": [
    "\n",
    "if sys.modules.get( 'library.ValueTransformer', False ) != False :\n",
    "    del sys.modules['library.ValueTransformer'] \n",
    "    \n",
    "from library.ValueTransformer import *\n",
    "valTransformer = ValueTransformer()\n",
    "\n",
    "\n",
    "if sys.modules.get( 'library.CheckboxTransformer', False ) != False :\n",
    "    del sys.modules['library.CheckboxTransformer'] \n",
    "    \n",
    "from library.CheckboxTransformer import *\n",
    "checkboxTransformer = CheckboxTransformer()\n",
    "\n",
    "if sys.modules.get( 'library.CategoryValueTransformer', False ) != False :\n",
    "    del sys.modules['library.CategoryValueTransformer'] \n",
    "    \n",
    "from library.CategoryValueTransformer import *\n",
    "categoryValueTransformer = CategoryValueTransformer()"
   ]
  },
  {
   "cell_type": "code",
   "execution_count": 85,
   "metadata": {},
   "outputs": [],
   "source": [
    "# df.Initial_Dx.value_counts(dropna=False)"
   ]
  },
  {
   "cell_type": "code",
   "execution_count": 86,
   "metadata": {},
   "outputs": [],
   "source": [
    "# df.Dx_Chosen.value_counts(dropna=False)"
   ]
  },
  {
   "cell_type": "code",
   "execution_count": 87,
   "metadata": {},
   "outputs": [],
   "source": [
    "df = valTransformer.transformInitialDx(df)\n",
    "df = valTransformer.transformDx_Chosen(df)"
   ]
  },
  {
   "cell_type": "code",
   "execution_count": 88,
   "metadata": {},
   "outputs": [],
   "source": [
    "# df.Dr_Dx.value_counts(dropna=False)"
   ]
  },
  {
   "cell_type": "code",
   "execution_count": 89,
   "metadata": {},
   "outputs": [],
   "source": [
    "# df.Dr_Dx_other.value_counts(dropna=False)"
   ]
  },
  {
   "cell_type": "code",
   "execution_count": 90,
   "metadata": {},
   "outputs": [],
   "source": [
    "# for dr in df.Dr_Dx_other.unique():\n",
    "#     print(f'\\'{dr}\\': ,')"
   ]
  },
  {
   "cell_type": "code",
   "execution_count": 91,
   "metadata": {},
   "outputs": [
    {
     "name": "stdout",
     "output_type": "stream",
     "text": [
      "transforming column 13: Prior_AD_Hep\n",
      "transforming column as it has no errors 13\n",
      "transforming column 14: Prior_AD_Beh\n",
      "transforming column as it has no errors 14\n",
      "transforming column 15: Prior_AD_Cel\n",
      "transforming column as it has no errors 15\n",
      "transforming column 16: Prior_AD_Cro\n",
      "transforming column as it has no errors 16\n",
      "transforming column 17: Prior_AD_Dis\n",
      "transforming column as it has no errors 17\n",
      "transforming column 18: Prior_AD_End\n",
      "transforming column as it has no errors 18\n",
      "transforming column 19: Prior_AD_Eva\n",
      "column 19: Prior_AD_Eva has no value. filling with zeros\n",
      "transforming column 20: Prior_AD_Gra\n",
      "transforming column as it has no errors 20\n",
      "transforming column 21: Prior_AD_Hashi\n",
      "transforming column as it has no errors 21\n",
      "transforming column 22: Prior_AD_Hug\n",
      "transforming column as it has no errors 22\n",
      "transforming column 23: Prior_AD_Int\n",
      "transforming column as it has no errors 23\n",
      "transforming column 24: Prior_AD_Lym\n",
      "transforming column as it has no errors 24\n",
      "transforming column 25: Prior_AD_Mul\n",
      "transforming column as it has no errors 25\n",
      "transforming column 26: Prior_AD_Myoc\n",
      "transforming column as it has no errors 26\n",
      "transforming column 27: Prior_AD_Myos\n",
      "transforming column as it has no errors 27\n",
      "transforming column 28: Prior_AD_Peri\n",
      "transforming column as it has no errors 28\n",
      "transforming column 29: Prior_AD_Pol\n",
      "transforming column as it has no errors 29\n",
      "transforming column 30: Prior_AD_Rea\n",
      "transforming column as it has no errors 30\n",
      "transforming column 31: Prior_AD_Sarcoidosis\n",
      "transforming column as it has no errors 31\n",
      "transforming column 32: Prior_AD_Scleritis\n",
      "transforming column as it has no errors 32\n",
      "transforming column 33: Prior_AD_Scleroderma\n",
      "transforming column as it has no errors 33\n",
      "transforming column 34: Prior_AD_Thy\n",
      "transforming column as it has no errors 34\n",
      "transforming column 35: Prior_AD_Type_1\n",
      "transforming column as it has no errors 35\n",
      "transforming column 36: Prior_AD_Ulcerative\n",
      "transforming column as it has no errors 36\n",
      "transforming column 37: Prior_AD_Vasculitis\n",
      "transforming column as it has no errors 37\n",
      "transforming column 38: Prior_AD_Vitiligo\n",
      "transforming column as it has no errors 38\n",
      "transforming column 39: Prior_AD_Other_AD\n",
      "transforming column as it has no errors 39\n"
     ]
    }
   ],
   "source": [
    "# from Prior_AD_Hep to Prior_AD_Other_AD\n",
    "df = checkboxTransformer.transformByIndex(df, df.columns.get_loc('Prior_AD_Hep'), df.columns.get_loc('Prior_AD_Other_AD'))\n",
    "# df2 = checkboxTransformer.transformByIndex(df, 39, 39)"
   ]
  },
  {
   "cell_type": "code",
   "execution_count": 78,
   "metadata": {},
   "outputs": [
    {
     "data": {
      "text/plain": [
       "1.0"
      ]
     },
     "execution_count": 78,
     "metadata": {},
     "output_type": "execute_result"
    }
   ],
   "source": [
    "df.iloc[:, 13].value_counts(dropna=False).index[1]"
   ]
  },
  {
   "cell_type": "code",
   "execution_count": 93,
   "metadata": {},
   "outputs": [],
   "source": [
    "df = categoryValueTransformer.transform(df, 'Prior_AD_Other_AD_Text')"
   ]
  },
  {
   "cell_type": "code",
   "execution_count": 94,
   "metadata": {},
   "outputs": [
    {
     "data": {
      "text/plain": [
       "NA                                                                                845\n",
       "psoriasis                                                                           8\n",
       "fibromyalgia                                                                        4\n",
       "asthma                                                                              3\n",
       "lupus                                                                               2\n",
       "iga_nephropathy                                                                     1\n",
       "iritis                                                                              1\n",
       "chronic_fatigue                                                                     1\n",
       "type_ii_diabetes                                                                    1\n",
       "postural_orthostatic_tachycardia_syndrome_adrenergic_receptor_antibodies            1\n",
       "ehlers_danlos_syndrome                                                              1\n",
       "drug_induced_lupus                                                                  1\n",
       "autoimmune_urticaria                                                                1\n",
       "pbs                                                                                 1\n",
       "necrobiosis_lipoidica,_granuloma_anulare                                            1\n",
       "juvenile_idiopathic_arthritis                                                       1\n",
       "acute_thrombocyto_penicillin_purpura                                                1\n",
       "papillary_carcinoma_of_my_thyroid_gland-_had_a_total_thyroidectomy_in_jam_2001      1\n",
       "raynaud's_disease                                                                   1\n",
       "raynaulds                                                                           1\n",
       "pots                                                                                1\n",
       "eds_-_ehlers_dalos_syndrome_and_lymphedema                                          1\n",
       "dishyrotic_eczema                                                                   1\n",
       "lichen_planus                                                                       1\n",
       "depression                                                                          1\n",
       "kawasaki_syndrome_1979                                                              1\n",
       "scarlet_fever                                                                       1\n",
       "neutropenia                                                                         1\n",
       "antophospholipid_anti_body_syndrome                                                 1\n",
       "fibromyalgia,_psoriasis                                                             1\n",
       "diabetes_type_1                                                                     1\n",
       "diffuse_ctda                                                                        1\n",
       "glandular_fever                                                                     1\n",
       "erythema_nodosum                                                                    1\n",
       "b12                                                                                 1\n",
       "juvenile_rheumatoid_arthritis_is_a_little_girl_age_8                                1\n",
       "itp_-_idiopathic_thrombocytopenic_purpura                                           1\n",
       "alopecia_areata                                                                     1\n",
       "itp                                                                                 1\n",
       "postural_orthostatic_tachacardia_symndrome__pots                                    1\n",
       "arthritis                                                                           1\n",
       "granulomma_anulare                                                                  1\n",
       "note:_i_have_common_variable_immunodeficiency                                       1\n",
       "Name: Prior_AD_Other_AD_Text, dtype: int64"
      ]
     },
     "execution_count": 94,
     "metadata": {},
     "output_type": "execute_result"
    }
   ],
   "source": [
    "df['Prior_AD_Other_AD_Text'].value_counts(dropna=False)"
   ]
  },
  {
   "cell_type": "code",
   "execution_count": null,
   "metadata": {},
   "outputs": [],
   "source": []
  }
 ],
 "metadata": {
  "kernelspec": {
   "display_name": "Python 3",
   "language": "python",
   "name": "python3"
  },
  "language_info": {
   "codemirror_mode": {
    "name": "ipython",
    "version": 3
   },
   "file_extension": ".py",
   "mimetype": "text/x-python",
   "name": "python",
   "nbconvert_exporter": "python",
   "pygments_lexer": "ipython3",
   "version": "3.6.6"
  }
 },
 "nbformat": 4,
 "nbformat_minor": 2
}
