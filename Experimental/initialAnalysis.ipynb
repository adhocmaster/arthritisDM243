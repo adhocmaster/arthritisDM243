{
 "cells": [
  {
   "cell_type": "code",
   "execution_count": 1,
   "metadata": {},
   "outputs": [],
   "source": [
    "import numpy as np\n",
    "import pandas as pd\n"
   ]
  },
  {
   "cell_type": "code",
   "execution_count": 2,
   "metadata": {},
   "outputs": [],
   "source": [
    "sources = {\n",
    "    '900': '../publishable_data/10.25.14 us and uk 900 columns.xlsx',\n",
    "    'fluid': '../data/Fluid Surveys Results 763 USA and UK.xlsx',\n",
    "    'full': '../data/Full responses 070214 691.xlsx'\n",
    "}"
   ]
  },
  {
   "cell_type": "code",
   "execution_count": 3,
   "metadata": {},
   "outputs": [],
   "source": [
    "data900 = pd.read_excel( sources['900'] )\n",
    "data900.columns = data900.columns.str.strip().str.replace(' ', '_').str.replace('/', '').str.replace('(', '').str.replace(')', '')"
   ]
  },
  {
   "cell_type": "code",
   "execution_count": 4,
   "metadata": {},
   "outputs": [
    {
     "data": {
      "text/html": [
       "<div>\n",
       "<style scoped>\n",
       "    .dataframe tbody tr th:only-of-type {\n",
       "        vertical-align: middle;\n",
       "    }\n",
       "\n",
       "    .dataframe tbody tr th {\n",
       "        vertical-align: top;\n",
       "    }\n",
       "\n",
       "    .dataframe thead th {\n",
       "        text-align: right;\n",
       "    }\n",
       "</style>\n",
       "<table border=\"1\" class=\"dataframe\">\n",
       "  <thead>\n",
       "    <tr style=\"text-align: right;\">\n",
       "      <th></th>\n",
       "      <th>[Gender]</th>\n",
       "      <th>BirthdateYear_xxxx</th>\n",
       "      <th>[Country]</th>\n",
       "      <th>[Onset_Age]</th>\n",
       "      <th>1st_dx_yr</th>\n",
       "      <th>[Initial_Dx]</th>\n",
       "      <th>[Dx_Change]</th>\n",
       "      <th>[New_Dx]</th>\n",
       "      <th>[New_Dx]_If_you_answered_“yes”,_what_is_your_new_diagnosis_and_what_year_was_your_diagnosis_changed?_[other]</th>\n",
       "      <th>[Dx]_Diagnosis_Chosen</th>\n",
       "      <th>...</th>\n",
       "      <th>[still]_5._Adult_Onset_Still’s_Disease_Were_you_ever_diagnosed_with_acute_respiratory_distress_syndrome_ARDS_or_chronic_restrictive_lung_disease_prior_to_or_during_the_first_24_months_after_onset_of_your_disease?_[Yes,_was_diagnosed_with_chronic_restrictive_lung_disease_prior_to_initial_onset_of_my_symptoms]</th>\n",
       "      <th>[still]_5._Adult_Onset_Still’s_Disease_Were_you_ever_diagnosed_with_acute_respiratory_distress_syndrome_ARDS_or_chronic_restrictive_lung_disease_prior_to_or_during_the_first_24_months_after_onset_of_your_disease?_[Yes,_was_diagnosed_with_chronic_restrictive_lung_disease_between_0_and_&lt;_24_months_from_initial_onset_of_my_symptoms]</th>\n",
       "      <th>[still]_5._Adult_Onset_Still’s_Disease_Were_you_ever_diagnosed_with_acute_respiratory_distress_syndrome_ARDS_or_chronic_restrictive_lung_disease_prior_to_or_during_the_first_24_months_after_onset_of_your_disease?_[I_was_diagnosed_with_acute_respiratory_distress_syndrome_ARDS_but_only_sometime_after_the_first_24_months_after_onset]</th>\n",
       "      <th>[still]_5._Adult_Onset_Still’s_Disease_Were_you_ever_diagnosed_with_acute_respiratory_distress_syndrome_ARDS_or_chronic_restrictive_lung_disease_prior_to_or_during_the_first_24_months_after_onset_of_your_disease?_[I_was_diagnosed_with_chronic_restrictive_lung_disease_but_only_sometime_after_the_first_24_months_after_onset]</th>\n",
       "      <th>[still]_5._Adult_Onset_Still’s_Disease_Were_you_ever_diagnosed_with_acute_respiratory_distress_syndrome_ARDS_or_chronic_restrictive_lung_disease_prior_to_or_during_the_first_24_months_after_onset_of_your_disease?_[I_do_not_remember]</th>\n",
       "      <th>[aosd.0]_Acute_respiratory_distress_syndrome_ARDS_[First_symptom?]</th>\n",
       "      <th>[aosd.1]_chronic_restrictive_lung_disease_[First_symptom?]</th>\n",
       "      <th>[still_1]_Is_there_any_other_symptom_not_mentioned_in_this_study_that_you_feel_was_a_part_of_your_Adult_Onset_Still’s_Disease_in_the_first_0_to_&lt;24_months_from_onset?</th>\n",
       "      <th>[ank]_6.__Ankylosing_Spondylitis_At_any_time_prior_to_or_at_the_time_of,_or_after_diagnosis_did_your_blood_test_positive_for_the_HLA-B27_gene?</th>\n",
       "      <th>[ank_1]_Is_there_any_other_symptom_not_mentioned_in_this_study_that_you_feel_was_a_part_of_your_Ankylosing_Spondylitis_in_the_first_0_to_&lt;24_months_from_onset?</th>\n",
       "    </tr>\n",
       "  </thead>\n",
       "  <tbody>\n",
       "    <tr>\n",
       "      <td>0</td>\n",
       "      <td>Female</td>\n",
       "      <td>1959</td>\n",
       "      <td>United States of America</td>\n",
       "      <td>20</td>\n",
       "      <td>2002</td>\n",
       "      <td>Ankylosing Spondylitis</td>\n",
       "      <td>No</td>\n",
       "      <td>NaN</td>\n",
       "      <td>NaN</td>\n",
       "      <td>ankylosing</td>\n",
       "      <td>...</td>\n",
       "      <td>NaN</td>\n",
       "      <td>NaN</td>\n",
       "      <td>NaN</td>\n",
       "      <td>NaN</td>\n",
       "      <td>NaN</td>\n",
       "      <td>NaN</td>\n",
       "      <td>NaN</td>\n",
       "      <td>NaN</td>\n",
       "      <td>No</td>\n",
       "      <td>NaN</td>\n",
       "    </tr>\n",
       "  </tbody>\n",
       "</table>\n",
       "<p>1 rows × 449 columns</p>\n",
       "</div>"
      ],
      "text/plain": [
       "  [Gender]  BirthdateYear_xxxx                 [Country]  [Onset_Age]  \\\n",
       "0   Female                1959  United States of America           20   \n",
       "\n",
       "   1st_dx_yr            [Initial_Dx] [Dx_Change]  [New_Dx]  \\\n",
       "0       2002  Ankylosing Spondylitis          No       NaN   \n",
       "\n",
       "   [New_Dx]_If_you_answered_“yes”,_what_is_your_new_diagnosis_and_what_year_was_your_diagnosis_changed?_[other]  \\\n",
       "0                                                NaN                                                              \n",
       "\n",
       "  [Dx]_Diagnosis_Chosen  ...  \\\n",
       "0            ankylosing  ...   \n",
       "\n",
       "  [still]_5._Adult_Onset_Still’s_Disease_Were_you_ever_diagnosed_with_acute_respiratory_distress_syndrome_ARDS_or_chronic_restrictive_lung_disease_prior_to_or_during_the_first_24_months_after_onset_of_your_disease?_[Yes,_was_diagnosed_with_chronic_restrictive_lung_disease_prior_to_initial_onset_of_my_symptoms]  \\\n",
       "0                                                NaN                                                                                                                                                                                                                                                                      \n",
       "\n",
       "   [still]_5._Adult_Onset_Still’s_Disease_Were_you_ever_diagnosed_with_acute_respiratory_distress_syndrome_ARDS_or_chronic_restrictive_lung_disease_prior_to_or_during_the_first_24_months_after_onset_of_your_disease?_[Yes,_was_diagnosed_with_chronic_restrictive_lung_disease_between_0_and_<_24_months_from_initial_onset_of_my_symptoms]  \\\n",
       "0                                                NaN                                                                                                                                                                                                                                                                                             \n",
       "\n",
       "  [still]_5._Adult_Onset_Still’s_Disease_Were_you_ever_diagnosed_with_acute_respiratory_distress_syndrome_ARDS_or_chronic_restrictive_lung_disease_prior_to_or_during_the_first_24_months_after_onset_of_your_disease?_[I_was_diagnosed_with_acute_respiratory_distress_syndrome_ARDS_but_only_sometime_after_the_first_24_months_after_onset]  \\\n",
       "0                                                NaN                                                                                                                                                                                                                                                                                             \n",
       "\n",
       "   [still]_5._Adult_Onset_Still’s_Disease_Were_you_ever_diagnosed_with_acute_respiratory_distress_syndrome_ARDS_or_chronic_restrictive_lung_disease_prior_to_or_during_the_first_24_months_after_onset_of_your_disease?_[I_was_diagnosed_with_chronic_restrictive_lung_disease_but_only_sometime_after_the_first_24_months_after_onset]  \\\n",
       "0                                                NaN                                                                                                                                                                                                                                                                                      \n",
       "\n",
       "   [still]_5._Adult_Onset_Still’s_Disease_Were_you_ever_diagnosed_with_acute_respiratory_distress_syndrome_ARDS_or_chronic_restrictive_lung_disease_prior_to_or_during_the_first_24_months_after_onset_of_your_disease?_[I_do_not_remember]  \\\n",
       "0                                                NaN                                                                                                                                                                                          \n",
       "\n",
       "   [aosd.0]_Acute_respiratory_distress_syndrome_ARDS_[First_symptom?]  \\\n",
       "0                                                NaN                    \n",
       "\n",
       "   [aosd.1]_chronic_restrictive_lung_disease_[First_symptom?]  \\\n",
       "0                                                NaN            \n",
       "\n",
       "   [still_1]_Is_there_any_other_symptom_not_mentioned_in_this_study_that_you_feel_was_a_part_of_your_Adult_Onset_Still’s_Disease_in_the_first_0_to_<24_months_from_onset?  \\\n",
       "0                                                NaN                                                                                                                        \n",
       "\n",
       "   [ank]_6.__Ankylosing_Spondylitis_At_any_time_prior_to_or_at_the_time_of,_or_after_diagnosis_did_your_blood_test_positive_for_the_HLA-B27_gene?  \\\n",
       "0                                                 No                                                                                                \n",
       "\n",
       "   [ank_1]_Is_there_any_other_symptom_not_mentioned_in_this_study_that_you_feel_was_a_part_of_your_Ankylosing_Spondylitis_in_the_first_0_to_<24_months_from_onset?  \n",
       "0                                                NaN                                                                                                                \n",
       "\n",
       "[1 rows x 449 columns]"
      ]
     },
     "metadata": {},
     "output_type": "display_data"
    }
   ],
   "source": [
    "display( data900 )"
   ]
  },
  {
   "cell_type": "code",
   "execution_count": 5,
   "metadata": {
    "scrolled": true
   },
   "outputs": [
    {
     "data": {
      "text/plain": [
       "Index(['[Gender]', 'BirthdateYear_xxxx', '[Country]', '[Onset_Age]',\n",
       "       '1st_dx_yr', '[Initial_Dx]', '[Dx_Change]', '[New_Dx]',\n",
       "       '[New_Dx]_If_you_answered_“yes”,_what_is_your_new_diagnosis_and_what_year_was_your_diagnosis_changed?_[other]',\n",
       "       '[Dx]_Diagnosis_Chosen', '[Dr_Dx]', '[Dr_Dx_other]', '[Prior_AD]',\n",
       "       '[Prior_ADs]_Prior_to_my_firstoriginal_diagnosis_of_an_Autoimmune_Arthritis_disease,_I_was_diagnosed_with:__[Autoimmune_Hepatitis]',\n",
       "       '[Prior_ADs]_Prior_to_my_firstoriginal_diagnosis_of_an_Autoimmune_Arthritis_disease,_I_was_diagnosed_with:__[Behcet’s_disease]',\n",
       "       '[Prior_ADs]_Prior_to_my_firstoriginal_diagnosis_of_an_Autoimmune_Arthritis_disease,_I_was_diagnosed_with:_[Celiac_disease]',\n",
       "       '[Prior_ADs]_Prior_to_my_firstoriginal_diagnosis_of_an_Autoimmune_Arthritis_disease,_I_was_diagnosed_with:_[Crohn’s_disease]',\n",
       "       '[Prior_ADs]_Prior_to_my_firstoriginal_diagnosis_of_an_Autoimmune_Arthritis_disease,_I_was_diagnosed_with:_[Discoid_lupus]',\n",
       "       '[Prior_ADs]_Prior_to_my_firstoriginal_diagnosis_of_an_Autoimmune_Arthritis_disease,_I_was_diagnosed_with:_[Endometriosis]',\n",
       "       '[Prior_ADs]_Prior_to_my_firstoriginal_diagnosis_of_an_Autoimmune_Arthritis_disease,_I_was_diagnosed_with:_[Evans_syndrome]'],\n",
       "      dtype='object')"
      ]
     },
     "execution_count": 5,
     "metadata": {},
     "output_type": "execute_result"
    }
   ],
   "source": [
    "data900.columns[0:20]"
   ]
  },
  {
   "cell_type": "code",
   "execution_count": 6,
   "metadata": {},
   "outputs": [],
   "source": [
    "newColNames = {\n",
    "    '[Gender]': 'Gender',\n",
    "    'BirthdateYear (xxxx)': 'B_Year',\n",
    "    '[Country]': 'Country',\n",
    "    '[Onset_Age]': 'Onset_Age',\n",
    "    '[Initial_Dx]': 'Initial_Dx',\n",
    "    '[Dx_Change]': 'Dx_Change',\n",
    "    '[New_Dx]': 'New_Dx',\n",
    "    '[New_Dx]_If_you_answered_“yes”,_what_is_your_new_diagnosis_and_what_year_was_your_diagnosis_changed?_[other]': 'New_Dx_Year',\n",
    "    '[Dx]_Diagnosis_Chosen': 'Dx_Chosen',\n",
    "    '[Dr_Dx]': 'Dr_Dx', '[Dr_Dx_other]': 'Dr_Dx_other', \n",
    "      \n",
    "}\n",
    "data900.rename(columns=newColNames, inplace=True)"
   ]
  },
  {
   "cell_type": "code",
   "execution_count": 7,
   "metadata": {},
   "outputs": [],
   "source": [
    "newColNames = {\n",
    "    \n",
    "    '[Prior_AD]': 'Prior_AD',\n",
    "    '[Prior_ADs]_Prior_to_my_firstoriginal_diagnosis_of_an_Autoimmune_Arthritis_disease,_I_was_diagnosed_with:__[Autoimmune_Hepatitis]': 'Prior_AD_Hep',\n",
    "    '[Prior_ADs]_Prior_to_my_firstoriginal_diagnosis_of_an_Autoimmune_Arthritis_disease,_I_was_diagnosed_with:__[Behcet’s_disease]': 'Prior_AD_Beh',\n",
    "    '[Prior_ADs]_Prior_to_my_firstoriginal_diagnosis_of_an_Autoimmune_Arthritis_disease,_I_was_diagnosed_with:_[Celiac_disease]': 'Prior_AD_Cel',\n",
    "    '[Prior_ADs]_Prior_to_my_firstoriginal_diagnosis_of_an_Autoimmune_Arthritis_disease,_I_was_diagnosed_with:_[Crohn’s_disease]': 'Prior_AD_Cro',\n",
    "    '[Prior_ADs]_Prior_to_my_firstoriginal_diagnosis_of_an_Autoimmune_Arthritis_disease,_I_was_diagnosed_with:_[Discoid_lupus]': 'Prior_AD_Dis',\n",
    "    '[Prior_ADs]_Prior_to_my_firstoriginal_diagnosis_of_an_Autoimmune_Arthritis_disease,_I_was_diagnosed_with:_[Endometriosis]': 'Prior_AD_End',\n",
    "    '[Prior_ADs]_Prior_to_my_firstoriginal_diagnosis_of_an_Autoimmune_Arthritis_disease,_I_was_diagnosed_with:_[Evans_syndrome]': 'Prior_AD_Eva'\n",
    "}\n",
    "data900.rename(columns=newColNames, inplace=True)"
   ]
  },
  {
   "cell_type": "code",
   "execution_count": 8,
   "metadata": {},
   "outputs": [
    {
     "data": {
      "text/plain": [
       "Index(['[Prior_ADs]_Prior_to_my_firstoriginal_diagnosis_of_an_Autoimmune_Arthritis_disease,_I_was_diagnosed_with:_[Graves’_disease]',\n",
       "       '[Prior_ADs]_Prior_to_my_firstoriginal_diagnosis_of_an_Autoimmune_Arthritis_disease,_I_was_diagnosed_with:_[Hashimoto’s_thyroiditis]',\n",
       "       '[Prior_ADs]_Prior_to_my_firstoriginal_diagnosis_of_an_Autoimmune_Arthritis_disease,_I_was_diagnosed_with:_[Hughes_Syndrome]',\n",
       "       '[Prior_ADs]_Prior_to_my_firstoriginal_diagnosis_of_an_Autoimmune_Arthritis_disease,_I_was_diagnosed_with:_[Interstitial_cystitis]',\n",
       "       '[Prior_ADs]_Prior_to_my_firstoriginal_diagnosis_of_an_Autoimmune_Arthritis_disease,_I_was_diagnosed_with:_[Lyme_disease,_chronic]',\n",
       "       '[Prior_ADs]_Prior_to_my_firstoriginal_diagnosis_of_an_Autoimmune_Arthritis_disease,_I_was_diagnosed_with:_[Multiple_sclerosis]',\n",
       "       '[Prior_ADs]_Prior_to_my_firstoriginal_diagnosis_of_an_Autoimmune_Arthritis_disease,_I_was_diagnosed_with:_[Myocarditis]',\n",
       "       '[Prior_ADs]_Prior_to_my_firstoriginal_diagnosis_of_an_Autoimmune_Arthritis_disease,_I_was_diagnosed_with:_[MyositisPolymyositis]',\n",
       "       '[Prior_ADs]_Prior_to_my_firstoriginal_diagnosis_of_an_Autoimmune_Arthritis_disease,_I_was_diagnosed_with:_[Peripheral_neuropathy]',\n",
       "       '[Prior_ADs]_Prior_to_my_firstoriginal_diagnosis_of_an_Autoimmune_Arthritis_disease,_I_was_diagnosed_with:_[Polymyalgia_rheumatica]',\n",
       "       '[Prior_ADs]_Prior_to_my_firstoriginal_diagnosis_of_an_Autoimmune_Arthritis_disease,_I_was_diagnosed_with:_[Reactive_ArthritisReiter’s_Syndrome]',\n",
       "       '[Prior_ADs]_Prior_to_my_firstoriginal_diagnosis_of_an_Autoimmune_Arthritis_disease,_I_was_diagnosed_with:_[Sarcoidosis]',\n",
       "       '[Prior_ADs]_Prior_to_my_firstoriginal_diagnosis_of_an_Autoimmune_Arthritis_disease,_I_was_diagnosed_with:_[Scleritis]',\n",
       "       '[Prior_ADs]_Prior_to_my_firstoriginal_diagnosis_of_an_Autoimmune_Arthritis_disease,_I_was_diagnosed_with:_[Scleroderma]',\n",
       "       '[Prior_ADs]_Prior_to_my_firstoriginal_diagnosis_of_an_Autoimmune_Arthritis_disease,_I_was_diagnosed_with:_[Thyroid_Disease]',\n",
       "       '[Prior_ADs]_Prior_to_my_firstoriginal_diagnosis_of_an_Autoimmune_Arthritis_disease,_I_was_diagnosed_with:_[Type_1_diabetes]',\n",
       "       '[Prior_ADs]_Prior_to_my_firstoriginal_diagnosis_of_an_Autoimmune_Arthritis_disease,_I_was_diagnosed_with:_[Ulcerative_colitis]',\n",
       "       '[Prior_ADs]_Prior_to_my_firstoriginal_diagnosis_of_an_Autoimmune_Arthritis_disease,_I_was_diagnosed_with:_[Vasculitis]',\n",
       "       '[Prior_ADs]_Prior_to_my_firstoriginal_diagnosis_of_an_Autoimmune_Arthritis_disease,_I_was_diagnosed_with:_[Vitiligo]',\n",
       "       '[Prior_ADs]_Prior_to_my_firstoriginal_diagnosis_of_an_Autoimmune_Arthritis_disease,_I_was_diagnosed_with:_[Other_Autoimmune_Disease_]'],\n",
       "      dtype='object')"
      ]
     },
     "execution_count": 8,
     "metadata": {},
     "output_type": "execute_result"
    }
   ],
   "source": [
    "data900.columns[20:40]"
   ]
  },
  {
   "cell_type": "code",
   "execution_count": 9,
   "metadata": {},
   "outputs": [],
   "source": [
    "newColNames = {\n",
    "\n",
    "    '[Prior_ADs]_Prior_to_my_firstoriginal_diagnosis_of_an_Autoimmune_Arthritis_disease,_I_was_diagnosed_with:_[Graves’_disease]': 'Prior_AD_Gra',\n",
    "    '[Prior_ADs]_Prior_to_my_firstoriginal_diagnosis_of_an_Autoimmune_Arthritis_disease,_I_was_diagnosed_with:_[Hashimoto’s_thyroiditis]': 'Prior_AD_Has',\n",
    "    '[Prior_ADs]_Prior_to_my_firstoriginal_diagnosis_of_an_Autoimmune_Arthritis_disease,_I_was_diagnosed_with:_[Hughes_Syndrome]': 'Prior_AD_Hug',\n",
    "    '[Prior_ADs]_Prior_to_my_firstoriginal_diagnosis_of_an_Autoimmune_Arthritis_disease,_I_was_diagnosed_with:_[Interstitial_cystitis]': 'Prior_AD_Int',\n",
    "    '[Prior_ADs]_Prior_to_my_firstoriginal_diagnosis_of_an_Autoimmune_Arthritis_disease,_I_was_diagnosed_with:_[Lyme_disease,_chronic]': 'Prior_AD_Lym',\n",
    "    '[Prior_ADs]_Prior_to_my_firstoriginal_diagnosis_of_an_Autoimmune_Arthritis_disease,_I_was_diagnosed_with:_[Multiple_sclerosis]': 'Prior_AD_Mul',\n",
    "    '[Prior_ADs]_Prior_to_my_firstoriginal_diagnosis_of_an_Autoimmune_Arthritis_disease,_I_was_diagnosed_with:_[Myocarditis]': 'Prior_AD_Myoc',\n",
    "    '[Prior_ADs]_Prior_to_my_firstoriginal_diagnosis_of_an_Autoimmune_Arthritis_disease,_I_was_diagnosed_with:_[MyositisPolymyositis]': 'Prior_AD_Myos',\n",
    "    '[Prior_ADs]_Prior_to_my_firstoriginal_diagnosis_of_an_Autoimmune_Arthritis_disease,_I_was_diagnosed_with:_[Peripheral_neuropathy]': 'Prior_AD_Per',\n",
    "    '[Prior_ADs]_Prior_to_my_firstoriginal_diagnosis_of_an_Autoimmune_Arthritis_disease,_I_was_diagnosed_with:_[Polymyalgia_rheumatica]': 'Prior_AD_Pol',\n",
    "    '[Prior_ADs]_Prior_to_my_firstoriginal_diagnosis_of_an_Autoimmune_Arthritis_disease,_I_was_diagnosed_with:_[Reactive_ArthritisReiter’s_Syndrome]': 'Prior_AD_Rea',\n",
    "    '[Prior_ADs]_Prior_to_my_firstoriginal_diagnosis_of_an_Autoimmune_Arthritis_disease,_I_was_diagnosed_with:_[Sarcoidosis]': 'Prior_AD_Sarcoidosis',\n",
    "    '[Prior_ADs]_Prior_to_my_firstoriginal_diagnosis_of_an_Autoimmune_Arthritis_disease,_I_was_diagnosed_with:_[Scleritis]': 'Prior_AD_Scleritis',\n",
    "    '[Prior_ADs]_Prior_to_my_firstoriginal_diagnosis_of_an_Autoimmune_Arthritis_disease,_I_was_diagnosed_with:_[Scleroderma]': 'Prior_AD_Scleroderma',\n",
    "    '[Prior_ADs]_Prior_to_my_firstoriginal_diagnosis_of_an_Autoimmune_Arthritis_disease,_I_was_diagnosed_with:_[Thyroid_Disease]': 'Prior_AD_Thy',\n",
    "    '[Prior_ADs]_Prior_to_my_firstoriginal_diagnosis_of_an_Autoimmune_Arthritis_disease,_I_was_diagnosed_with:_[Type_1_diabetes]': 'Prior_AD_Type_1',\n",
    "    '[Prior_ADs]_Prior_to_my_firstoriginal_diagnosis_of_an_Autoimmune_Arthritis_disease,_I_was_diagnosed_with:_[Ulcerative_colitis]': 'Prior_AD_Ulcerative',\n",
    "    '[Prior_ADs]_Prior_to_my_firstoriginal_diagnosis_of_an_Autoimmune_Arthritis_disease,_I_was_diagnosed_with:_[Vasculitis]': 'Prior_AD_Vasculitis',\n",
    "    '[Prior_ADs]_Prior_to_my_firstoriginal_diagnosis_of_an_Autoimmune_Arthritis_disease,_I_was_diagnosed_with:_[Vitiligo]': 'Prior_AD_Vitiligo',\n",
    "    '[Prior_ADs]_Prior_to_my_firstoriginal_diagnosis_of_an_Autoimmune_Arthritis_disease,_I_was_diagnosed_with:_[Other_Autoimmune_Disease_]': 'Prior_AD_Other_AD'\n",
    "\n",
    "}\n",
    "data900.rename(columns=newColNames, inplace=True)"
   ]
  },
  {
   "cell_type": "code",
   "execution_count": 10,
   "metadata": {},
   "outputs": [
    {
     "data": {
      "text/plain": [
       "Index(['[Prior_ADs]_Prior_to_my_firstoriginal_diagnosis_of_an_Autoimmune_Arthritis_disease,_I_was_diagnosed_with:_[Other_Autoimmune_Disease_]_[text]',\n",
       "       '[Post_AD]_10._Since_your_firstoriginal_diagnosis_of_an_Autoimmune_Arthritis_disease,_have_you_ever_been_diagnosed_with_another_Autoimmune_Diseases_that_is_not_1_of_the_6_included_in_this_study_Rheumatoid_Arthritis,_Psoriatic_Arthritis,_Ankylosing_Spondylitis,_Sjögren’s_Syndrome,_Systemic_Lupus_Erythematosus,_and_Adult_Onset_Still’s_Disease?',\n",
       "       '[Post_ADs]_Since_my_firstoriginal_diagnosis_of_an_Autoimmune_Arthritis_disease,_I_was_diagnosed_with:_[Addison’s_disease]',\n",
       "       '[Post_ADs]_Since_my_firstoriginal_diagnosis_of_an_Autoimmune_Arthritis_disease,_I_was_diagnosed_with:_[Autoimmune_Hepatitis]',\n",
       "       '[Post_ADs]_Since_my_firstoriginal_diagnosis_of_an_Autoimmune_Arthritis_disease,_I_was_diagnosed_with:[Autoimmune_myocarditis]',\n",
       "       '[Post_ADs]_Since_my_firstoriginal_diagnosis_of_an_Autoimmune_Arthritis_disease,_I_was_diagnosed_with:_[Autoimmune_pancreatitis]',\n",
       "       '[Post_ADs]_Since_my_firstoriginal_diagnosis_of_an_Autoimmune_Arthritis_disease,_I_was_diagnosed_with:_[Behcet’s_disease]',\n",
       "       '[Post_ADs]_Since_my_firstoriginal_diagnosis_of_an_Autoimmune_Arthritis_disease,_I_was_diagnosed_with:_[Celiac_disease]',\n",
       "       '[Post_ADs]_Since_my_firstoriginal_diagnosis_of_an_Autoimmune_Arthritis_disease,_I_was_diagnosed_with:_[Crohn’s_disease]',\n",
       "       '[Post_ADs]_Since_my_firstoriginal_diagnosis_of_an_Autoimmune_Arthritis_disease,_I_was_diagnosed_with:_[CREST_disease]',\n",
       "       '[Post_ADs]_Since_my_firstoriginal_diagnosis_of_an_Autoimmune_Arthritis_disease,_I_was_diagnosed_with:_[Dermatomyositis]',\n",
       "       '[Post_ADs]_Since_my_firstoriginal_diagnosis_of_an_Autoimmune_Arthritis_disease,_I_was_diagnosed_with:_[Discoid_lupus]',\n",
       "       '[Post_ADs]_Since_my_firstoriginal_diagnosis_of_an_Autoimmune_Arthritis_disease,_I_was_diagnosed_with:_[Endometriosis]',\n",
       "       '[Post_ADs]_Since_my_firstoriginal_diagnosis_of_an_Autoimmune_Arthritis_disease,_I_was_diagnosed_with:_[Hashimoto’s_thyroiditis]',\n",
       "       '[Post_ADs]_Since_my_firstoriginal_diagnosis_of_an_Autoimmune_Arthritis_disease,_I_was_diagnosed_with:_[Hughes_Syndrome]',\n",
       "       '[Post_ADs]_Since_my_firstoriginal_diagnosis_of_an_Autoimmune_Arthritis_disease,_I_was_diagnosed_with:_[Interstitial_cystitis]',\n",
       "       '[Post_ADs]_Since_my_firstoriginal_diagnosis_of_an_Autoimmune_Arthritis_disease,_I_was_diagnosed_with:_[Lyme_disease,_chronic]',\n",
       "       '[Post_ADs]_Since_my_firstoriginal_diagnosis_of_an_Autoimmune_Arthritis_disease,_I_was_diagnosed_with:_[MyositisPolymyositis]',\n",
       "       '[Post_ADs]_Since_my_firstoriginal_diagnosis_of_an_Autoimmune_Arthritis_disease,_I_was_diagnosed_with:_[Palindromic_rheumatism]',\n",
       "       '[Post_ADs]_Since_my_firstoriginal_diagnosis_of_an_Autoimmune_Arthritis_disease,_I_was_diagnosed_with:_[Peripheral_neuropathy]'],\n",
       "      dtype='object')"
      ]
     },
     "execution_count": 10,
     "metadata": {},
     "output_type": "execute_result"
    }
   ],
   "source": [
    "data900.columns[40:60]"
   ]
  },
  {
   "cell_type": "code",
   "execution_count": 11,
   "metadata": {},
   "outputs": [],
   "source": [
    "newColNames = {\n",
    "    \n",
    "    '[Prior_ADs]_Prior_to_my_firstoriginal_diagnosis_of_an_Autoimmune_Arthritis_disease,_I_was_diagnosed_with:_[Other_Autoimmune_Disease_]_[text]': 'Prior_AD_Other_AD_Text',\n",
    "    '[Post_AD]_10._Since_your_firstoriginal_diagnosis_of_an_Autoimmune_Arthritis_disease,_have_you_ever_been_diagnosed_with_another_Autoimmune_Diseases_that_is_not_1_of_the_6_included_in_this_study_Rheumatoid_Arthritis,_Psoriatic_Arthritis,_Ankylosing_Spondylitis,_Sjögren’s_Syndrome,_Systemic_Lupus_Erythematosus,_and_Adult_Onset_Still’s_Disease?': 'Post_AD_',\n",
    "    '[Post_ADs]_Since_my_firstoriginal_diagnosis_of_an_Autoimmune_Arthritis_disease,_I_was_diagnosed_with:_[Addison’s_disease]': 'Post_AD_Addison',\n",
    "    '[Post_ADs]_Since_my_firstoriginal_diagnosis_of_an_Autoimmune_Arthritis_disease,_I_was_diagnosed_with:_[Autoimmune_Hepatitis]': 'Post_AD_Hep',\n",
    "    '[Post_ADs]_Since_my_firstoriginal_diagnosis_of_an_Autoimmune_Arthritis_disease,_I_was_diagnosed_with:[Autoimmune_myocarditis]': 'Post_AD_Myo',\n",
    "    '[Post_ADs]_Since_my_firstoriginal_diagnosis_of_an_Autoimmune_Arthritis_disease,_I_was_diagnosed_with:_[Autoimmune_pancreatitis]': 'Post_AD_Pan',\n",
    "    '[Post_ADs]_Since_my_firstoriginal_diagnosis_of_an_Autoimmune_Arthritis_disease,_I_was_diagnosed_with:_[Behcet’s_disease]': 'Post_AD_Beh',\n",
    "    '[Post_ADs]_Since_my_firstoriginal_diagnosis_of_an_Autoimmune_Arthritis_disease,_I_was_diagnosed_with:_[Celiac_disease]': 'Post_AD_Cel',\n",
    "    '[Post_ADs]_Since_my_firstoriginal_diagnosis_of_an_Autoimmune_Arthritis_disease,_I_was_diagnosed_with:_[Crohn’s_disease]': 'Post_AD_Cro',\n",
    "    '[Post_ADs]_Since_my_firstoriginal_diagnosis_of_an_Autoimmune_Arthritis_disease,_I_was_diagnosed_with:_[CREST_disease]': 'Post_AD_CRE',\n",
    "    '[Post_ADs]_Since_my_firstoriginal_diagnosis_of_an_Autoimmune_Arthritis_disease,_I_was_diagnosed_with:_[Dermatomyositis]': 'Post_AD_Derma',\n",
    "    '[Post_ADs]_Since_my_firstoriginal_diagnosis_of_an_Autoimmune_Arthritis_disease,_I_was_diagnosed_with:_[Discoid_lupus]': 'Post_AD_Dis',\n",
    "    '[Post_ADs]_Since_my_firstoriginal_diagnosis_of_an_Autoimmune_Arthritis_disease,_I_was_diagnosed_with:_[Endometriosis]': 'Post_AD_End',\n",
    "    '[Post_ADs]_Since_my_firstoriginal_diagnosis_of_an_Autoimmune_Arthritis_disease,_I_was_diagnosed_with:_[Hashimoto’s_thyroiditis]': 'Post_AD_Has',\n",
    "    '[Post_ADs]_Since_my_firstoriginal_diagnosis_of_an_Autoimmune_Arthritis_disease,_I_was_diagnosed_with:_[Hughes_Syndrome]': 'Post_AD_Hug',\n",
    "    '[Post_ADs]_Since_my_firstoriginal_diagnosis_of_an_Autoimmune_Arthritis_disease,_I_was_diagnosed_with:_[Interstitial_cystitis]': 'Post_AD_Has',\n",
    "    '[Post_ADs]_Since_my_firstoriginal_diagnosis_of_an_Autoimmune_Arthritis_disease,_I_was_diagnosed_with:_[Lyme_disease,_chronic]': 'Post_AD_Lym',\n",
    "    '[Post_ADs]_Since_my_firstoriginal_diagnosis_of_an_Autoimmune_Arthritis_disease,_I_was_diagnosed_with:_[MyositisPolymyositis]': 'Post_AD_MyoPol',\n",
    "    '[Post_ADs]_Since_my_firstoriginal_diagnosis_of_an_Autoimmune_Arthritis_disease,_I_was_diagnosed_with:_[Palindromic_rheumatism]': 'Post_AD_Pal',\n",
    "    '[Post_ADs]_Since_my_firstoriginal_diagnosis_of_an_Autoimmune_Arthritis_disease,_I_was_diagnosed_with:_[Peripheral_neuropathy]': 'Post_AD_Per'\n",
    "}\n",
    "data900.rename(columns=newColNames, inplace=True)"
   ]
  },
  {
   "cell_type": "code",
   "execution_count": 12,
   "metadata": {},
   "outputs": [
    {
     "data": {
      "text/plain": [
       "Index(['[Post_ADs]_Since_my_firstoriginal_diagnosis_of_an_Autoimmune_Arthritis_disease,_I_was_diagnosed_with:_[Polymyalgia_rheumatica]',\n",
       "       '[Post_ADs]_Since_my_firstoriginal_diagnosis_of_an_Autoimmune_Arthritis_disease,_I_was_diagnosed_with:_[Reactive_ArthritisReiter’s_Syndrome]',\n",
       "       '[Post_ADs]_Since_my_firstoriginal_diagnosis_of_an_Autoimmune_Arthritis_disease,_I_was_diagnosed_with:_[Relapsing_polychondritis]',\n",
       "       '[Post_ADs]_Since_my_firstoriginal_diagnosis_of_an_Autoimmune_Arthritis_disease,_I_was_diagnosed_with:_[Scleritis]',\n",
       "       '[Post_ADs]_Since_my_firstoriginal_diagnosis_of_an_Autoimmune_Arthritis_disease,_I_was_diagnosed_with:_[Scleroderma]',\n",
       "       '[Post_ADs]_Since_my_firstoriginal_diagnosis_of_an_Autoimmune_Arthritis_disease,_I_was_diagnosed_with:_[Thyroid_Disease]',\n",
       "       '[Post_ADs]_Since_my_firstoriginal_diagnosis_of_an_Autoimmune_Arthritis_disease,_I_was_diagnosed_with:_[Type_1_diabetes]',\n",
       "       '[Post_ADs]_Since_my_firstoriginal_diagnosis_of_an_Autoimmune_Arthritis_disease,_I_was_diagnosed_with:_[Ulcerative_colitis]',\n",
       "       '[Post_ADs]_Since_my_firstoriginal_diagnosis_of_an_Autoimmune_Arthritis_disease,_I_was_diagnosed_with:_[Vasculitis]',\n",
       "       '[Post_ADs]_Since_my_firstoriginal_diagnosis_of_an_Autoimmune_Arthritis_disease,_I_was_diagnosed_with:_[Vitiligo]',\n",
       "       '[Post_ADs]_Since_my_firstoriginal_diagnosis_of_an_Autoimmune_Arthritis_disease,_I_was_diagnosed_with:_[Other_Autoimmune_Disease]',\n",
       "       '[Post_ADs]_Since_my_firstoriginal_diagnosis_of_an_Autoimmune_Arthritis_disease,_I_was_diagnosed_with:_[Other_Autoimmune_Disease]_[text]',\n",
       "       '[Add_AAdx]_11._Since_your_original_diagnosis_of_an_Autoimmune_Arthritis_disease,_have_you_been_diagnosed_with_any_additional_or_secondary_Autoimmune_Arthritis_Diseases_Rheumatoid_Arthritis,_Psoriatic_Arthritis,_Ankylosing_Spondylitis,_Sjögren’s_Syndrome,_Systemic_Lupus_Erythematosus,_and_Adult_Onset_Still’s_Disease_in_addition_to_your_initial_diagnosis?',\n",
       "       '[Add_AAdxRA]', '[Add_AAdxRADate]', 'Add_AAdxPsA', 'Add_AAdxPsADate',\n",
       "       'Add_AAdxSLE', 'Add_AAdxSLEdate', 'Add_AAdxSS'],\n",
       "      dtype='object')"
      ]
     },
     "execution_count": 12,
     "metadata": {},
     "output_type": "execute_result"
    }
   ],
   "source": [
    "data900.columns[60:80]"
   ]
  },
  {
   "cell_type": "code",
   "execution_count": 13,
   "metadata": {},
   "outputs": [],
   "source": [
    "newColNames = {\n",
    "    '[Post_ADs]_Since_my_firstoriginal_diagnosis_of_an_Autoimmune_Arthritis_disease,_I_was_diagnosed_with:_[Polymyalgia_rheumatica]': 'Post_AD_Pol',\n",
    "    '[Post_ADs]_Since_my_firstoriginal_diagnosis_of_an_Autoimmune_Arthritis_disease,_I_was_diagnosed_with:_[Reactive_ArthritisReiter’s_Syndrome]': 'Post_AD_Rea',\n",
    "    '[Post_ADs]_Since_my_firstoriginal_diagnosis_of_an_Autoimmune_Arthritis_disease,_I_was_diagnosed_with:_[Relapsing_polychondritis]': 'Post_AD_Rel',\n",
    "    '[Post_ADs]_Since_my_firstoriginal_diagnosis_of_an_Autoimmune_Arthritis_disease,_I_was_diagnosed_with:_[Scleritis]': 'Post_AD_Scleritis',\n",
    "    '[Post_ADs]_Since_my_firstoriginal_diagnosis_of_an_Autoimmune_Arthritis_disease,_I_was_diagnosed_with:_[Scleroderma]': 'Post_AD_Scleroderma',\n",
    "    '[Post_ADs]_Since_my_firstoriginal_diagnosis_of_an_Autoimmune_Arthritis_disease,_I_was_diagnosed_with:_[Thyroid_Disease]': 'Post_AD_Thy',\n",
    "    '[Post_ADs]_Since_my_firstoriginal_diagnosis_of_an_Autoimmune_Arthritis_disease,_I_was_diagnosed_with:_[Type_1_diabetes]': 'Post_AD_Type_1',\n",
    "    '[Post_ADs]_Since_my_firstoriginal_diagnosis_of_an_Autoimmune_Arthritis_disease,_I_was_diagnosed_with:_[Ulcerative_colitis]': 'Post_AD_Ulcerative',\n",
    "    '[Post_ADs]_Since_my_firstoriginal_diagnosis_of_an_Autoimmune_Arthritis_disease,_I_was_diagnosed_with:_[Vasculitis]': 'Post_AD_Vasculitis',\n",
    "    '[Post_ADs]_Since_my_firstoriginal_diagnosis_of_an_Autoimmune_Arthritis_disease,_I_was_diagnosed_with:_[Vitiligo]': 'Post_AD_Vitiligo',\n",
    "    '[Post_ADs]_Since_my_firstoriginal_diagnosis_of_an_Autoimmune_Arthritis_disease,_I_was_diagnosed_with:_[Other_Autoimmune_Disease]': 'Post_AD_Other_AD',\n",
    "    '[Post_ADs]_Since_my_firstoriginal_diagnosis_of_an_Autoimmune_Arthritis_disease,_I_was_diagnosed_with:_[Other_Autoimmune_Disease]_[text]': 'Post_AD_Other_AD_Text',\n",
    "    '[Add_AAdx]_11._Since_your_original_diagnosis_of_an_Autoimmune_Arthritis_disease,_have_you_been_diagnosed_with_any_additional_or_secondary_Autoimmune_Arthritis_Diseases_Rheumatoid_Arthritis,_Psoriatic_Arthritis,_Ankylosing_Spondylitis,_Sjögren’s_Syndrome,_Systemic_Lupus_Erythematosus,_and_Adult_Onset_Still’s_Disease_in_addition_to_your_initial_diagnosis?': 'Add_AAdx_11',\n",
    "    '[Add_AAdxRA]': 'Add_AAdxRA', '[Add_AAdxRADate]': 'Add_AAdxRADate'\n",
    "\n",
    "}\n",
    "data900.rename(columns=newColNames, inplace=True)"
   ]
  },
  {
   "cell_type": "code",
   "execution_count": 14,
   "metadata": {},
   "outputs": [
    {
     "data": {
      "text/plain": [
       "Index(['Add_AAdxSSdate', 'Add_AAdxSD', 'Add_AAdxSDdate', 'Add_AAdxAS',\n",
       "       'Add_AAdxASdate', 'Fibro_dx', 'Fibro_dxdate', '[CFSyndrome]',\n",
       "       '[Raynauds]_14._Prior_to_your_original_diagnosis_of_an_Autoimmune_Arthritis_disease,_were_you_diagnosed_with_Raynaud’s_Phenomenon?',\n",
       "       '[Relatives_AD]', 'Injury', '[Mental_Stressors]', '[Prior_virus]',\n",
       "       '[Virus]', '[Infection]', '[Pneumonia]', '[Bronchitis]',\n",
       "       '[Virus_Uncertain', '[Virus_[Other]', '[Virus_[Other]_[text]'],\n",
       "      dtype='object')"
      ]
     },
     "execution_count": 14,
     "metadata": {},
     "output_type": "execute_result"
    }
   ],
   "source": [
    "data900.columns[80:100]"
   ]
  },
  {
   "cell_type": "code",
   "execution_count": 15,
   "metadata": {},
   "outputs": [],
   "source": [
    "newColNames = {\n",
    "\n",
    "    '[CFSyndrome]': 'CFSyndrome',\n",
    "    '[Raynauds]_14._Prior_to_your_original_diagnosis_of_an_Autoimmune_Arthritis_disease,_were_you_diagnosed_with_Raynaud’s_Phenomenon?': 'Raynauds_14',\n",
    "    '[Relatives_AD]': 'Relatives_AD', '[Mental_Stressors]': 'Mental_Stressors', '[Prior_virus]': 'Prior_virus',\n",
    "    '[Virus]': 'Virus', '[Infection]': 'Infection', '[Pneumonia]': 'Pneumonia', '[Bronchitis]': 'Bronchitis',\n",
    "    '[Virus_Uncertain': 'Virus_Uncertain', '[Virus_[Other]': 'Virus_Other', '[Virus_[Other]_[text]': 'Virus_Other_Text'\n",
    "\n",
    "}\n",
    "data900.rename(columns=newColNames, inplace=True)"
   ]
  },
  {
   "cell_type": "code",
   "execution_count": 16,
   "metadata": {},
   "outputs": [
    {
     "data": {
      "text/plain": [
       "Index(['[Give_Birth]', '[First_onset_visit]',\n",
       "       '[First_onset_visit]_23.\\tWhen_did_you_first_visit_your_primary_care_doctor,_health_specialist,_or_hospital_after_experiencing_your_initial_onset_symptoms?__[other]',\n",
       "       '[first_dr_response]', 'first_dr_response_injury',\n",
       "       '[first_dr_response_young', '[first_dr_response_nosymptoms',\n",
       "       '[first_dr_response_nothing_wrong', '[first_dr_response_Other]',\n",
       "       '[first_dr_response_Othertext]',\n",
       "       '[first_dr_response]_24.\\tDuring_your_first_visit_to_discuss_your_initial_symptoms,_whether_with_your_primary_care_doctor_or_the_hospital,_were_you_told_any_of_the_statements_below_by_the_doctor_treating_your_case?__[None_of_these_apply]',\n",
       "       '[referral_time_mos', '[num_specialists_unrelated',\n",
       "       '[Num_Rheum_Immun_todx]', 'Lankle_0_12', 'Rankle_0_12', 'Lknee_0_12',\n",
       "       'Rknee_0_12', 'Lelb_0_12', 'Relb_0_12'],\n",
       "      dtype='object')"
      ]
     },
     "execution_count": 16,
     "metadata": {},
     "output_type": "execute_result"
    }
   ],
   "source": [
    "data900.columns[100:120]"
   ]
  },
  {
   "cell_type": "code",
   "execution_count": 17,
   "metadata": {},
   "outputs": [],
   "source": [
    "newColNames = {\n",
    "\n",
    "    '[Give_Birth]': 'Give_Birth', \n",
    "    '[First_onset_visit]': 'First_onset_visit',\n",
    "    '[First_onset_visit]_23.\\tWhen_did_you_first_visit_your_primary_care_doctor,_health_specialist,_or_hospital_after_experiencing_your_initial_onset_symptoms?__[other]': 'First_onset_visit_other',\n",
    "    '[first_dr_response]': 'first_dr_response', \n",
    "    '[first_dr_response_young': 'first_dr_response_young', \n",
    "    '[first_dr_response_nosymptoms':'first_dr_response_young',\n",
    "    '[first_dr_response_nothing_wrong': 'first_dr_response_nothing_wrong', \n",
    "    '[first_dr_response_Other]': 'first_dr_response_Other',\n",
    "    '[first_dr_response_Othertext]': 'first_dr_response_Other_Text',\n",
    "    '[first_dr_response]_24.\\tDuring_your_first_visit_to_discuss_your_initial_symptoms,_whether_with_your_primary_care_doctor_or_the_hospital,_were_you_told_any_of_the_statements_below_by_the_doctor_treating_your_case?__[None_of_these_apply]': 'first_dr_response_none',\n",
    "    '[referral_time_mos': 'referral_time_mos', \n",
    "    '[num_specialists_unrelated': 'num_specialists_unrelated',\n",
    "    '[Num_Rheum_Immun_todx]': 'Num_Rheum_Immun_todx',\n",
    "    'Lankle_0_12': 'Ex1_1_Lankle_0_12', \n",
    "    'Rankle_0_12': 'Ex1_1_Rankle_0_12', \n",
    "    'Lknee_0_12': 'Ex1_1_Lknee_0_12',\n",
    "    'Rknee_0_12': 'Ex1_1_Rknee_0_12',\n",
    "    'Lelb_0_12': 'Ex1_1_Lelb_0_12', \n",
    "    'Relb_0_12': 'Ex1_1_Relb_0_12'\n",
    "    \n",
    "}\n",
    "data900.rename(columns=newColNames, inplace=True)"
   ]
  },
  {
   "cell_type": "code",
   "execution_count": 18,
   "metadata": {},
   "outputs": [
    {
     "data": {
      "text/plain": [
       "Index(['Furn_0_12', 'FS_Furn', 'Fv_24', 'FS_Fv', 'Fv_Type', 'Fv_Higher_0_12',\n",
       "       '[Fv_Morn_Peak', 'Fv_Afternoon_Peak', 'Fv_PM_Peak', 'Fv_Sleep_Peak',\n",
       "       'Fv_1xplus_daily', 'Fv_1weekp', 'Fv_2weekp', 'Fv_wsalmon_rash',\n",
       "       'Fv_Typ_NoneApply', 'Fg_24', 'FS_Fg]', 'App_24', 'FS_App',\n",
       "       'Lb_loss_24'],\n",
       "      dtype='object')"
      ]
     },
     "execution_count": 18,
     "metadata": {},
     "output_type": "execute_result"
    }
   ],
   "source": [
    "data900.columns[300:320]"
   ]
  },
  {
   "cell_type": "code",
   "execution_count": 19,
   "metadata": {},
   "outputs": [],
   "source": [
    "newColNames = {\n",
    "    'Furn_0_12':'Furniture_Discomfort_0_12', \n",
    "    'FS_Furn':'Furniture_Discomfort_FS', \n",
    "    'Fv_24':'Fever_0_24', \n",
    "    'FS_Fv':'Fever_FS', \n",
    "    'Fv_Type':'Fever_Type', \n",
    "    'Fv_Higher_0_12':'Fv_Higher_0_12',\n",
    "    'Fv_Morn_Peak':'Fever_Peak_Morn', \n",
    "    'Fv_Afternoon_Peak':'Fever_Peak_Afternoon', \n",
    "    'Fv_PM_Peak':'Fever_Peak_Evening', \n",
    "    'Fv_Sleep_Peak':'Fever_Peak_Nignt',\n",
    "    'Fv_1xplus_daily':'Fever_1xplus_daily', \n",
    "    'Fv_1weekp':'Fever_for1weekp', \n",
    "    'Fv_2weekp':'Fever_for2weeksp',\n",
    "    'Fv_wsalmon_rash':'Fever_wsalmon_rash',\n",
    "    'Fv_Typ_NoneApply':'Fever_Typ_NoneApply', \n",
    "    'Fg_24':'Fatigue_0_24', \n",
    "    'FS_Fg':'FS_Fatigue', \n",
    "    'App_24':'Loss_of_Appetite_0_24', \n",
    "    'FS_App':'FS_Loss_of_Appetite',\n",
    "    'Lb_loss_24':'Lb_loss_0_24'\n",
    "    \n",
    "}\n",
    "data900.rename(columns=newColNames, inplace=True)"
   ]
  },
  {
   "cell_type": "code",
   "execution_count": 20,
   "metadata": {},
   "outputs": [
    {
     "data": {
      "text/plain": [
       "Index(['FS_Lb_Loss', 'Fog_24', 'FS_Fog', 'Hair_Loss_24', 'FS_Hair_Loss',\n",
       "       'Flu_24', 'FS_Flu', 'Myalgia_24', 'FS_Myalgia', 'HBurn_24', 'FS_HBurn',\n",
       "       'Gastro_Hist_28.\\tDo_you_have_a_history_of_any_bowel_inflammation_or_gastrointestinal_infections_that_cannot_be_contributed_to_diet_or_medications?',\n",
       "       'FS_Gastro', 'AcidReflux_24', 'FS_AcidReflux', 'Rash_24',\n",
       "       'Rash_butterfly', 'FS_Rash_Butterfly', 'Rash_chest', 'FS_Rash_chest'],\n",
       "      dtype='object')"
      ]
     },
     "execution_count": 20,
     "metadata": {},
     "output_type": "execute_result"
    }
   ],
   "source": [
    "data900.columns[320:340]"
   ]
  },
  {
   "cell_type": "code",
   "execution_count": 21,
   "metadata": {},
   "outputs": [],
   "source": [
    "newColNames = {\n",
    "    'FS_Lb_Loss':'FS_Lb_Loss', \n",
    "    'Fog_24':'Brain_Fog_0_24', \n",
    "    'FS_Fog':'FS_Brain_Fog', \n",
    "    'Hair_Loss_24':'Hair_Loss_0_24', \n",
    "    'FS_Hair_Loss':'FS_Hair_Loss',\n",
    "    'Flu_24':'Flu_0_24', \n",
    "    'FS_Flu':'FS_Flu', \n",
    "    'Myalgia_24':'Myalgia_0_24', \n",
    "    'FS_Myalgia':'FS_Myalgia', \n",
    "    'HBurn_24':'HeartBurn_0_24', \n",
    "    'FS_HBurn':'FS_HeartBurn',\n",
    "    'Gastro_Hist_28.\\tDo_you_have_a_history_of_any_bowel_inflammation_or_gastrointestinal_infections_that_cannot_be_contributed_to_diet_or_medications?':'Gastro_History',\n",
    "    'FS_Gastro':'FS_Gastro', \n",
    "    'AcidReflux_24':'AcidReflux_0_24', \n",
    "    'FS_AcidReflux':'FS_AcidReflux', \n",
    "    'Rash_24':'Rash_0_24',\n",
    "    'Rash_butterfly':'Rash_Nose_Cheeks', \n",
    "    'FS_Rash_Butterfly':'FS_Rash_Nose_Cheeks', \n",
    "    'Rash_chest':'Rash_chest', \n",
    "    'FS_Rash_chest':'FS_Rash_chest'\n",
    "    \n",
    "}\n",
    "data900.rename(columns=newColNames, inplace=True)"
   ]
  },
  {
   "cell_type": "code",
   "execution_count": 22,
   "metadata": {},
   "outputs": [
    {
     "data": {
      "text/plain": [
       "Index(['Rash_Bk_S', 'FS_Rash_Bk_S', 'Rash_Arms', 'FS_Rash_Arm', 'Rash_Legs',\n",
       "       'FS_Rash_Legs', 'Rash_Hands', 'FS_Rash_Hands', 'Rash_Scalp',\n",
       "       'FS_Rash_Scalp', 'Rash_Elb', 'FS_Rash_Elb', 'Rash_Feet', 'FS_Rash_Feet',\n",
       "       'Rash_Other', 'FS_Rash_Other',\n",
       "       '[ID_Rash]_b.\\tWhich_of_the_following_statements_best_describes_the_rashes_that_occurred_on_your_body?_Check_all_that_apply.__[Bright_red_and_warm_to_the_touch,_mimicking_a_sunburn]',\n",
       "       '[ID_Rash]_b.\\tWhich_of_the_following_statements_best_describes_the_rashes_that_occurred_on_your_body?_Check_all_that_apply.__[Scaly_red_and_white_patches_psoriasis]',\n",
       "       '[ID_Rash]_b.\\tWhich_of_the_following_statements_best_describes_the_rashes_that_occurred_on_your_body?_Check_all_that_apply.__[Salmon_colored_rash_that_comes_and_goes]',\n",
       "       '[ID_Rash]_b.\\tWhich_of_the_following_statements_best_describes_the_rashes_that_occurred_on_your_body?_Check_all_that_apply.__[Cluster_of_reddish_patches,_not_raised,_and_do_not_itch]'],\n",
       "      dtype='object')"
      ]
     },
     "execution_count": 22,
     "metadata": {},
     "output_type": "execute_result"
    }
   ],
   "source": [
    "data900.columns[340:360]"
   ]
  },
  {
   "cell_type": "code",
   "execution_count": 23,
   "metadata": {},
   "outputs": [],
   "source": [
    "newColNames = {\n",
    "    'Rash_Bk_S':'Rash_Bk_S', \n",
    "    'FS_Rash_Bk_S':'FS_Rash_Bk_S', \n",
    "    'Rash_Arms':'Rash_Arms', \n",
    "    'FS_Rash_Arm':'FS_Rash_Arm', \n",
    "    'Rash_Legs':'Rash_Legs',\n",
    "    'FS_Rash_Legs':'FS_Rash_Legs', \n",
    "    'Rash_Hands':'Rash_Hands', \n",
    "    'FS_Rash_Hands':'FS_Rash_Hands', \n",
    "    'Rash_Scalp':'Rash_Scalp',\n",
    "    'FS_Rash_Scalp':'FS_Rash_Scalp', \n",
    "    'Rash_Elb':'Rash_Elb', \n",
    "    'FS_Rash_Elb':'FS_Rash_Elb', \n",
    "    'Rash_Feet':'Rash_Feet', \n",
    "    'FS_Rash_Feet':'FS_Rash_Feet',\n",
    "    'Rash_Other':'Rash_Other', \n",
    "    'FS_Rash_Other':'FS_Rash_Other',\n",
    "    '[ID_Rash]_b.\\tWhich_of_the_following_statements_best_describes_the_rashes_that_occurred_on_your_body?_Check_all_that_apply.__[Bright_red_and_warm_to_the_touch,_mimicking_a_sunburn]':'Rash_Like_Sunburn',\n",
    "    '[ID_Rash]_b.\\tWhich_of_the_following_statements_best_describes_the_rashes_that_occurred_on_your_body?_Check_all_that_apply.__[Scaly_red_and_white_patches_psoriasis]':'Rash_Scaly_Patches',\n",
    "    '[ID_Rash]_b.\\tWhich_of_the_following_statements_best_describes_the_rashes_that_occurred_on_your_body?_Check_all_that_apply.__[Salmon_colored_rash_that_comes_and_goes]':'Rash_Salmon_Comes_and_Goes',\n",
    "    '[ID_Rash]_b.\\tWhich_of_the_following_statements_best_describes_the_rashes_that_occurred_on_your_body?_Check_all_that_apply.__[Cluster_of_reddish_patches,_not_raised,_and_do_not_itch]':'Rash_Cluster_No_Itch'\n",
    "    \n",
    "}\n",
    "data900.rename(columns=newColNames, inplace=True)"
   ]
  },
  {
   "cell_type": "code",
   "execution_count": 24,
   "metadata": {},
   "outputs": [
    {
     "data": {
      "text/plain": [
       "Index(['[ID_Rash]_b.\\tWhich_of_the_following_statements_best_describes_the_rashes_that_occurred_on_your_body?_Check_all_that_apply.__[Reddish-purple_discoloration,_not_raised,_with_the_appearance_of_a_web]',\n",
       "       'ID_Rash_other', 'ID_Rash_Other_text', 'Ps_Dx', 'Ps_pre_arthritis',\n",
       "       '[Eye_Dx]', '[FS_Eye]', '[PinkEye_24', '[FS_PinkEye]', 'Eye_Dry_24',\n",
       "       '[Eye_burn_itch_24]', 'Eye_Blur_24', '[Eye_lightsens_24]',\n",
       "       'Eye_Sym_24p', 'N_Eye_Sym_24', 'Eye_Sym_24_IDK', 'FS_Dry_Eye',\n",
       "       '[FS_Burn_Itch', 'FS_Blur', 'FS_LightSens'],\n",
       "      dtype='object')"
      ]
     },
     "execution_count": 24,
     "metadata": {},
     "output_type": "execute_result"
    }
   ],
   "source": [
    "data900.columns[360:380]"
   ]
  },
  {
   "cell_type": "code",
   "execution_count": 25,
   "metadata": {},
   "outputs": [],
   "source": [
    "newColNames = {\n",
    "    '[ID_Rash]_b.\\tWhich_of_the_following_statements_best_describes_the_rashes_that_occurred_on_your_body?_Check_all_that_apply.__[Reddish-purple_discoloration,_not_raised,_with_the_appearance_of_a_web]':'Rash_Reddish_Purple_Web',\n",
    "    'ID_Rash_other':'Rash_Other', \n",
    "    'ID_Rash_Other_text':'Rash_Other_Text', \n",
    "    'Ps_Dx':'Psoriasis_Diagnosis', \n",
    "    'Ps_pre_arthritis':'Psoriasis_Pre_Arthritis',\n",
    "    '[Eye_Dx]':'Eye_Condition_Dx', \n",
    "    '[FS_Eye]':'FS_Eye_Condition_DX', \n",
    "    '[PinkEye_24':'PinkEye_0_24', \n",
    "    '[FS_PinkEye]':'FS_PinkEye', \n",
    "    'Eye_Dry_24':'Eye_Dry_0_24',\n",
    "    '[Eye_burn_itch_24]':'Eye_burn_itch_24', \n",
    "    'Eye_Blur_24':'Eye_Blur_24', \n",
    "    '[Eye_lightsens_24]':'Eye_lightsens_24',\n",
    "    'Eye_Sym_24p':'Eye_Sym_After_24', \n",
    "    'N_Eye_Sym_24p':'N_Eye_Sym_24p', \n",
    "    'Eye_Sym_24_IDK':'Eye_Sym_24_IDK', \n",
    "    'FS_Dry_Eye':'FS_Dry_Eye',\n",
    "    '[FS_Burn_Itch':'FS_Burn_Itch', \n",
    "    'FS_Blur':'FS_Blur', \n",
    "    'FS_LightSens':'FS_LightSens'\n",
    "    }\n",
    "data900.rename(columns=newColNames, inplace=True)"
   ]
  },
  {
   "cell_type": "code",
   "execution_count": 26,
   "metadata": {},
   "outputs": [
    {
     "data": {
      "text/plain": [
       "Index(['[M_Thr_Nk_Ns_24]_34.\\tDid_you_have_any_of_the_following_issues_with_your_mouththroatnecknose_region_during_the_first_24_months_after_initial_onset?_\\t_[Painful_swollen_and_tender_lymph_nodes_andor_saliva_glands_in_areas_around_the_face_andor_neck?]',\n",
       "       '[M_Thr_Nk_Ns_24]_34.\\tDid_you_have_any_of_the_following_issues_with_your_mouththroatnecknose_region_during_the_first_24_months_after_initial_onset?_\\t_[Painful_swollen_and_tender_lymph_nodes_in_areas_of_the_body_not_including_the_face_andor_neck?]',\n",
       "       'Sore_Throat_24', 'Swallow_24', 'Thirst_24', 'CSores_Mouth_24',\n",
       "       'Csores_Nose_24', 'No_M_Thr_Nk_Ns_24', 'M_Thr_Nk_Ns_24]_IDK',\n",
       "       '[FS_M_Thr_Nk_Ns.0]_Painful_swollen_and_tender_lymph_nodes_andor_saliva_glands_in_areas_around_the_face_andor_neck?_[First_symptom?]',\n",
       "       '[FS_M_Thr_Nk_Ns.1]_Painful_swollen_and_tender_lymph_nodes_in_areas_of_the_body_not_including_the_face_andor_neck?_[First_symptom?]',\n",
       "       'FS_Sore_Throat', 'FS_Swallow', 'FS_Thirst', 'FS_Csores_Mouth',\n",
       "       'FS_Csores_Nose', 'Dental_Cavities_24', 'Dental_Gingivitis_24',\n",
       "       'Dental_Breaking_teeth_24', 'Dental_Thrush_24'],\n",
       "      dtype='object')"
      ]
     },
     "execution_count": 26,
     "metadata": {},
     "output_type": "execute_result"
    }
   ],
   "source": [
    "data900.columns[380:400]"
   ]
  },
  {
   "cell_type": "code",
   "execution_count": 27,
   "metadata": {},
   "outputs": [],
   "source": [
    "newColNames = {\n",
    "    '[M_Thr_Nk_Ns_24]_34.\\tDid_you_have_any_of_the_following_issues_with_your_mouththroatnecknose_region_during_the_first_24_months_after_initial_onset?_\\t_[Painful_swollen_and_tender_lymph_nodes_andor_saliva_glands_in_areas_around_the_face_andor_neck?]':'mouththroatnecknose_Painful_swollen_face_neck',\n",
    "    '[M_Thr_Nk_Ns_24]_34.\\tDid_you_have_any_of_the_following_issues_with_your_mouththroatnecknose_region_during_the_first_24_months_after_initial_onset?_\\t_[Painful_swollen_and_tender_lymph_nodes_in_areas_of_the_body_not_including_the_face_andor_neck?]':'mouththroatnecknose_Painful_swollen_Not_face_neck',\n",
    "    'Sore_Throat_24':'Sore_Throat_0_24', \n",
    "    'Swallow_24':'Swallow_0_24', \n",
    "    'Thirst_24':'Thirst_0_24', \n",
    "    'CSores_Mouth_24':'CSores_Mouth_0_24',\n",
    "    'Csores_Nose_24':'Csores_Nose_0_24', \n",
    "    'No_M_Thr_Nk_Ns_24':'No_M_Thr_Nk_Ns_0_24', \n",
    "    'M_Thr_Nk_Ns_24]_IDK':'M_Thr_Nk_Ns_0_24_IDK',\n",
    "    '[FS_M_Thr_Nk_Ns.0]_Painful_swollen_and_tender_lymph_nodes_andor_saliva_glands_in_areas_around_the_face_andor_neck?_[First_symptom?]':'FS_mouththroatnecknose_Painful_swollen_face_neck',\n",
    "    '[FS_M_Thr_Nk_Ns.1]_Painful_swollen_and_tender_lymph_nodes_in_areas_of_the_body_not_including_the_face_andor_neck?_[First_symptom?]':'FS_mouththroatnecknose_Painful_swollen_Not_face_neck',\n",
    "    'FS_Sore_Throat':'FS_Sore_Throat', \n",
    "    'FS_Swallow':'FS_Swallow', \n",
    "    'FS_Thirst':'FS_Thirst', \n",
    "    'FS_Csores_Mouth':'FS_Csores_Mouth',\n",
    "    'FS_Csores_Nose':'FS_Csores_Nose', \n",
    "    'Dental_Cavities_24':'Dental_Cavities_0_24', \n",
    "    'Dental_Gingivitis_24':'Dental_Gingivitis_0_24',\n",
    "    'Dental_Breaking_teeth_24':'Dental_Breaking_teeth_0_24', \n",
    "    'Dental_Thrush_24':'Dental_Thrush_0_24'\n",
    "    }\n",
    "data900.rename(columns=newColNames, inplace=True)"
   ]
  },
  {
   "cell_type": "code",
   "execution_count": 28,
   "metadata": {},
   "outputs": [
    {
     "data": {
      "text/plain": [
       "Index(['Dental_24_Other', 'Dental_24_Other_text', 'N_Dental_24',\n",
       "       'Dental_24_IDK', 'FS_cavities', 'FS_Gingivitis', 'FS__Breaking_teeth',\n",
       "       'FS_thrush', 'Nodules_0_12', 'ID_Nodules_Arms', 'ID_Nodules_Elb',\n",
       "       'ID_Nodules_hands', 'ID_Nodules_wrists', 'ID_Nodules_other',\n",
       "       'ID_Nodules_othertext', 'FS_Nodules', 'Numb_24?', 'FS_Numb',\n",
       "       'Nail_Change_24', 'FS_Nail_Change'],\n",
       "      dtype='object')"
      ]
     },
     "execution_count": 28,
     "metadata": {},
     "output_type": "execute_result"
    }
   ],
   "source": [
    "data900.columns[400:420]"
   ]
  },
  {
   "cell_type": "code",
   "execution_count": 29,
   "metadata": {},
   "outputs": [],
   "source": [
    "newColNames = {\n",
    "    'Dental_24_Other':'Dental_0_24_Other', \n",
    "    'Dental_24_Other_text':'Dental_0_24_Other_text', \n",
    "    'N_Dental_24':'N_Dental_0_24',\n",
    "    'Dental_24_IDK':'Dental_0_24_IDK', \n",
    "    'FS_cavities':'FS_cavities', \n",
    "    'FS_Gingivitis':'FS_Gingivitis', \n",
    "    'FS__Breaking_teeth':'FS__Breaking_teeth',\n",
    "    'FS_thrush':'FS_thrush', \n",
    "    'Nodules_0_12':'Nodules_0_12', \n",
    "    'ID_Nodules_Arms':'ID_Nodules_Arms', \n",
    "    'ID_Nodules_Elb':'ID_Nodules_Elb',\n",
    "    'ID_Nodules_hands':'ID_Nodules_hands', \n",
    "    'ID_Nodules_wrists':'ID_Nodules_wrists', \n",
    "    'ID_Nodules_other':'ID_Nodules_other',\n",
    "    'ID_Nodules_othertext':'ID_Nodules_othertext', \n",
    "    'FS_Nodules':'FS_Nodules', \n",
    "    'Numb_24?':'Numb_0_24', \n",
    "    'FS_Numb':'FS_Numb',\n",
    "    'Nail_Change_24':'Nail_Change_0_24', \n",
    "    'FS_Nail_Change':'FS_Nail_Change'\n",
    "    }\n",
    "data900.rename(columns=newColNames, inplace=True)"
   ]
  },
  {
   "cell_type": "code",
   "execution_count": 30,
   "metadata": {},
   "outputs": [
    {
     "data": {
      "text/plain": [
       "Index(['Nailbed_separation', 'Pitted_nails', 'Nail_fungus', 'Nail_other',\n",
       "       'Nail_other_text', 'Raynauds_24', 'FS_Raynauds', 'Hepatomegaly',\n",
       "       'FS_Hepatomegaly', 'Splenomegaly', 'FS_Splenomegaly', 'Anemic_Dx',\n",
       "       '[rheu]_1.__Rheumatoid_Arthritis_Is_there_any_other_symptom_not_mentioned_in_this_study_that_you_feel_was_a_part_of_your_Rheumatoid_Arthritis_in_the_first_0_to_<_24_months_from_onset?',\n",
       "       '[psor]_2._Psoriatic_Arthritis_Is_there_any_other_symptom_not_mentioned_in_this_study_that_you_feel_was_a_part_of_your_Psoriatic_Arthritis_in_the_first_0_to_<_24_months_from_onset?',\n",
       "       '[sys]_3._Systemic_Lupus_Erythematosus_ _At_any_time_prior_to_or_at_the_time_of_diagnosis_did_your_blood_test_positive_for_antinuclear_antibodies_ANA?',\n",
       "       '[sys_1]_Is_there_any_other_symptom_not_mentioned_in_this_study_that_you_feel_was_a_part_of_your_Systemic_Lupus_Erythematosus_disease_in_the_first_0_to_<24_months_from_onset?',\n",
       "       '[sjo]_4.__Sjögren’s_Syndrome_Is_there_any_other_symptom_not_mentioned_in_this_study_that_you_feel_was_a_part_of_your_Sjögren’s_Syndrome_in_the_first_0_to_<_24_months_from_onset?',\n",
       "       '[still]_5._Adult_Onset_Still’s_Disease_Were_you_ever_diagnosed_with_acute_respiratory_distress_syndrome_ARDS_or_chronic_restrictive_lung_disease_prior_to_or_during_the_first_24_months_after_onset_of_your_disease?_[Yes,_was_diagnosed_with_acute_respiratory_distress_syndrome_ARDS_prior_to_initial_onset_of_my_symptoms]',\n",
       "       '[still]_5._Adult_Onset_Still’s_Disease_Were_you_ever_diagnosed_with_acute_respiratory_distress_syndrome_ARDS_or_chronic_restrictive_lung_disease_prior_to_or_during_the_first_24_months_after_onset_of_your_disease?_[Yes,_was_diagnosed_with_acute_respiratory_distress_syndrome_ARDS_between_0_and_<_24_months_from_initial_onset_of_my_symptoms]',\n",
       "       '[still]_5._Adult_Onset_Still’s_Disease_Were_you_ever_diagnosed_with_acute_respiratory_distress_syndrome_ARDS_or_chronic_restrictive_lung_disease_prior_to_or_during_the_first_24_months_after_onset_of_your_disease?_[Yes,_was_diagnosed_with_chronic_restrictive_lung_disease_prior_to_initial_onset_of_my_symptoms]'],\n",
       "      dtype='object')"
      ]
     },
     "execution_count": 30,
     "metadata": {},
     "output_type": "execute_result"
    }
   ],
   "source": [
    "data900.columns[420:440]"
   ]
  },
  {
   "cell_type": "code",
   "execution_count": 31,
   "metadata": {},
   "outputs": [],
   "source": [
    "newColNames = {\n",
    "    'Nailbed_separation':'Nailbed_separation', \n",
    "    'Pitted_nails':'Pitted_nails', \n",
    "    'Nail_fungus':'Nail_fungus', \n",
    "    'Nail_other':'Nail_other',\n",
    "    'Nail_other_text':'Nail_other_text', \n",
    "    'Raynauds_24':'Raynauds_0_24', \n",
    "    'FS_Raynauds':'FS_Raynauds', \n",
    "    'Hepatomegaly':'Hepatomegaly',\n",
    "    'FS_Hepatomegaly':'FS_Hepatomegaly', \n",
    "    'Splenomegaly':'Splenomegaly', \n",
    "    'FS_Splenomegaly':'FS_Splenomegaly', \n",
    "    'Anemic_Dx':'Anemic_Dx',\n",
    "    '[rheu]_1.__Rheumatoid_Arthritis_Is_there_any_other_symptom_not_mentioned_in_this_study_that_you_feel_was_a_part_of_your_Rheumatoid_Arthritis_in_the_first_0_to_<_24_months_from_onset?':'RA_other_symptoms_0_24',\n",
    "    '[psor]_2._Psoriatic_Arthritis_Is_there_any_other_symptom_not_mentioned_in_this_study_that_you_feel_was_a_part_of_your_Psoriatic_Arthritis_in_the_first_0_to_<_24_months_from_onset?':'Psoriatic_Other_Symptoms_0_24',\n",
    "    '[sys]_3._Systemic_Lupus_Erythematosus_ _At_any_time_prior_to_or_at_the_time_of_diagnosis_did_your_blood_test_positive_for_antinuclear_antibodies_ANA?':'Sys_L_pos_4_ANA',\n",
    "    '[sys_1]_Is_there_any_other_symptom_not_mentioned_in_this_study_that_you_feel_was_a_part_of_your_Systemic_Lupus_Erythematosus_disease_in_the_first_0_to_<24_months_from_onset?':'Sys_L_Other_Symptoms_0_24',\n",
    "    '[sjo]_4.__Sjögren’s_Syndrome_Is_there_any_other_symptom_not_mentioned_in_this_study_that_you_feel_was_a_part_of_your_Sjögren’s_Syndrome_in_the_first_0_to_<_24_months_from_onset?':'SJO_S_Other_Symptoms_0_24',\n",
    "    '[still]_5._Adult_Onset_Still’s_Disease_Were_you_ever_diagnosed_with_acute_respiratory_distress_syndrome_ARDS_or_chronic_restrictive_lung_disease_prior_to_or_during_the_first_24_months_after_onset_of_your_disease?_[Yes,_was_diagnosed_with_acute_respiratory_distress_syndrome_ARDS_prior_to_initial_onset_of_my_symptoms]':'Still_DX_ARDS_Prior_Onset',\n",
    "    '[still]_5._Adult_Onset_Still’s_Disease_Were_you_ever_diagnosed_with_acute_respiratory_distress_syndrome_ARDS_or_chronic_restrictive_lung_disease_prior_to_or_during_the_first_24_months_after_onset_of_your_disease?_[Yes,_was_diagnosed_with_acute_respiratory_distress_syndrome_ARDS_between_0_and_<_24_months_from_initial_onset_of_my_symptoms]':'Still_DX_ARDS_0_24',\n",
    "    '[still]_5._Adult_Onset_Still’s_Disease_Were_you_ever_diagnosed_with_acute_respiratory_distress_syndrome_ARDS_or_chronic_restrictive_lung_disease_prior_to_or_during_the_first_24_months_after_onset_of_your_disease?_[Yes,_was_diagnosed_with_chronic_restrictive_lung_disease_prior_to_initial_onset_of_my_symptoms]':'Still_DX_Chronic_Lung_Prior_Onset'\n",
    "    }\n",
    "data900.rename(columns=newColNames, inplace=True)"
   ]
  },
  {
   "cell_type": "code",
   "execution_count": 32,
   "metadata": {},
   "outputs": [
    {
     "data": {
      "text/plain": [
       "Index(['[still]_5._Adult_Onset_Still’s_Disease_Were_you_ever_diagnosed_with_acute_respiratory_distress_syndrome_ARDS_or_chronic_restrictive_lung_disease_prior_to_or_during_the_first_24_months_after_onset_of_your_disease?_[Yes,_was_diagnosed_with_chronic_restrictive_lung_disease_between_0_and_<_24_months_from_initial_onset_of_my_symptoms]',\n",
       "       '[still]_5._Adult_Onset_Still’s_Disease_Were_you_ever_diagnosed_with_acute_respiratory_distress_syndrome_ARDS_or_chronic_restrictive_lung_disease_prior_to_or_during_the_first_24_months_after_onset_of_your_disease?_[I_was_diagnosed_with_acute_respiratory_distress_syndrome_ARDS_but_only_sometime_after_the_first_24_months_after_onset]',\n",
       "       '[still]_5._Adult_Onset_Still’s_Disease_Were_you_ever_diagnosed_with_acute_respiratory_distress_syndrome_ARDS_or_chronic_restrictive_lung_disease_prior_to_or_during_the_first_24_months_after_onset_of_your_disease?_[I_was_diagnosed_with_chronic_restrictive_lung_disease_but_only_sometime_after_the_first_24_months_after_onset]',\n",
       "       '[still]_5._Adult_Onset_Still’s_Disease_Were_you_ever_diagnosed_with_acute_respiratory_distress_syndrome_ARDS_or_chronic_restrictive_lung_disease_prior_to_or_during_the_first_24_months_after_onset_of_your_disease?_[I_do_not_remember]',\n",
       "       '[aosd.0]_Acute_respiratory_distress_syndrome_ARDS_[First_symptom?]',\n",
       "       '[aosd.1]_chronic_restrictive_lung_disease_[First_symptom?]',\n",
       "       '[still_1]_Is_there_any_other_symptom_not_mentioned_in_this_study_that_you_feel_was_a_part_of_your_Adult_Onset_Still’s_Disease_in_the_first_0_to_<24_months_from_onset?',\n",
       "       '[ank]_6.__Ankylosing_Spondylitis_At_any_time_prior_to_or_at_the_time_of,_or_after_diagnosis_did_your_blood_test_positive_for_the_HLA-B27_gene?',\n",
       "       '[ank_1]_Is_there_any_other_symptom_not_mentioned_in_this_study_that_you_feel_was_a_part_of_your_Ankylosing_Spondylitis_in_the_first_0_to_<24_months_from_onset?'],\n",
       "      dtype='object')"
      ]
     },
     "execution_count": 32,
     "metadata": {},
     "output_type": "execute_result"
    }
   ],
   "source": [
    "data900.columns[440:460]"
   ]
  },
  {
   "cell_type": "code",
   "execution_count": 33,
   "metadata": {},
   "outputs": [],
   "source": [
    "newColNames = {\n",
    "    '[still]_5._Adult_Onset_Still’s_Disease_Were_you_ever_diagnosed_with_acute_respiratory_distress_syndrome_ARDS_or_chronic_restrictive_lung_disease_prior_to_or_during_the_first_24_months_after_onset_of_your_disease?_[Yes,_was_diagnosed_with_chronic_restrictive_lung_disease_between_0_and_<_24_months_from_initial_onset_of_my_symptoms]':'Still_DX_Chronic_Lung_0_24',\n",
    "       '[still]_5._Adult_Onset_Still’s_Disease_Were_you_ever_diagnosed_with_acute_respiratory_distress_syndrome_ARDS_or_chronic_restrictive_lung_disease_prior_to_or_during_the_first_24_months_after_onset_of_your_disease?_[I_was_diagnosed_with_acute_respiratory_distress_syndrome_ARDS_but_only_sometime_after_the_first_24_months_after_onset]':'Still_DX_ARDS_Post_24',\n",
    "       '[still]_5._Adult_Onset_Still’s_Disease_Were_you_ever_diagnosed_with_acute_respiratory_distress_syndrome_ARDS_or_chronic_restrictive_lung_disease_prior_to_or_during_the_first_24_months_after_onset_of_your_disease?_[I_was_diagnosed_with_chronic_restrictive_lung_disease_but_only_sometime_after_the_first_24_months_after_onset]':'Still_DX_Chronic_Lung_Post_24',\n",
    "       '[still]_5._Adult_Onset_Still’s_Disease_Were_you_ever_diagnosed_with_acute_respiratory_distress_syndrome_ARDS_or_chronic_restrictive_lung_disease_prior_to_or_during_the_first_24_months_after_onset_of_your_disease?_[I_do_not_remember]':'Stills_DX_Dont_Remember_ARDS_ChronicLung',\n",
    "       '[aosd.0]_Acute_respiratory_distress_syndrome_ARDS_[First_symptom?]':'Stills_DX_ARDS_FS',\n",
    "       '[aosd.1]_chronic_restrictive_lung_disease_[First_symptom?]':'Stills_DX_Chronic_Lung_FS',\n",
    "       '[still_1]_Is_there_any_other_symptom_not_mentioned_in_this_study_that_you_feel_was_a_part_of_your_Adult_Onset_Still’s_Disease_in_the_first_0_to_<24_months_from_onset?':'Stills_DX_Other_Symptoms_0_24',\n",
    "       '[ank]_6.__Ankylosing_Spondylitis_At_any_time_prior_to_or_at_the_time_of,_or_after_diagnosis_did_your_blood_test_positive_for_the_HLA-B27_gene?':'Ank_DX_Pos_Test_HLAB27_Gene',\n",
    "       '[ank_1]_Is_there_any_other_symptom_not_mentioned_in_this_study_that_you_feel_was_a_part_of_your_Ankylosing_Spondylitis_in_the_first_0_to_<24_months_from_onset?':'Ank_DX_Other_Symptoms_0_24'\n",
    "}\n",
    "data900.rename(columns=newColNames, inplace=True)"
   ]
  },
  {
   "cell_type": "code",
   "execution_count": null,
   "metadata": {},
   "outputs": [],
   "source": []
  },
  {
   "cell_type": "code",
   "execution_count": null,
   "metadata": {},
   "outputs": [],
   "source": []
  }
 ],
 "metadata": {
  "kernelspec": {
   "display_name": "Python 3",
   "language": "python",
   "name": "python3"
  },
  "language_info": {
   "codemirror_mode": {
    "name": "ipython",
    "version": 3
   },
   "file_extension": ".py",
   "mimetype": "text/x-python",
   "name": "python",
   "nbconvert_exporter": "python",
   "pygments_lexer": "ipython3",
   "version": "3.7.4"
  }
 },
 "nbformat": 4,
 "nbformat_minor": 2
}
