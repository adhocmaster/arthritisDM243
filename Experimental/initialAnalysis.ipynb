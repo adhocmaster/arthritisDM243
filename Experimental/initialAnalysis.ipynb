{
 "cells": [
  {
   "cell_type": "code",
   "execution_count": 5,
   "metadata": {},
   "outputs": [],
   "source": [
    "import numpy as np\n",
    "import pandas as pd\n"
   ]
  },
  {
   "cell_type": "code",
   "execution_count": 6,
   "metadata": {},
   "outputs": [],
   "source": [
    "sources = {\n",
    "    '900': '../publishable_data/10.25.14 us and uk 900 columns.xlsx',\n",
    "    'fluid': '../data/Fluid Surveys Results 763 USA and UK.xlsx',\n",
    "    'full': '../data/Full responses 070214 691.xlsx'\n",
    "}"
   ]
  },
  {
   "cell_type": "code",
   "execution_count": 7,
   "metadata": {},
   "outputs": [],
   "source": [
    "data900 = pd.read_excel( sources['900'] )\n",
    "data900.columns = data900.columns.str.strip().str.replace(' ', '_').str.replace('/', '').str.replace('(', '').str.replace(')', '')"
   ]
  },
  {
   "cell_type": "code",
   "execution_count": 8,
   "metadata": {},
   "outputs": [
    {
     "data": {
      "text/html": [
       "<div>\n",
       "<style scoped>\n",
       "    .dataframe tbody tr th:only-of-type {\n",
       "        vertical-align: middle;\n",
       "    }\n",
       "\n",
       "    .dataframe tbody tr th {\n",
       "        vertical-align: top;\n",
       "    }\n",
       "\n",
       "    .dataframe thead th {\n",
       "        text-align: right;\n",
       "    }\n",
       "</style>\n",
       "<table border=\"1\" class=\"dataframe\">\n",
       "  <thead>\n",
       "    <tr style=\"text-align: right;\">\n",
       "      <th></th>\n",
       "      <th>[Gender]</th>\n",
       "      <th>BirthdateYear_xxxx</th>\n",
       "      <th>[Country]</th>\n",
       "      <th>[Onset_Age]</th>\n",
       "      <th>1st_dx_yr</th>\n",
       "      <th>[Initial_Dx]</th>\n",
       "      <th>[Dx_Change]</th>\n",
       "      <th>[New_Dx]</th>\n",
       "      <th>[New_Dx]_If_you_answered_“yes”,_what_is_your_new_diagnosis_and_what_year_was_your_diagnosis_changed?_[other]</th>\n",
       "      <th>[Dx]_Diagnosis_Chosen</th>\n",
       "      <th>...</th>\n",
       "      <th>[still]_5._Adult_Onset_Still’s_Disease_Were_you_ever_diagnosed_with_acute_respiratory_distress_syndrome_ARDS_or_chronic_restrictive_lung_disease_prior_to_or_during_the_first_24_months_after_onset_of_your_disease?_[Yes,_was_diagnosed_with_chronic_restrictive_lung_disease_prior_to_initial_onset_of_my_symptoms]</th>\n",
       "      <th>[still]_5._Adult_Onset_Still’s_Disease_Were_you_ever_diagnosed_with_acute_respiratory_distress_syndrome_ARDS_or_chronic_restrictive_lung_disease_prior_to_or_during_the_first_24_months_after_onset_of_your_disease?_[Yes,_was_diagnosed_with_chronic_restrictive_lung_disease_between_0_and_&lt;_24_months_from_initial_onset_of_my_symptoms]</th>\n",
       "      <th>[still]_5._Adult_Onset_Still’s_Disease_Were_you_ever_diagnosed_with_acute_respiratory_distress_syndrome_ARDS_or_chronic_restrictive_lung_disease_prior_to_or_during_the_first_24_months_after_onset_of_your_disease?_[I_was_diagnosed_with_acute_respiratory_distress_syndrome_ARDS_but_only_sometime_after_the_first_24_months_after_onset]</th>\n",
       "      <th>[still]_5._Adult_Onset_Still’s_Disease_Were_you_ever_diagnosed_with_acute_respiratory_distress_syndrome_ARDS_or_chronic_restrictive_lung_disease_prior_to_or_during_the_first_24_months_after_onset_of_your_disease?_[I_was_diagnosed_with_chronic_restrictive_lung_disease_but_only_sometime_after_the_first_24_months_after_onset]</th>\n",
       "      <th>[still]_5._Adult_Onset_Still’s_Disease_Were_you_ever_diagnosed_with_acute_respiratory_distress_syndrome_ARDS_or_chronic_restrictive_lung_disease_prior_to_or_during_the_first_24_months_after_onset_of_your_disease?_[I_do_not_remember]</th>\n",
       "      <th>[aosd.0]_Acute_respiratory_distress_syndrome_ARDS_[First_symptom?]</th>\n",
       "      <th>[aosd.1]_chronic_restrictive_lung_disease_[First_symptom?]</th>\n",
       "      <th>[still_1]_Is_there_any_other_symptom_not_mentioned_in_this_study_that_you_feel_was_a_part_of_your_Adult_Onset_Still’s_Disease_in_the_first_0_to_&lt;24_months_from_onset?</th>\n",
       "      <th>[ank]_6.__Ankylosing_Spondylitis_At_any_time_prior_to_or_at_the_time_of,_or_after_diagnosis_did_your_blood_test_positive_for_the_HLA-B27_gene?</th>\n",
       "      <th>[ank_1]_Is_there_any_other_symptom_not_mentioned_in_this_study_that_you_feel_was_a_part_of_your_Ankylosing_Spondylitis_in_the_first_0_to_&lt;24_months_from_onset?</th>\n",
       "    </tr>\n",
       "  </thead>\n",
       "  <tbody>\n",
       "    <tr>\n",
       "      <th>0</th>\n",
       "      <td>Female</td>\n",
       "      <td>1959</td>\n",
       "      <td>United States of America</td>\n",
       "      <td>20</td>\n",
       "      <td>2002</td>\n",
       "      <td>Ankylosing Spondylitis</td>\n",
       "      <td>No</td>\n",
       "      <td>NaN</td>\n",
       "      <td>NaN</td>\n",
       "      <td>ankylosing</td>\n",
       "      <td>...</td>\n",
       "      <td>NaN</td>\n",
       "      <td>NaN</td>\n",
       "      <td>NaN</td>\n",
       "      <td>NaN</td>\n",
       "      <td>NaN</td>\n",
       "      <td>NaN</td>\n",
       "      <td>NaN</td>\n",
       "      <td>NaN</td>\n",
       "      <td>No</td>\n",
       "      <td>NaN</td>\n",
       "    </tr>\n",
       "  </tbody>\n",
       "</table>\n",
       "<p>1 rows × 449 columns</p>\n",
       "</div>"
      ],
      "text/plain": [
       "  [Gender]  BirthdateYear_xxxx                 [Country]  [Onset_Age]  \\\n",
       "0   Female                1959  United States of America           20   \n",
       "\n",
       "   1st_dx_yr            [Initial_Dx] [Dx_Change]  [New_Dx]  \\\n",
       "0       2002  Ankylosing Spondylitis          No       NaN   \n",
       "\n",
       "   [New_Dx]_If_you_answered_“yes”,_what_is_your_new_diagnosis_and_what_year_was_your_diagnosis_changed?_[other]  \\\n",
       "0                                                NaN                                                              \n",
       "\n",
       "  [Dx]_Diagnosis_Chosen  \\\n",
       "0            ankylosing   \n",
       "\n",
       "                                                                                ...                                                                                 \\\n",
       "0                                                                               ...                                                                                  \n",
       "\n",
       "  [still]_5._Adult_Onset_Still’s_Disease_Were_you_ever_diagnosed_with_acute_respiratory_distress_syndrome_ARDS_or_chronic_restrictive_lung_disease_prior_to_or_during_the_first_24_months_after_onset_of_your_disease?_[Yes,_was_diagnosed_with_chronic_restrictive_lung_disease_prior_to_initial_onset_of_my_symptoms]  \\\n",
       "0                                                NaN                                                                                                                                                                                                                                                                      \n",
       "\n",
       "   [still]_5._Adult_Onset_Still’s_Disease_Were_you_ever_diagnosed_with_acute_respiratory_distress_syndrome_ARDS_or_chronic_restrictive_lung_disease_prior_to_or_during_the_first_24_months_after_onset_of_your_disease?_[Yes,_was_diagnosed_with_chronic_restrictive_lung_disease_between_0_and_<_24_months_from_initial_onset_of_my_symptoms]  \\\n",
       "0                                                NaN                                                                                                                                                                                                                                                                                             \n",
       "\n",
       "  [still]_5._Adult_Onset_Still’s_Disease_Were_you_ever_diagnosed_with_acute_respiratory_distress_syndrome_ARDS_or_chronic_restrictive_lung_disease_prior_to_or_during_the_first_24_months_after_onset_of_your_disease?_[I_was_diagnosed_with_acute_respiratory_distress_syndrome_ARDS_but_only_sometime_after_the_first_24_months_after_onset]  \\\n",
       "0                                                NaN                                                                                                                                                                                                                                                                                             \n",
       "\n",
       "   [still]_5._Adult_Onset_Still’s_Disease_Were_you_ever_diagnosed_with_acute_respiratory_distress_syndrome_ARDS_or_chronic_restrictive_lung_disease_prior_to_or_during_the_first_24_months_after_onset_of_your_disease?_[I_was_diagnosed_with_chronic_restrictive_lung_disease_but_only_sometime_after_the_first_24_months_after_onset]  \\\n",
       "0                                                NaN                                                                                                                                                                                                                                                                                      \n",
       "\n",
       "   [still]_5._Adult_Onset_Still’s_Disease_Were_you_ever_diagnosed_with_acute_respiratory_distress_syndrome_ARDS_or_chronic_restrictive_lung_disease_prior_to_or_during_the_first_24_months_after_onset_of_your_disease?_[I_do_not_remember]  \\\n",
       "0                                                NaN                                                                                                                                                                                          \n",
       "\n",
       "   [aosd.0]_Acute_respiratory_distress_syndrome_ARDS_[First_symptom?]  \\\n",
       "0                                                NaN                    \n",
       "\n",
       "   [aosd.1]_chronic_restrictive_lung_disease_[First_symptom?]  \\\n",
       "0                                                NaN            \n",
       "\n",
       "   [still_1]_Is_there_any_other_symptom_not_mentioned_in_this_study_that_you_feel_was_a_part_of_your_Adult_Onset_Still’s_Disease_in_the_first_0_to_<24_months_from_onset?  \\\n",
       "0                                                NaN                                                                                                                        \n",
       "\n",
       "   [ank]_6.__Ankylosing_Spondylitis_At_any_time_prior_to_or_at_the_time_of,_or_after_diagnosis_did_your_blood_test_positive_for_the_HLA-B27_gene?  \\\n",
       "0                                                 No                                                                                                \n",
       "\n",
       "   [ank_1]_Is_there_any_other_symptom_not_mentioned_in_this_study_that_you_feel_was_a_part_of_your_Ankylosing_Spondylitis_in_the_first_0_to_<24_months_from_onset?  \n",
       "0                                                NaN                                                                                                                \n",
       "\n",
       "[1 rows x 449 columns]"
      ]
     },
     "metadata": {},
     "output_type": "display_data"
    }
   ],
   "source": [
    "display( data900 )"
   ]
  },
  {
   "cell_type": "code",
   "execution_count": 23,
   "metadata": {},
   "outputs": [
    {
     "data": {
      "text/plain": [
       "Index(['Gender', 'BirthdateYear_xxxx', 'Country', 'Onset_Age', '1st_dx_yr',\n",
       "       'Initial_Dx', 'Dx_Change', 'New_Dx', 'New_Dx_Year', 'Dx_Chosen',\n",
       "       'Dr_Dx', 'Dr_Dx_other', 'Prior_AD', 'Prior_AD_Hep', 'Prior_AD_Beh',\n",
       "       'Prior_AD_Cel', 'Prior_AD_Cro', 'Prior_AD_Dis', 'Prior_AD_End',\n",
       "       'Prior_AD_Eva'],\n",
       "      dtype='object')"
      ]
     },
     "execution_count": 23,
     "metadata": {},
     "output_type": "execute_result"
    }
   ],
   "source": [
    "data900.columns[0:20]"
   ]
  },
  {
   "cell_type": "code",
   "execution_count": 22,
   "metadata": {},
   "outputs": [],
   "source": [
    "newColNames = {\n",
    "    '[Gender]': 'Gender',\n",
    "    'BirthdateYear (xxxx)': 'B_Year',\n",
    "    '[Country]': 'Country',\n",
    "    '[Onset_Age]': 'Onset_Age',\n",
    "    '[Initial_Dx]': 'Initial_Dx',\n",
    "    '[Dx_Change]': 'Dx_Change',\n",
    "    '[New_Dx]': 'New_Dx',\n",
    "    '[New_Dx]_If_you_answered_“yes”,_what_is_your_new_diagnosis_and_what_year_was_your_diagnosis_changed?_[other]': 'New_Dx_Year',\n",
    "    '[Dx]_Diagnosis_Chosen': 'Dx_Chosen',\n",
    "    '[Dr_Dx]': 'Dr_Dx', '[Dr_Dx_other]': 'Dr_Dx_other', \n",
    "      \n",
    "}\n",
    "data900.rename(columns=newColNames, inplace=True)"
   ]
  },
  {
   "cell_type": "code",
   "execution_count": 13,
   "metadata": {},
   "outputs": [],
   "source": [
    "newColNames = {\n",
    "    \n",
    "    '[Prior_AD]': 'Prior_AD',\n",
    "    '[Prior_ADs]_Prior_to_my_firstoriginal_diagnosis_of_an_Autoimmune_Arthritis_disease,_I_was_diagnosed_with:__[Autoimmune_Hepatitis]': 'Prior_AD_Hep',\n",
    "    '[Prior_ADs]_Prior_to_my_firstoriginal_diagnosis_of_an_Autoimmune_Arthritis_disease,_I_was_diagnosed_with:__[Behcet’s_disease]': 'Prior_AD_Beh',\n",
    "    '[Prior_ADs]_Prior_to_my_firstoriginal_diagnosis_of_an_Autoimmune_Arthritis_disease,_I_was_diagnosed_with:_[Celiac_disease]': 'Prior_AD_Cel',\n",
    "    '[Prior_ADs]_Prior_to_my_firstoriginal_diagnosis_of_an_Autoimmune_Arthritis_disease,_I_was_diagnosed_with:_[Crohn’s_disease]': 'Prior_AD_Cro',\n",
    "    '[Prior_ADs]_Prior_to_my_firstoriginal_diagnosis_of_an_Autoimmune_Arthritis_disease,_I_was_diagnosed_with:_[Discoid_lupus]': 'Prior_AD_Dis',\n",
    "    '[Prior_ADs]_Prior_to_my_firstoriginal_diagnosis_of_an_Autoimmune_Arthritis_disease,_I_was_diagnosed_with:_[Endometriosis]': 'Prior_AD_End',\n",
    "    '[Prior_ADs]_Prior_to_my_firstoriginal_diagnosis_of_an_Autoimmune_Arthritis_disease,_I_was_diagnosed_with:_[Evans_syndrome]': 'Prior_AD_Eva'\n",
    "}\n",
    "data900.rename(columns=newColNames, inplace=True)"
   ]
  },
  {
   "cell_type": "code",
   "execution_count": 24,
   "metadata": {},
   "outputs": [
    {
     "data": {
      "text/plain": [
       "Index(['[Prior_ADs]_Prior_to_my_firstoriginal_diagnosis_of_an_Autoimmune_Arthritis_disease,_I_was_diagnosed_with:_[Graves’_disease]',\n",
       "       '[Prior_ADs]_Prior_to_my_firstoriginal_diagnosis_of_an_Autoimmune_Arthritis_disease,_I_was_diagnosed_with:_[Hashimoto’s_thyroiditis]',\n",
       "       '[Prior_ADs]_Prior_to_my_firstoriginal_diagnosis_of_an_Autoimmune_Arthritis_disease,_I_was_diagnosed_with:_[Hughes_Syndrome]',\n",
       "       '[Prior_ADs]_Prior_to_my_firstoriginal_diagnosis_of_an_Autoimmune_Arthritis_disease,_I_was_diagnosed_with:_[Interstitial_cystitis]',\n",
       "       '[Prior_ADs]_Prior_to_my_firstoriginal_diagnosis_of_an_Autoimmune_Arthritis_disease,_I_was_diagnosed_with:_[Lyme_disease,_chronic]',\n",
       "       '[Prior_ADs]_Prior_to_my_firstoriginal_diagnosis_of_an_Autoimmune_Arthritis_disease,_I_was_diagnosed_with:_[Multiple_sclerosis]',\n",
       "       '[Prior_ADs]_Prior_to_my_firstoriginal_diagnosis_of_an_Autoimmune_Arthritis_disease,_I_was_diagnosed_with:_[Myocarditis]',\n",
       "       '[Prior_ADs]_Prior_to_my_firstoriginal_diagnosis_of_an_Autoimmune_Arthritis_disease,_I_was_diagnosed_with:_[MyositisPolymyositis]',\n",
       "       '[Prior_ADs]_Prior_to_my_firstoriginal_diagnosis_of_an_Autoimmune_Arthritis_disease,_I_was_diagnosed_with:_[Peripheral_neuropathy]',\n",
       "       '[Prior_ADs]_Prior_to_my_firstoriginal_diagnosis_of_an_Autoimmune_Arthritis_disease,_I_was_diagnosed_with:_[Polymyalgia_rheumatica]',\n",
       "       '[Prior_ADs]_Prior_to_my_firstoriginal_diagnosis_of_an_Autoimmune_Arthritis_disease,_I_was_diagnosed_with:_[Reactive_ArthritisReiter’s_Syndrome]',\n",
       "       '[Prior_ADs]_Prior_to_my_firstoriginal_diagnosis_of_an_Autoimmune_Arthritis_disease,_I_was_diagnosed_with:_[Sarcoidosis]',\n",
       "       '[Prior_ADs]_Prior_to_my_firstoriginal_diagnosis_of_an_Autoimmune_Arthritis_disease,_I_was_diagnosed_with:_[Scleritis]',\n",
       "       '[Prior_ADs]_Prior_to_my_firstoriginal_diagnosis_of_an_Autoimmune_Arthritis_disease,_I_was_diagnosed_with:_[Scleroderma]',\n",
       "       '[Prior_ADs]_Prior_to_my_firstoriginal_diagnosis_of_an_Autoimmune_Arthritis_disease,_I_was_diagnosed_with:_[Thyroid_Disease]',\n",
       "       '[Prior_ADs]_Prior_to_my_firstoriginal_diagnosis_of_an_Autoimmune_Arthritis_disease,_I_was_diagnosed_with:_[Type_1_diabetes]',\n",
       "       '[Prior_ADs]_Prior_to_my_firstoriginal_diagnosis_of_an_Autoimmune_Arthritis_disease,_I_was_diagnosed_with:_[Ulcerative_colitis]',\n",
       "       '[Prior_ADs]_Prior_to_my_firstoriginal_diagnosis_of_an_Autoimmune_Arthritis_disease,_I_was_diagnosed_with:_[Vasculitis]',\n",
       "       '[Prior_ADs]_Prior_to_my_firstoriginal_diagnosis_of_an_Autoimmune_Arthritis_disease,_I_was_diagnosed_with:_[Vitiligo]',\n",
       "       '[Prior_ADs]_Prior_to_my_firstoriginal_diagnosis_of_an_Autoimmune_Arthritis_disease,_I_was_diagnosed_with:_[Other_Autoimmune_Disease_]'],\n",
       "      dtype='object')"
      ]
     },
     "execution_count": 24,
     "metadata": {},
     "output_type": "execute_result"
    }
   ],
   "source": [
    "data900.columns[20:40]"
   ]
  },
  {
   "cell_type": "code",
   "execution_count": 25,
   "metadata": {},
   "outputs": [],
   "source": [
    "newColNames = {\n",
    "\n",
    "    '[Prior_ADs]_Prior_to_my_firstoriginal_diagnosis_of_an_Autoimmune_Arthritis_disease,_I_was_diagnosed_with:_[Graves’_disease]': 'Prior_AD_Gra',\n",
    "    '[Prior_ADs]_Prior_to_my_firstoriginal_diagnosis_of_an_Autoimmune_Arthritis_disease,_I_was_diagnosed_with:_[Hashimoto’s_thyroiditis]': 'Prior_AD_Has',\n",
    "    '[Prior_ADs]_Prior_to_my_firstoriginal_diagnosis_of_an_Autoimmune_Arthritis_disease,_I_was_diagnosed_with:_[Hughes_Syndrome]': 'Prior_AD_Hug',\n",
    "    '[Prior_ADs]_Prior_to_my_firstoriginal_diagnosis_of_an_Autoimmune_Arthritis_disease,_I_was_diagnosed_with:_[Interstitial_cystitis]': 'Prior_AD_Int',\n",
    "    '[Prior_ADs]_Prior_to_my_firstoriginal_diagnosis_of_an_Autoimmune_Arthritis_disease,_I_was_diagnosed_with:_[Lyme_disease,_chronic]': 'Prior_AD_Lym',\n",
    "    '[Prior_ADs]_Prior_to_my_firstoriginal_diagnosis_of_an_Autoimmune_Arthritis_disease,_I_was_diagnosed_with:_[Multiple_sclerosis]': 'Prior_AD_Mul',\n",
    "    '[Prior_ADs]_Prior_to_my_firstoriginal_diagnosis_of_an_Autoimmune_Arthritis_disease,_I_was_diagnosed_with:_[Myocarditis]': 'Prior_AD_Myoc',\n",
    "    '[Prior_ADs]_Prior_to_my_firstoriginal_diagnosis_of_an_Autoimmune_Arthritis_disease,_I_was_diagnosed_with:_[MyositisPolymyositis]': 'Prior_AD_Myos',\n",
    "    '[Prior_ADs]_Prior_to_my_firstoriginal_diagnosis_of_an_Autoimmune_Arthritis_disease,_I_was_diagnosed_with:_[Peripheral_neuropathy]': 'Prior_AD_Per',\n",
    "    '[Prior_ADs]_Prior_to_my_firstoriginal_diagnosis_of_an_Autoimmune_Arthritis_disease,_I_was_diagnosed_with:_[Polymyalgia_rheumatica]': 'Prior_AD_Pol',\n",
    "    '[Prior_ADs]_Prior_to_my_firstoriginal_diagnosis_of_an_Autoimmune_Arthritis_disease,_I_was_diagnosed_with:_[Reactive_ArthritisReiter’s_Syndrome]': 'Prior_AD_Rea',\n",
    "    '[Prior_ADs]_Prior_to_my_firstoriginal_diagnosis_of_an_Autoimmune_Arthritis_disease,_I_was_diagnosed_with:_[Sarcoidosis]': 'Prior_AD_Sarcoidosis',\n",
    "    '[Prior_ADs]_Prior_to_my_firstoriginal_diagnosis_of_an_Autoimmune_Arthritis_disease,_I_was_diagnosed_with:_[Scleritis]': 'Prior_AD_Scleritis',\n",
    "    '[Prior_ADs]_Prior_to_my_firstoriginal_diagnosis_of_an_Autoimmune_Arthritis_disease,_I_was_diagnosed_with:_[Scleroderma]': 'Prior_AD_Scleroderma',\n",
    "    '[Prior_ADs]_Prior_to_my_firstoriginal_diagnosis_of_an_Autoimmune_Arthritis_disease,_I_was_diagnosed_with:_[Thyroid_Disease]': 'Prior_AD_Thy',\n",
    "    '[Prior_ADs]_Prior_to_my_firstoriginal_diagnosis_of_an_Autoimmune_Arthritis_disease,_I_was_diagnosed_with:_[Type_1_diabetes]': 'Prior_AD_Type_1',\n",
    "    '[Prior_ADs]_Prior_to_my_firstoriginal_diagnosis_of_an_Autoimmune_Arthritis_disease,_I_was_diagnosed_with:_[Ulcerative_colitis]': 'Prior_AD_Ulcerative',\n",
    "    '[Prior_ADs]_Prior_to_my_firstoriginal_diagnosis_of_an_Autoimmune_Arthritis_disease,_I_was_diagnosed_with:_[Vasculitis]': 'Prior_AD_Vasculitis',\n",
    "    '[Prior_ADs]_Prior_to_my_firstoriginal_diagnosis_of_an_Autoimmune_Arthritis_disease,_I_was_diagnosed_with:_[Vitiligo]': 'Prior_AD_Vitiligo',\n",
    "    '[Prior_ADs]_Prior_to_my_firstoriginal_diagnosis_of_an_Autoimmune_Arthritis_disease,_I_was_diagnosed_with:_[Other_Autoimmune_Disease_]': 'Prior_AD_Other_AD'\n",
    "\n",
    "}\n",
    "data900.rename(columns=newColNames, inplace=True)"
   ]
  },
  {
   "cell_type": "code",
   "execution_count": 26,
   "metadata": {},
   "outputs": [
    {
     "data": {
      "text/plain": [
       "Index(['[Prior_ADs]_Prior_to_my_firstoriginal_diagnosis_of_an_Autoimmune_Arthritis_disease,_I_was_diagnosed_with:_[Other_Autoimmune_Disease_]_[text]',\n",
       "       '[Post_AD]_10._Since_your_firstoriginal_diagnosis_of_an_Autoimmune_Arthritis_disease,_have_you_ever_been_diagnosed_with_another_Autoimmune_Diseases_that_is_not_1_of_the_6_included_in_this_study_Rheumatoid_Arthritis,_Psoriatic_Arthritis,_Ankylosing_Spondylitis,_Sjögren’s_Syndrome,_Systemic_Lupus_Erythematosus,_and_Adult_Onset_Still’s_Disease?',\n",
       "       '[Post_ADs]_Since_my_firstoriginal_diagnosis_of_an_Autoimmune_Arthritis_disease,_I_was_diagnosed_with:_[Addison’s_disease]',\n",
       "       '[Post_ADs]_Since_my_firstoriginal_diagnosis_of_an_Autoimmune_Arthritis_disease,_I_was_diagnosed_with:_[Autoimmune_Hepatitis]',\n",
       "       '[Post_ADs]_Since_my_firstoriginal_diagnosis_of_an_Autoimmune_Arthritis_disease,_I_was_diagnosed_with:[Autoimmune_myocarditis]',\n",
       "       '[Post_ADs]_Since_my_firstoriginal_diagnosis_of_an_Autoimmune_Arthritis_disease,_I_was_diagnosed_with:_[Autoimmune_pancreatitis]',\n",
       "       '[Post_ADs]_Since_my_firstoriginal_diagnosis_of_an_Autoimmune_Arthritis_disease,_I_was_diagnosed_with:_[Behcet’s_disease]',\n",
       "       '[Post_ADs]_Since_my_firstoriginal_diagnosis_of_an_Autoimmune_Arthritis_disease,_I_was_diagnosed_with:_[Celiac_disease]',\n",
       "       '[Post_ADs]_Since_my_firstoriginal_diagnosis_of_an_Autoimmune_Arthritis_disease,_I_was_diagnosed_with:_[Crohn’s_disease]',\n",
       "       '[Post_ADs]_Since_my_firstoriginal_diagnosis_of_an_Autoimmune_Arthritis_disease,_I_was_diagnosed_with:_[CREST_disease]',\n",
       "       '[Post_ADs]_Since_my_firstoriginal_diagnosis_of_an_Autoimmune_Arthritis_disease,_I_was_diagnosed_with:_[Dermatomyositis]',\n",
       "       '[Post_ADs]_Since_my_firstoriginal_diagnosis_of_an_Autoimmune_Arthritis_disease,_I_was_diagnosed_with:_[Discoid_lupus]',\n",
       "       '[Post_ADs]_Since_my_firstoriginal_diagnosis_of_an_Autoimmune_Arthritis_disease,_I_was_diagnosed_with:_[Endometriosis]',\n",
       "       '[Post_ADs]_Since_my_firstoriginal_diagnosis_of_an_Autoimmune_Arthritis_disease,_I_was_diagnosed_with:_[Hashimoto’s_thyroiditis]',\n",
       "       '[Post_ADs]_Since_my_firstoriginal_diagnosis_of_an_Autoimmune_Arthritis_disease,_I_was_diagnosed_with:_[Hughes_Syndrome]',\n",
       "       '[Post_ADs]_Since_my_firstoriginal_diagnosis_of_an_Autoimmune_Arthritis_disease,_I_was_diagnosed_with:_[Interstitial_cystitis]',\n",
       "       '[Post_ADs]_Since_my_firstoriginal_diagnosis_of_an_Autoimmune_Arthritis_disease,_I_was_diagnosed_with:_[Lyme_disease,_chronic]',\n",
       "       '[Post_ADs]_Since_my_firstoriginal_diagnosis_of_an_Autoimmune_Arthritis_disease,_I_was_diagnosed_with:_[MyositisPolymyositis]',\n",
       "       '[Post_ADs]_Since_my_firstoriginal_diagnosis_of_an_Autoimmune_Arthritis_disease,_I_was_diagnosed_with:_[Palindromic_rheumatism]',\n",
       "       '[Post_ADs]_Since_my_firstoriginal_diagnosis_of_an_Autoimmune_Arthritis_disease,_I_was_diagnosed_with:_[Peripheral_neuropathy]'],\n",
       "      dtype='object')"
      ]
     },
     "execution_count": 26,
     "metadata": {},
     "output_type": "execute_result"
    }
   ],
   "source": [
    "data900.columns[40:60]"
   ]
  },
  {
   "cell_type": "code",
   "execution_count": 27,
   "metadata": {},
   "outputs": [],
   "source": [
    "newColNames = {\n",
    "    \n",
    "    '[Prior_ADs]_Prior_to_my_firstoriginal_diagnosis_of_an_Autoimmune_Arthritis_disease,_I_was_diagnosed_with:_[Other_Autoimmune_Disease_]_[text]': 'Prior_AD_Other_AD_Text',\n",
    "    '[Post_AD]_10._Since_your_firstoriginal_diagnosis_of_an_Autoimmune_Arthritis_disease,_have_you_ever_been_diagnosed_with_another_Autoimmune_Diseases_that_is_not_1_of_the_6_included_in_this_study_Rheumatoid_Arthritis,_Psoriatic_Arthritis,_Ankylosing_Spondylitis,_Sjögren’s_Syndrome,_Systemic_Lupus_Erythematosus,_and_Adult_Onset_Still’s_Disease?': 'Post_AD_',\n",
    "    '[Post_ADs]_Since_my_firstoriginal_diagnosis_of_an_Autoimmune_Arthritis_disease,_I_was_diagnosed_with:_[Addison’s_disease]': 'Post_AD_Addison',\n",
    "    '[Post_ADs]_Since_my_firstoriginal_diagnosis_of_an_Autoimmune_Arthritis_disease,_I_was_diagnosed_with:_[Autoimmune_Hepatitis]': 'Post_AD_Hep',\n",
    "    '[Post_ADs]_Since_my_firstoriginal_diagnosis_of_an_Autoimmune_Arthritis_disease,_I_was_diagnosed_with:[Autoimmune_myocarditis]': 'Post_AD_Myo',\n",
    "    '[Post_ADs]_Since_my_firstoriginal_diagnosis_of_an_Autoimmune_Arthritis_disease,_I_was_diagnosed_with:_[Autoimmune_pancreatitis]': 'Post_AD_Pan',\n",
    "    '[Post_ADs]_Since_my_firstoriginal_diagnosis_of_an_Autoimmune_Arthritis_disease,_I_was_diagnosed_with:_[Behcet’s_disease]': 'Post_AD_Beh',\n",
    "    '[Post_ADs]_Since_my_firstoriginal_diagnosis_of_an_Autoimmune_Arthritis_disease,_I_was_diagnosed_with:_[Celiac_disease]': 'Post_AD_Cel',\n",
    "    '[Post_ADs]_Since_my_firstoriginal_diagnosis_of_an_Autoimmune_Arthritis_disease,_I_was_diagnosed_with:_[Crohn’s_disease]': 'Post_AD_Cro',\n",
    "    '[Post_ADs]_Since_my_firstoriginal_diagnosis_of_an_Autoimmune_Arthritis_disease,_I_was_diagnosed_with:_[CREST_disease]': 'Post_AD_CRE',\n",
    "    '[Post_ADs]_Since_my_firstoriginal_diagnosis_of_an_Autoimmune_Arthritis_disease,_I_was_diagnosed_with:_[Dermatomyositis]': 'Post_AD_Derma',\n",
    "    '[Post_ADs]_Since_my_firstoriginal_diagnosis_of_an_Autoimmune_Arthritis_disease,_I_was_diagnosed_with:_[Discoid_lupus]': 'Post_AD_Dis',\n",
    "    '[Post_ADs]_Since_my_firstoriginal_diagnosis_of_an_Autoimmune_Arthritis_disease,_I_was_diagnosed_with:_[Endometriosis]': 'Post_AD_End',\n",
    "    '[Post_ADs]_Since_my_firstoriginal_diagnosis_of_an_Autoimmune_Arthritis_disease,_I_was_diagnosed_with:_[Hashimoto’s_thyroiditis]': 'Post_AD_Has',\n",
    "    '[Post_ADs]_Since_my_firstoriginal_diagnosis_of_an_Autoimmune_Arthritis_disease,_I_was_diagnosed_with:_[Hughes_Syndrome]': 'Post_AD_Hug',\n",
    "    '[Post_ADs]_Since_my_firstoriginal_diagnosis_of_an_Autoimmune_Arthritis_disease,_I_was_diagnosed_with:_[Interstitial_cystitis]': 'Post_AD_Has',\n",
    "    '[Post_ADs]_Since_my_firstoriginal_diagnosis_of_an_Autoimmune_Arthritis_disease,_I_was_diagnosed_with:_[Lyme_disease,_chronic]': 'Post_AD_Lym',\n",
    "    '[Post_ADs]_Since_my_firstoriginal_diagnosis_of_an_Autoimmune_Arthritis_disease,_I_was_diagnosed_with:_[MyositisPolymyositis]': 'Post_AD_MyoPol',\n",
    "    '[Post_ADs]_Since_my_firstoriginal_diagnosis_of_an_Autoimmune_Arthritis_disease,_I_was_diagnosed_with:_[Palindromic_rheumatism]': 'Post_AD_Pal',\n",
    "    '[Post_ADs]_Since_my_firstoriginal_diagnosis_of_an_Autoimmune_Arthritis_disease,_I_was_diagnosed_with:_[Peripheral_neuropathy]': 'Post_AD_Per'\n",
    "}\n",
    "data900.rename(columns=newColNames, inplace=True)"
   ]
  },
  {
   "cell_type": "code",
   "execution_count": 28,
   "metadata": {},
   "outputs": [
    {
     "data": {
      "text/plain": [
       "Index(['[Post_ADs]_Since_my_firstoriginal_diagnosis_of_an_Autoimmune_Arthritis_disease,_I_was_diagnosed_with:_[Polymyalgia_rheumatica]',\n",
       "       '[Post_ADs]_Since_my_firstoriginal_diagnosis_of_an_Autoimmune_Arthritis_disease,_I_was_diagnosed_with:_[Reactive_ArthritisReiter’s_Syndrome]',\n",
       "       '[Post_ADs]_Since_my_firstoriginal_diagnosis_of_an_Autoimmune_Arthritis_disease,_I_was_diagnosed_with:_[Relapsing_polychondritis]',\n",
       "       '[Post_ADs]_Since_my_firstoriginal_diagnosis_of_an_Autoimmune_Arthritis_disease,_I_was_diagnosed_with:_[Scleritis]',\n",
       "       '[Post_ADs]_Since_my_firstoriginal_diagnosis_of_an_Autoimmune_Arthritis_disease,_I_was_diagnosed_with:_[Scleroderma]',\n",
       "       '[Post_ADs]_Since_my_firstoriginal_diagnosis_of_an_Autoimmune_Arthritis_disease,_I_was_diagnosed_with:_[Thyroid_Disease]',\n",
       "       '[Post_ADs]_Since_my_firstoriginal_diagnosis_of_an_Autoimmune_Arthritis_disease,_I_was_diagnosed_with:_[Type_1_diabetes]',\n",
       "       '[Post_ADs]_Since_my_firstoriginal_diagnosis_of_an_Autoimmune_Arthritis_disease,_I_was_diagnosed_with:_[Ulcerative_colitis]',\n",
       "       '[Post_ADs]_Since_my_firstoriginal_diagnosis_of_an_Autoimmune_Arthritis_disease,_I_was_diagnosed_with:_[Vasculitis]',\n",
       "       '[Post_ADs]_Since_my_firstoriginal_diagnosis_of_an_Autoimmune_Arthritis_disease,_I_was_diagnosed_with:_[Vitiligo]',\n",
       "       '[Post_ADs]_Since_my_firstoriginal_diagnosis_of_an_Autoimmune_Arthritis_disease,_I_was_diagnosed_with:_[Other_Autoimmune_Disease]',\n",
       "       '[Post_ADs]_Since_my_firstoriginal_diagnosis_of_an_Autoimmune_Arthritis_disease,_I_was_diagnosed_with:_[Other_Autoimmune_Disease]_[text]',\n",
       "       '[Add_AAdx]_11._Since_your_original_diagnosis_of_an_Autoimmune_Arthritis_disease,_have_you_been_diagnosed_with_any_additional_or_secondary_Autoimmune_Arthritis_Diseases_Rheumatoid_Arthritis,_Psoriatic_Arthritis,_Ankylosing_Spondylitis,_Sjögren’s_Syndrome,_Systemic_Lupus_Erythematosus,_and_Adult_Onset_Still’s_Disease_in_addition_to_your_initial_diagnosis?',\n",
       "       '[Add_AAdxRA]', '[Add_AAdxRADate]', 'Add_AAdxPsA', 'Add_AAdxPsADate',\n",
       "       'Add_AAdxSLE', 'Add_AAdxSLEdate', 'Add_AAdxSS'],\n",
       "      dtype='object')"
      ]
     },
     "execution_count": 28,
     "metadata": {},
     "output_type": "execute_result"
    }
   ],
   "source": [
    "data900.columns[60:80]"
   ]
  },
  {
   "cell_type": "code",
   "execution_count": 29,
   "metadata": {},
   "outputs": [],
   "source": [
    "newColNames = {\n",
    "    '[Post_ADs]_Since_my_firstoriginal_diagnosis_of_an_Autoimmune_Arthritis_disease,_I_was_diagnosed_with:_[Polymyalgia_rheumatica]': 'Post_AD_Pol',\n",
    "    '[Post_ADs]_Since_my_firstoriginal_diagnosis_of_an_Autoimmune_Arthritis_disease,_I_was_diagnosed_with:_[Reactive_ArthritisReiter’s_Syndrome]': 'Post_AD_Rea',\n",
    "    '[Post_ADs]_Since_my_firstoriginal_diagnosis_of_an_Autoimmune_Arthritis_disease,_I_was_diagnosed_with:_[Relapsing_polychondritis]': 'Post_AD_Rel',\n",
    "    '[Post_ADs]_Since_my_firstoriginal_diagnosis_of_an_Autoimmune_Arthritis_disease,_I_was_diagnosed_with:_[Scleritis]': 'Post_AD_Scleritis',\n",
    "    '[Post_ADs]_Since_my_firstoriginal_diagnosis_of_an_Autoimmune_Arthritis_disease,_I_was_diagnosed_with:_[Scleroderma]': 'Post_AD_Scleroderma',\n",
    "    '[Post_ADs]_Since_my_firstoriginal_diagnosis_of_an_Autoimmune_Arthritis_disease,_I_was_diagnosed_with:_[Thyroid_Disease]': 'Post_AD_Thy',\n",
    "    '[Post_ADs]_Since_my_firstoriginal_diagnosis_of_an_Autoimmune_Arthritis_disease,_I_was_diagnosed_with:_[Type_1_diabetes]': 'Post_AD_Type_1',\n",
    "    '[Post_ADs]_Since_my_firstoriginal_diagnosis_of_an_Autoimmune_Arthritis_disease,_I_was_diagnosed_with:_[Ulcerative_colitis]': 'Post_AD_Ulcerative',\n",
    "    '[Post_ADs]_Since_my_firstoriginal_diagnosis_of_an_Autoimmune_Arthritis_disease,_I_was_diagnosed_with:_[Vasculitis]': 'Post_AD_Vasculitis',\n",
    "    '[Post_ADs]_Since_my_firstoriginal_diagnosis_of_an_Autoimmune_Arthritis_disease,_I_was_diagnosed_with:_[Vitiligo]': 'Post_AD_Vitiligo',\n",
    "    '[Post_ADs]_Since_my_firstoriginal_diagnosis_of_an_Autoimmune_Arthritis_disease,_I_was_diagnosed_with:_[Other_Autoimmune_Disease]': 'Post_AD_Other_AD',\n",
    "    '[Post_ADs]_Since_my_firstoriginal_diagnosis_of_an_Autoimmune_Arthritis_disease,_I_was_diagnosed_with:_[Other_Autoimmune_Disease]_[text]': 'Post_AD_Other_AD_Text',\n",
    "    '[Add_AAdx]_11._Since_your_original_diagnosis_of_an_Autoimmune_Arthritis_disease,_have_you_been_diagnosed_with_any_additional_or_secondary_Autoimmune_Arthritis_Diseases_Rheumatoid_Arthritis,_Psoriatic_Arthritis,_Ankylosing_Spondylitis,_Sjögren’s_Syndrome,_Systemic_Lupus_Erythematosus,_and_Adult_Onset_Still’s_Disease_in_addition_to_your_initial_diagnosis?': 'Add_AAdx_11',\n",
    "    '[Add_AAdxRA]': 'Add_AAdxRA', '[Add_AAdxRADate]': 'Add_AAdxRADate'\n",
    "\n",
    "}\n",
    "data900.rename(columns=newColNames, inplace=True)"
   ]
  },
  {
   "cell_type": "code",
   "execution_count": 33,
   "metadata": {},
   "outputs": [
    {
     "data": {
      "text/plain": [
       "Index(['Add_AAdxSSdate', 'Add_AAdxSD', 'Add_AAdxSDdate', 'Add_AAdxAS',\n",
       "       'Add_AAdxASdate', 'Fibro_dx', 'Fibro_dxdate', 'CFSyndrome',\n",
       "       'Raynauds_14', 'Relatives_AD', 'Injury', 'Mental_Stressors',\n",
       "       'Prior_virus', 'Virus', 'Infection', 'Pneumonia', 'Bronchitis',\n",
       "       'Virus_Uncertain', 'Virus_Other', 'Virus_Other_Text'],\n",
       "      dtype='object')"
      ]
     },
     "execution_count": 33,
     "metadata": {},
     "output_type": "execute_result"
    }
   ],
   "source": [
    "data900.columns[80:100]"
   ]
  },
  {
   "cell_type": "code",
   "execution_count": 31,
   "metadata": {},
   "outputs": [],
   "source": [
    "newColNames = {\n",
    "\n",
    "    '[CFSyndrome]': 'CFSyndrome',\n",
    "    '[Raynauds]_14._Prior_to_your_original_diagnosis_of_an_Autoimmune_Arthritis_disease,_were_you_diagnosed_with_Raynaud’s_Phenomenon?': 'Raynauds_14',\n",
    "    '[Relatives_AD]': 'Relatives_AD', '[Mental_Stressors]': 'Mental_Stressors', '[Prior_virus]': 'Prior_virus',\n",
    "    '[Virus]': 'Virus', '[Infection]': 'Infection', '[Pneumonia]': 'Pneumonia', '[Bronchitis]': 'Bronchitis',\n",
    "    '[Virus_Uncertain': 'Virus_Uncertain', '[Virus_[Other]': 'Virus_Other', '[Virus_[Other]_[text]': 'Virus_Other_Text'\n",
    "\n",
    "}\n",
    "data900.rename(columns=newColNames, inplace=True)"
   ]
  },
  {
   "cell_type": "code",
   "execution_count": 38,
   "metadata": {},
   "outputs": [
    {
     "data": {
      "text/plain": [
       "Index(['Give_Birth', 'First_onset_visit', 'First_onset_visit_other',\n",
       "       'first_dr_response', 'first_dr_response_injury',\n",
       "       'first_dr_response_young', 'first_dr_response_young',\n",
       "       'first_dr_response_nothing_wrong', 'first_dr_response_Other',\n",
       "       'first_dr_response_Other_Text', 'first_dr_response_none',\n",
       "       'referral_time_mos', 'num_specialists_unrelated',\n",
       "       'Num_Rheum_Immun_todx', 'Lankle_0_12', 'Rankle_0_12', 'Lknee_0_12',\n",
       "       'Rknee_0_12', 'Lelb_0_12', 'Relb_0_12'],\n",
       "      dtype='object')"
      ]
     },
     "execution_count": 38,
     "metadata": {},
     "output_type": "execute_result"
    }
   ],
   "source": [
    "data900.columns[100:120]"
   ]
  },
  {
   "cell_type": "code",
   "execution_count": 37,
   "metadata": {},
   "outputs": [],
   "source": [
    "newColNames = {\n",
    "\n",
    "    '[Give_Birth]': 'Give_Birth', \n",
    "    '[First_onset_visit]': 'First_onset_visit',\n",
    "    '[First_onset_visit]_23.\\tWhen_did_you_first_visit_your_primary_care_doctor,_health_specialist,_or_hospital_after_experiencing_your_initial_onset_symptoms?__[other]': 'First_onset_visit_other',\n",
    "    '[first_dr_response]': 'first_dr_response', \n",
    "    '[first_dr_response_young': 'first_dr_response_young', \n",
    "    '[first_dr_response_nosymptoms':'first_dr_response_young',\n",
    "    '[first_dr_response_nothing_wrong': 'first_dr_response_nothing_wrong', \n",
    "    '[first_dr_response_Other]': 'first_dr_response_Other',\n",
    "    '[first_dr_response_Othertext]': 'first_dr_response_Other_Text',\n",
    "    '[first_dr_response]_24.\\tDuring_your_first_visit_to_discuss_your_initial_symptoms,_whether_with_your_primary_care_doctor_or_the_hospital,_were_you_told_any_of_the_statements_below_by_the_doctor_treating_your_case?__[None_of_these_apply]': 'first_dr_response_none',\n",
    "    '[referral_time_mos': 'referral_time_mos', \n",
    "    '[num_specialists_unrelated': 'num_specialists_unrelated',\n",
    "    '[Num_Rheum_Immun_todx]': 'Num_Rheum_Immun_todx'\n",
    "    \n",
    "}\n",
    "data900.rename(columns=newColNames, inplace=True)"
   ]
  },
  {
   "cell_type": "code",
   "execution_count": null,
   "metadata": {},
   "outputs": [],
   "source": []
  }
 ],
 "metadata": {
  "kernelspec": {
   "display_name": "Python 3",
   "language": "python",
   "name": "python3"
  },
  "language_info": {
   "codemirror_mode": {
    "name": "ipython",
    "version": 3
   },
   "file_extension": ".py",
   "mimetype": "text/x-python",
   "name": "python",
   "nbconvert_exporter": "python",
   "pygments_lexer": "ipython3",
   "version": "3.6.6"
  }
 },
 "nbformat": 4,
 "nbformat_minor": 2
}
